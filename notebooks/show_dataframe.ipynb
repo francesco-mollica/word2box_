{
 "cells": [
  {
   "cell_type": "code",
   "execution_count": 2,
   "metadata": {},
   "outputs": [
    {
     "name": "stdout",
     "output_type": "stream",
     "text": [
      "Requirement already satisfied: qgrid==1.3.0 in /home/fmollica/.local/lib/python3.8/site-packages (1.3.0)\n",
      "Requirement already satisfied: ipywidgets>=7.0.0 in /home/fmollica/.local/lib/python3.8/site-packages (from qgrid==1.3.0) (7.6.5)\n",
      "Requirement already satisfied: notebook>=4.0.0 in /home/fmollica/.local/lib/python3.8/site-packages (from qgrid==1.3.0) (6.4.6)\n",
      "Requirement already satisfied: pandas>=0.18.0 in /home/fmollica/.local/lib/python3.8/site-packages (from qgrid==1.3.0) (1.3.4)\n",
      "Requirement already satisfied: ipython-genutils~=0.2.0 in /home/fmollica/.local/lib/python3.8/site-packages (from ipywidgets>=7.0.0->qgrid==1.3.0) (0.2.0)\n",
      "Requirement already satisfied: ipython>=4.0.0; python_version >= \"3.3\" in /home/fmollica/.local/lib/python3.8/site-packages (from ipywidgets>=7.0.0->qgrid==1.3.0) (7.29.0)\n",
      "Requirement already satisfied: traitlets>=4.3.1 in /home/fmollica/.local/lib/python3.8/site-packages (from ipywidgets>=7.0.0->qgrid==1.3.0) (5.1.1)\n",
      "Requirement already satisfied: nbformat>=4.2.0 in /home/fmollica/.local/lib/python3.8/site-packages (from ipywidgets>=7.0.0->qgrid==1.3.0) (5.1.3)\n",
      "Requirement already satisfied: ipykernel>=4.5.1 in /home/fmollica/.local/lib/python3.8/site-packages (from ipywidgets>=7.0.0->qgrid==1.3.0) (6.5.1)\n",
      "Requirement already satisfied: widgetsnbextension~=3.5.0 in /home/fmollica/.local/lib/python3.8/site-packages (from ipywidgets>=7.0.0->qgrid==1.3.0) (3.5.2)\n",
      "Requirement already satisfied: jupyterlab-widgets>=1.0.0; python_version >= \"3.6\" in /home/fmollica/.local/lib/python3.8/site-packages (from ipywidgets>=7.0.0->qgrid==1.3.0) (1.0.2)\n",
      "Requirement already satisfied: jupyter-client>=5.3.4 in /home/fmollica/.local/lib/python3.8/site-packages (from notebook>=4.0.0->qgrid==1.3.0) (7.1.0)\n",
      "Requirement already satisfied: tornado>=6.1 in /home/fmollica/.local/lib/python3.8/site-packages (from notebook>=4.0.0->qgrid==1.3.0) (6.1)\n",
      "Requirement already satisfied: Send2Trash>=1.8.0 in /home/fmollica/.local/lib/python3.8/site-packages (from notebook>=4.0.0->qgrid==1.3.0) (1.8.0)\n",
      "Requirement already satisfied: jinja2 in /home/fmollica/.local/lib/python3.8/site-packages (from notebook>=4.0.0->qgrid==1.3.0) (3.0.3)\n",
      "Requirement already satisfied: nbconvert in /home/fmollica/.local/lib/python3.8/site-packages (from notebook>=4.0.0->qgrid==1.3.0) (6.3.0)\n",
      "Requirement already satisfied: pyzmq>=17 in /home/fmollica/.local/lib/python3.8/site-packages (from notebook>=4.0.0->qgrid==1.3.0) (22.3.0)\n",
      "Requirement already satisfied: terminado>=0.8.3 in /home/fmollica/.local/lib/python3.8/site-packages (from notebook>=4.0.0->qgrid==1.3.0) (0.12.1)\n",
      "Requirement already satisfied: argon2-cffi in /home/fmollica/.local/lib/python3.8/site-packages (from notebook>=4.0.0->qgrid==1.3.0) (21.1.0)\n",
      "Requirement already satisfied: prometheus-client in /home/fmollica/.local/lib/python3.8/site-packages (from notebook>=4.0.0->qgrid==1.3.0) (0.12.0)\n",
      "Requirement already satisfied: nest-asyncio>=1.5 in /home/fmollica/.local/lib/python3.8/site-packages (from notebook>=4.0.0->qgrid==1.3.0) (1.5.1)\n",
      "Requirement already satisfied: jupyter-core>=4.6.1 in /home/fmollica/.local/lib/python3.8/site-packages (from notebook>=4.0.0->qgrid==1.3.0) (4.9.1)\n",
      "Requirement already satisfied: python-dateutil>=2.7.3 in /usr/lib/python3/dist-packages (from pandas>=0.18.0->qgrid==1.3.0) (2.7.3)\n",
      "Requirement already satisfied: pytz>=2017.3 in /usr/lib/python3/dist-packages (from pandas>=0.18.0->qgrid==1.3.0) (2019.3)\n",
      "Requirement already satisfied: numpy>=1.17.3; platform_machine != \"aarch64\" and platform_machine != \"arm64\" and python_version < \"3.10\" in /home/fmollica/.local/lib/python3.8/site-packages (from pandas>=0.18.0->qgrid==1.3.0) (1.19.5)\n",
      "Requirement already satisfied: prompt-toolkit!=3.0.0,!=3.0.1,<3.1.0,>=2.0.0 in /home/fmollica/.local/lib/python3.8/site-packages (from ipython>=4.0.0; python_version >= \"3.3\"->ipywidgets>=7.0.0->qgrid==1.3.0) (3.0.22)\n",
      "Requirement already satisfied: pygments in /home/fmollica/.local/lib/python3.8/site-packages (from ipython>=4.0.0; python_version >= \"3.3\"->ipywidgets>=7.0.0->qgrid==1.3.0) (2.10.0)\n",
      "Requirement already satisfied: backcall in /home/fmollica/.local/lib/python3.8/site-packages (from ipython>=4.0.0; python_version >= \"3.3\"->ipywidgets>=7.0.0->qgrid==1.3.0) (0.2.0)\n",
      "Requirement already satisfied: pexpect>4.3; sys_platform != \"win32\" in /usr/lib/python3/dist-packages (from ipython>=4.0.0; python_version >= \"3.3\"->ipywidgets>=7.0.0->qgrid==1.3.0) (4.6.0)\n",
      "Requirement already satisfied: setuptools>=18.5 in /usr/lib/python3/dist-packages (from ipython>=4.0.0; python_version >= \"3.3\"->ipywidgets>=7.0.0->qgrid==1.3.0) (45.2.0)\n",
      "Requirement already satisfied: pickleshare in /home/fmollica/.local/lib/python3.8/site-packages (from ipython>=4.0.0; python_version >= \"3.3\"->ipywidgets>=7.0.0->qgrid==1.3.0) (0.7.5)\n",
      "Requirement already satisfied: decorator in /home/fmollica/.local/lib/python3.8/site-packages (from ipython>=4.0.0; python_version >= \"3.3\"->ipywidgets>=7.0.0->qgrid==1.3.0) (5.1.0)\n",
      "Requirement already satisfied: matplotlib-inline in /home/fmollica/.local/lib/python3.8/site-packages (from ipython>=4.0.0; python_version >= \"3.3\"->ipywidgets>=7.0.0->qgrid==1.3.0) (0.1.3)\n",
      "Requirement already satisfied: jedi>=0.16 in /home/fmollica/.local/lib/python3.8/site-packages (from ipython>=4.0.0; python_version >= \"3.3\"->ipywidgets>=7.0.0->qgrid==1.3.0) (0.18.1)\n",
      "Requirement already satisfied: jsonschema!=2.5.0,>=2.4 in /home/fmollica/.local/lib/python3.8/site-packages (from nbformat>=4.2.0->ipywidgets>=7.0.0->qgrid==1.3.0) (4.2.1)\n",
      "Requirement already satisfied: debugpy<2.0,>=1.0.0 in /home/fmollica/.local/lib/python3.8/site-packages (from ipykernel>=4.5.1->ipywidgets>=7.0.0->qgrid==1.3.0) (1.5.1)\n",
      "Requirement already satisfied: entrypoints in /usr/lib/python3/dist-packages (from jupyter-client>=5.3.4->notebook>=4.0.0->qgrid==1.3.0) (0.3)\n",
      "Requirement already satisfied: MarkupSafe>=2.0 in /home/fmollica/.local/lib/python3.8/site-packages (from jinja2->notebook>=4.0.0->qgrid==1.3.0) (2.0.1)\n",
      "Requirement already satisfied: jupyterlab-pygments in /home/fmollica/.local/lib/python3.8/site-packages (from nbconvert->notebook>=4.0.0->qgrid==1.3.0) (0.1.2)\n",
      "Requirement already satisfied: mistune<2,>=0.8.1 in /home/fmollica/.local/lib/python3.8/site-packages (from nbconvert->notebook>=4.0.0->qgrid==1.3.0) (0.8.4)\n",
      "Requirement already satisfied: pandocfilters>=1.4.1 in /home/fmollica/.local/lib/python3.8/site-packages (from nbconvert->notebook>=4.0.0->qgrid==1.3.0) (1.5.0)\n",
      "Requirement already satisfied: nbclient<0.6.0,>=0.5.0 in /home/fmollica/.local/lib/python3.8/site-packages (from nbconvert->notebook>=4.0.0->qgrid==1.3.0) (0.5.9)\n",
      "Requirement already satisfied: defusedxml in /home/fmollica/.local/lib/python3.8/site-packages (from nbconvert->notebook>=4.0.0->qgrid==1.3.0) (0.7.1)\n",
      "Requirement already satisfied: bleach in /home/fmollica/.local/lib/python3.8/site-packages (from nbconvert->notebook>=4.0.0->qgrid==1.3.0) (4.1.0)\n",
      "Requirement already satisfied: testpath in /home/fmollica/.local/lib/python3.8/site-packages (from nbconvert->notebook>=4.0.0->qgrid==1.3.0) (0.5.0)\n",
      "Requirement already satisfied: ptyprocess; os_name != \"nt\" in /home/fmollica/.local/lib/python3.8/site-packages (from terminado>=0.8.3->notebook>=4.0.0->qgrid==1.3.0) (0.7.0)\n",
      "Requirement already satisfied: cffi>=1.0.0 in /home/fmollica/.local/lib/python3.8/site-packages (from argon2-cffi->notebook>=4.0.0->qgrid==1.3.0) (1.15.0)\n",
      "Requirement already satisfied: wcwidth in /home/fmollica/.local/lib/python3.8/site-packages (from prompt-toolkit!=3.0.0,!=3.0.1,<3.1.0,>=2.0.0->ipython>=4.0.0; python_version >= \"3.3\"->ipywidgets>=7.0.0->qgrid==1.3.0) (0.2.5)\n",
      "Requirement already satisfied: parso<0.9.0,>=0.8.0 in /home/fmollica/.local/lib/python3.8/site-packages (from jedi>=0.16->ipython>=4.0.0; python_version >= \"3.3\"->ipywidgets>=7.0.0->qgrid==1.3.0) (0.8.2)\n",
      "Requirement already satisfied: attrs>=17.4.0 in /home/fmollica/.local/lib/python3.8/site-packages (from jsonschema!=2.5.0,>=2.4->nbformat>=4.2.0->ipywidgets>=7.0.0->qgrid==1.3.0) (21.2.0)\n",
      "Requirement already satisfied: pyrsistent!=0.17.0,!=0.17.1,!=0.17.2,>=0.14.0 in /home/fmollica/.local/lib/python3.8/site-packages (from jsonschema!=2.5.0,>=2.4->nbformat>=4.2.0->ipywidgets>=7.0.0->qgrid==1.3.0) (0.18.0)\n",
      "Requirement already satisfied: importlib-resources>=1.4.0; python_version < \"3.9\" in /home/fmollica/.local/lib/python3.8/site-packages (from jsonschema!=2.5.0,>=2.4->nbformat>=4.2.0->ipywidgets>=7.0.0->qgrid==1.3.0) (5.4.0)\n",
      "Requirement already satisfied: six>=1.9.0 in /usr/lib/python3/dist-packages (from bleach->nbconvert->notebook>=4.0.0->qgrid==1.3.0) (1.14.0)\n",
      "Requirement already satisfied: packaging in /home/fmollica/.local/lib/python3.8/site-packages (from bleach->nbconvert->notebook>=4.0.0->qgrid==1.3.0) (21.3)\n",
      "Requirement already satisfied: webencodings in /home/fmollica/.local/lib/python3.8/site-packages (from bleach->nbconvert->notebook>=4.0.0->qgrid==1.3.0) (0.5.1)\n",
      "Requirement already satisfied: pycparser in /home/fmollica/.local/lib/python3.8/site-packages (from cffi>=1.0.0->argon2-cffi->notebook>=4.0.0->qgrid==1.3.0) (2.21)\n",
      "Requirement already satisfied: zipp>=3.1.0; python_version < \"3.10\" in /home/fmollica/.local/lib/python3.8/site-packages (from importlib-resources>=1.4.0; python_version < \"3.9\"->jsonschema!=2.5.0,>=2.4->nbformat>=4.2.0->ipywidgets>=7.0.0->qgrid==1.3.0) (3.6.0)\n",
      "Requirement already satisfied: pyparsing!=3.0.5,>=2.0.2 in /home/fmollica/.local/lib/python3.8/site-packages (from packaging->bleach->nbconvert->notebook>=4.0.0->qgrid==1.3.0) (3.0.6)\n",
      "Note: you may need to restart the kernel to use updated packages.\n"
     ]
    }
   ],
   "source": [
    "%pip install qgrid==1.3.0 "
   ]
  },
  {
   "cell_type": "code",
   "execution_count": 1,
   "metadata": {},
   "outputs": [
    {
     "data": {
      "application/vnd.jupyter.widget-view+json": {
       "model_id": "a18c095c7c9a4fc0808fabb8c08a8602",
       "version_major": 2,
       "version_minor": 0
      },
      "text/plain": [
       "QgridWidget(grid_options={'fullWidthRows': True, 'syncColumnCellResize': True, 'forceFitColumns': True, 'defau…"
      ]
     },
     "metadata": {},
     "output_type": "display_data"
    }
   ],
   "source": [
    "import pandas as pd\n",
    "import pickle\n",
    "import sys\n",
    "import qgrid\n",
    "sys.path.append(\"../\")\n",
    "\n",
    "RANGE = str(36718)\n",
    "epochs = str(5)\n",
    "min_count = str(50)\n",
    "batch_size = str(16)\n",
    "embed_dim = str(2)\n",
    "lr = str(0.001)\n",
    "window = str(5)\n",
    "neg_count = str(5)\n",
    "\n",
    "folder = \"weights/skipgram_WikiText2\"\n",
    "model_path = (\"/epochs_\" + epochs + \"_min_count_\" + min_count + \"_batch_size_\"  + batch_size \n",
    "+ \"_embed_dim_\" +  embed_dim + \"_lr_\" + lr + \"_window_\" + window + \"_neg_count_\" + neg_count)\n",
    "\n",
    "folder_final = folder + model_path\n",
    "df = pd.read_pickle(f'../{folder_final}/dataframe.pkl')\n",
    "\n",
    "widget = qgrid.show_grid(df)\n",
    "widget"
   ]
  },
  {
   "cell_type": "code",
   "execution_count": 6,
   "metadata": {},
   "outputs": [
    {
     "data": {
      "text/html": [
       "<div>\n",
       "<style scoped>\n",
       "    .dataframe tbody tr th:only-of-type {\n",
       "        vertical-align: middle;\n",
       "    }\n",
       "\n",
       "    .dataframe tbody tr th {\n",
       "        vertical-align: top;\n",
       "    }\n",
       "\n",
       "    .dataframe thead th {\n",
       "        text-align: right;\n",
       "    }\n",
       "</style>\n",
       "<table border=\"1\" class=\"dataframe\">\n",
       "  <thead>\n",
       "    <tr style=\"text-align: right;\">\n",
       "      <th></th>\n",
       "      <th>index</th>\n",
       "      <th>word1</th>\n",
       "      <th>word2</th>\n",
       "      <th>similarity</th>\n",
       "    </tr>\n",
       "  </thead>\n",
       "  <tbody>\n",
       "    <tr>\n",
       "      <th>0</th>\n",
       "      <td>0</td>\n",
       "      <td>sun-n</td>\n",
       "      <td>sunlight-n</td>\n",
       "      <td>50.0</td>\n",
       "    </tr>\n",
       "    <tr>\n",
       "      <th>1</th>\n",
       "      <td>1</td>\n",
       "      <td>automobile-n</td>\n",
       "      <td>car-n</td>\n",
       "      <td>50.0</td>\n",
       "    </tr>\n",
       "    <tr>\n",
       "      <th>2</th>\n",
       "      <td>2</td>\n",
       "      <td>river-n</td>\n",
       "      <td>water-n</td>\n",
       "      <td>49.0</td>\n",
       "    </tr>\n",
       "    <tr>\n",
       "      <th>3</th>\n",
       "      <td>3</td>\n",
       "      <td>stair-n</td>\n",
       "      <td>staircase-n</td>\n",
       "      <td>49.0</td>\n",
       "    </tr>\n",
       "    <tr>\n",
       "      <th>4</th>\n",
       "      <td>4</td>\n",
       "      <td>morning-n</td>\n",
       "      <td>sunrise-n</td>\n",
       "      <td>49.0</td>\n",
       "    </tr>\n",
       "    <tr>\n",
       "      <th>...</th>\n",
       "      <td>...</td>\n",
       "      <td>...</td>\n",
       "      <td>...</td>\n",
       "      <td>...</td>\n",
       "    </tr>\n",
       "    <tr>\n",
       "      <th>2995</th>\n",
       "      <td>2995</td>\n",
       "      <td>feather-n</td>\n",
       "      <td>truck-n</td>\n",
       "      <td>1.0</td>\n",
       "    </tr>\n",
       "    <tr>\n",
       "      <th>2996</th>\n",
       "      <td>2996</td>\n",
       "      <td>festival-n</td>\n",
       "      <td>whisker-n</td>\n",
       "      <td>1.0</td>\n",
       "    </tr>\n",
       "    <tr>\n",
       "      <th>2997</th>\n",
       "      <td>2997</td>\n",
       "      <td>muscle-n</td>\n",
       "      <td>tulip-n</td>\n",
       "      <td>1.0</td>\n",
       "    </tr>\n",
       "    <tr>\n",
       "      <th>2998</th>\n",
       "      <td>2998</td>\n",
       "      <td>bikini-n</td>\n",
       "      <td>pizza-n</td>\n",
       "      <td>1.0</td>\n",
       "    </tr>\n",
       "    <tr>\n",
       "      <th>2999</th>\n",
       "      <td>2999</td>\n",
       "      <td>bakery-n</td>\n",
       "      <td>zebra-n</td>\n",
       "      <td>0.0</td>\n",
       "    </tr>\n",
       "  </tbody>\n",
       "</table>\n",
       "<p>3000 rows × 4 columns</p>\n",
       "</div>"
      ],
      "text/plain": [
       "      index         word1        word2  similarity\n",
       "0         0         sun-n   sunlight-n        50.0\n",
       "1         1  automobile-n        car-n        50.0\n",
       "2         2       river-n      water-n        49.0\n",
       "3         3       stair-n  staircase-n        49.0\n",
       "4         4     morning-n    sunrise-n        49.0\n",
       "...     ...           ...          ...         ...\n",
       "2995   2995     feather-n      truck-n         1.0\n",
       "2996   2996    festival-n    whisker-n         1.0\n",
       "2997   2997      muscle-n      tulip-n         1.0\n",
       "2998   2998      bikini-n      pizza-n         1.0\n",
       "2999   2999      bakery-n      zebra-n         0.0\n",
       "\n",
       "[3000 rows x 4 columns]"
      ]
     },
     "execution_count": 6,
     "metadata": {},
     "output_type": "execute_result"
    }
   ],
   "source": [
    "dataframe = pd.read_csv(\"../word-similarity/men.csv\")\n",
    "dataframe.rename( columns={'Unnamed: 0':'index'}, inplace=True )\n",
    "dataframe\n",
    "\n"
   ]
  },
  {
   "cell_type": "code",
   "execution_count": 4,
   "metadata": {},
   "outputs": [
    {
     "name": "stdout",
     "output_type": "stream",
     "text": [
      "[{'name': 'Ix', 'id': 'Ix'}, {'name': 'Word', 'id': 'Word'}, {'name': 'Frequency', 'id': 'Frequency'}]\n"
     ]
    }
   ],
   "source": [
    "columns = [\n",
    "            {\"name\": i, \"id\": i}\n",
    "            for i in df.columns\n",
    "            if i in [\"Ix\", \"Word\", \"Frequency\"]\n",
    "            ]\n",
    "\n",
    "print(columns)"
   ]
  },
  {
   "cell_type": "code",
   "execution_count": 7,
   "metadata": {},
   "outputs": [
    {
     "name": "stdout",
     "output_type": "stream",
     "text": [
      "[ 54  53 231 ...  72  57  58]\n"
     ]
    }
   ],
   "source": [
    "print(df[\"Frequency\"].values)"
   ]
  },
  {
   "cell_type": "code",
   "execution_count": 14,
   "metadata": {},
   "outputs": [],
   "source": [
    "data = pd.DataFrame({\"frequency\": list(df[\"Frequency\"].values)})"
   ]
  },
  {
   "cell_type": "code",
   "execution_count": 5,
   "metadata": {},
   "outputs": [
    {
     "name": "stdout",
     "output_type": "stream",
     "text": [
      "worked\n"
     ]
    }
   ],
   "source": [
    "import nltk\n",
    "from nltk.stem import WordNetLemmatizer \n",
    "\n",
    "# Init the Wordnet Lemmatizer\n",
    "lemmatizer = WordNetLemmatizer()\n",
    "\n",
    "# Lemmatize Single Word\n",
    "print(lemmatizer.lemmatize(\"worked\"))"
   ]
  },
  {
   "cell_type": "code",
   "execution_count": 15,
   "metadata": {},
   "outputs": [
    {
     "data": {
      "text/html": [
       "<div>\n",
       "<style scoped>\n",
       "    .dataframe tbody tr th:only-of-type {\n",
       "        vertical-align: middle;\n",
       "    }\n",
       "\n",
       "    .dataframe tbody tr th {\n",
       "        vertical-align: top;\n",
       "    }\n",
       "\n",
       "    .dataframe thead th {\n",
       "        text-align: right;\n",
       "    }\n",
       "</style>\n",
       "<table border=\"1\" class=\"dataframe\">\n",
       "  <thead>\n",
       "    <tr style=\"text-align: right;\">\n",
       "      <th></th>\n",
       "      <th>frequency</th>\n",
       "      <th>counts</th>\n",
       "    </tr>\n",
       "  </thead>\n",
       "  <tbody>\n",
       "    <tr>\n",
       "      <th>0</th>\n",
       "      <td>50</td>\n",
       "      <td>64</td>\n",
       "    </tr>\n",
       "    <tr>\n",
       "      <th>1</th>\n",
       "      <td>51</td>\n",
       "      <td>59</td>\n",
       "    </tr>\n",
       "    <tr>\n",
       "      <th>2</th>\n",
       "      <td>52</td>\n",
       "      <td>58</td>\n",
       "    </tr>\n",
       "    <tr>\n",
       "      <th>3</th>\n",
       "      <td>53</td>\n",
       "      <td>62</td>\n",
       "    </tr>\n",
       "    <tr>\n",
       "      <th>4</th>\n",
       "      <td>54</td>\n",
       "      <td>63</td>\n",
       "    </tr>\n",
       "    <tr>\n",
       "      <th>...</th>\n",
       "      <td>...</td>\n",
       "      <td>...</td>\n",
       "    </tr>\n",
       "    <tr>\n",
       "      <th>612</th>\n",
       "      <td>2767</td>\n",
       "      <td>1</td>\n",
       "    </tr>\n",
       "    <tr>\n",
       "      <th>613</th>\n",
       "      <td>3565</td>\n",
       "      <td>1</td>\n",
       "    </tr>\n",
       "    <tr>\n",
       "      <th>614</th>\n",
       "      <td>3842</td>\n",
       "      <td>1</td>\n",
       "    </tr>\n",
       "    <tr>\n",
       "      <th>615</th>\n",
       "      <td>3910</td>\n",
       "      <td>1</td>\n",
       "    </tr>\n",
       "    <tr>\n",
       "      <th>616</th>\n",
       "      <td>4245</td>\n",
       "      <td>1</td>\n",
       "    </tr>\n",
       "  </tbody>\n",
       "</table>\n",
       "<p>617 rows × 2 columns</p>\n",
       "</div>"
      ],
      "text/plain": [
       "     frequency  counts\n",
       "0           50      64\n",
       "1           51      59\n",
       "2           52      58\n",
       "3           53      62\n",
       "4           54      63\n",
       "..         ...     ...\n",
       "612       2767       1\n",
       "613       3565       1\n",
       "614       3842       1\n",
       "615       3910       1\n",
       "616       4245       1\n",
       "\n",
       "[617 rows x 2 columns]"
      ]
     },
     "execution_count": 15,
     "metadata": {},
     "output_type": "execute_result"
    }
   ],
   "source": [
    "data = data.groupby(['frequency']).size().reset_index(name='counts')\n",
    "data"
   ]
  }
 ],
 "metadata": {
  "interpreter": {
   "hash": "31f2aee4e71d21fbe5cf8b01ff0e069b9275f58929596ceb00d14d90e3e16cd6"
  },
  "kernelspec": {
   "display_name": "Python 3.8.10 64-bit",
   "language": "python",
   "name": "python3"
  },
  "language_info": {
   "codemirror_mode": {
    "name": "ipython",
    "version": 3
   },
   "file_extension": ".py",
   "mimetype": "text/x-python",
   "name": "python",
   "nbconvert_exporter": "python",
   "pygments_lexer": "ipython3",
   "version": "3.8.10"
  },
  "orig_nbformat": 4
 },
 "nbformat": 4,
 "nbformat_minor": 2
}
