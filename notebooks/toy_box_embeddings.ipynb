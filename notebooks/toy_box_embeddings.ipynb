{
  "cells": [
    {
      "cell_type": "code",
      "execution_count": 3,
      "metadata": {
        "colab": {
          "base_uri": "https://localhost:8080/"
        },
        "id": "IZoK93mBcayR",
        "outputId": "a93189df-9b68-4126-bf88-59a6f00c6500"
      },
      "outputs": [
        {
          "name": "stdout",
          "output_type": "stream",
          "text": [
            "Requirement already satisfied: box-embeddings in /home/fmollica/.local/lib/python3.8/site-packages (0.1.0)\n",
            "Requirement already satisfied: torch>=1.6.0 in /home/fmollica/.local/lib/python3.8/site-packages (from box-embeddings) (1.10.1)\n",
            "Requirement already satisfied: numpy in /home/fmollica/.local/lib/python3.8/site-packages (from box-embeddings) (1.19.5)\n",
            "Requirement already satisfied: typing-extensions in /home/fmollica/.local/lib/python3.8/site-packages (from torch>=1.6.0->box-embeddings) (4.0.0)\n",
            "Note: you may need to restart the kernel to use updated packages.\n"
          ]
        }
      ],
      "source": [
        "%pip install box-embeddings"
      ]
    },
    {
      "cell_type": "code",
      "execution_count": 57,
      "metadata": {
        "colab": {
          "base_uri": "https://localhost:8080/"
        },
        "id": "1SH-Hhb2fUXw",
        "outputId": "0618dd06-0b07-4076-84b1-3bbd12eb38d2"
      },
      "outputs": [],
      "source": [
        "import torch\n",
        "import numpy\n",
        "from box_embeddings.parameterizations import BoxTensor, MinDeltaBoxTensor, SigmoidBoxTensor\n",
        "from box_embeddings.modules.volume.volume import Volume\n",
        "from box_embeddings.modules.intersection import Intersection\n",
        "from box_embeddings.parameterizations.box_tensor import BoxFactory, BoxTensor\n",
        "import matplotlib.pyplot as plt\n",
        "import numpy as np\n",
        "import random\n",
        "import os"
      ]
    },
    {
      "cell_type": "code",
      "execution_count": 5,
      "metadata": {
        "id": "uIS5WD1AsOWT"
      },
      "outputs": [],
      "source": [
        "def seed_everything(seed):\n",
        "    torch.manual_seed(seed)\n",
        "    torch.cuda.manual_seed(seed)\n",
        "    torch.backends.cudnn.deterministic = True\n",
        "    torch.backends.cudnn.benchmark = True"
      ]
    },
    {
      "cell_type": "markdown",
      "metadata": {
        "id": "ItCHJ8vWnR_o"
      },
      "source": [
        "Types of boxes"
      ]
    },
    {
      "cell_type": "code",
      "execution_count": 4,
      "metadata": {
        "colab": {
          "base_uri": "https://localhost:8080/"
        },
        "id": "23VQNWu1mSbe",
        "outputId": "ac7b96b6-72f7-4b2d-ab03-06293aaf06d3"
      },
      "outputs": [
        {
          "name": "stdout",
          "output_type": "stream",
          "text": [
            "Box_normale\n",
            "z:  tensor([-1., -1.])\n",
            "Z:  tensor([2., 2.])\n",
            "Box_min\n",
            "z:  tensor([-1., -1.])\n",
            "Z:  tensor([1.1269, 1.1269])\n",
            "Box_sigmoid\n",
            "z:  tensor([0.2689, 0.2689])\n",
            "Z:  tensor([0.9129, 0.9129])\n"
          ]
        }
      ],
      "source": [
        "from box_embeddings.parameterizations import BoxTensor, MinDeltaBoxTensor, SigmoidBoxTensor\n",
        "\n",
        "tensor = torch.Tensor([[-1,-1],[2,2]])\n",
        "tensor_1 = torch.Tensor([[-2,-2],[3,3]])\n",
        "def create_box_tensor(tensor):\n",
        "  box_tensor = BoxTensor(tensor)\n",
        "  return box_tensor\n",
        "\n",
        "def create_MinDelta_tensor(tensor):\n",
        "  box_tensor = MinDeltaBoxTensor(tensor)\n",
        "  return box_tensor\n",
        "\n",
        "def create_Sigmoid_tensor(tensor):\n",
        "  box_tensor = SigmoidBoxTensor(tensor)\n",
        "  return box_tensor\n",
        "\n",
        "def print_point(box_tensor):\n",
        "  print(\"z: \",box_tensor.z)\n",
        "  print(\"Z: \",box_tensor.Z)\n",
        "\n",
        "box_tensor = create_box_tensor(tensor)\n",
        "box_tensor_min = create_MinDelta_tensor(tensor)\n",
        "box_tensor_sigmoid = create_Sigmoid_tensor(tensor)\n",
        "\n",
        "box_tensor_1 = create_box_tensor(tensor_1)\n",
        "box_tensor_min_1 = create_MinDelta_tensor(tensor_1)\n",
        "box_tensor_sigmoid_1 = create_Sigmoid_tensor(tensor_1)\n",
        "\n",
        "print(\"Box_normale\")\n",
        "print_point(box_tensor)\n",
        "print(\"Box_min\")\n",
        "print_point(box_tensor_min)\n",
        "print(\"Box_sigmoid\")\n",
        "print_point(box_tensor_sigmoid)"
      ]
    },
    {
      "cell_type": "markdown",
      "metadata": {
        "id": "R7YIyYEy3aPh"
      },
      "source": [
        "Types of volumes"
      ]
    },
    {
      "cell_type": "code",
      "execution_count": 5,
      "metadata": {
        "colab": {
          "base_uri": "https://localhost:8080/"
        },
        "id": "AFkNNKQi3Xlg",
        "outputId": "ddfafc08-4adc-4f97-b27f-d023a29f59eb"
      },
      "outputs": [
        {
          "name": "stdout",
          "output_type": "stream",
          "text": [
            "box normale\n",
            "hard tensor(9.)\n",
            "soft tensor(9.2939)\n",
            "bessel tensor(3.9689)\n",
            "box min\n",
            "hard tensor(4.5238)\n",
            "soft tensor(5.0156)\n",
            "bessel tensor(1.6724)\n",
            "box sigmoid\n",
            "hard tensor(0.4146)\n",
            "soft tensor(1.1365)\n",
            "bessel tensor(0.2210)\n"
          ]
        }
      ],
      "source": [
        "from box_embeddings.modules.volume.volume import Volume\n",
        "# torna valori in logaritmo\n",
        "hard_volume = Volume(intersection_temperature=0, volume_temperature=0, log_scale=False)\n",
        "soft_volume = Volume(intersection_temperature=0, volume_temperature=1.0, log_scale=False)\n",
        "bessel = Volume(intersection_temperature=1.0, volume_temperature=1.0, log_scale=False)\n",
        "print(\"box normale\")\n",
        "print(\"hard\", hard_volume(box_tensor))\n",
        "print(\"soft\", soft_volume(box_tensor))\n",
        "print(\"bessel\", bessel(box_tensor))\n",
        "\n",
        "print(\"box min\")\n",
        "print(\"hard\", hard_volume(box_tensor_min))\n",
        "print(\"soft\", soft_volume(box_tensor_min))\n",
        "print(\"bessel\", bessel(box_tensor_min))\n",
        "\n",
        "print(\"box sigmoid\")\n",
        "print(\"hard\", hard_volume(box_tensor_sigmoid))\n",
        "print(\"soft\", soft_volume(box_tensor_sigmoid))\n",
        "print(\"bessel\", bessel(box_tensor_sigmoid))\n"
      ]
    },
    {
      "cell_type": "markdown",
      "metadata": {
        "id": "YrpVkOgX5Ccp"
      },
      "source": [
        "Types of intersection"
      ]
    },
    {
      "cell_type": "code",
      "execution_count": 6,
      "metadata": {
        "colab": {
          "base_uri": "https://localhost:8080/"
        },
        "id": "Kx3x7tzv4_Gk",
        "outputId": "3245151b-6565-44c9-c44d-c9452bcd2754"
      },
      "outputs": [
        {
          "name": "stdout",
          "output_type": "stream",
          "text": [
            "intersezione stesso box normale\n",
            "z:  tensor([-1., -1.])\n",
            "Z:  tensor([2., 2.])\n",
            "hard_volume, hard_int  tensor(9.)\n",
            "hard_volume, gumbel_int  tensor(2.6040)\n",
            "soft_volume, hard_int  tensor(9.2939)\n",
            "soft_volume, gumbel_int  tensor(3.2232)\n",
            "bessel_volume, hard_int  tensor(3.9689)\n",
            "bessel_volume, gumbel_int  tensor(0.9005)\n"
          ]
        }
      ],
      "source": [
        "from box_embeddings.modules.intersection import Intersection\n",
        "\n",
        "# restituisce un box di intersezione \n",
        "hard_intersection = Intersection(intersection_temperature=0)\n",
        "gumbel_intersection = Intersection(intersection_temperature=1.0)\n",
        "\n",
        "print(\"intersezione stesso box normale\")\n",
        "volume = hard_volume(hard_intersection(box_tensor, box_tensor))\n",
        "print_point(box_tensor)\n",
        "print(\"hard_volume, hard_int \", volume)\n",
        "volume = hard_volume(gumbel_intersection(box_tensor, box_tensor))\n",
        "print(\"hard_volume, gumbel_int \", volume)\n",
        "volume = soft_volume(hard_intersection(box_tensor, box_tensor))\n",
        "print(\"soft_volume, hard_int \", volume)\n",
        "volume = soft_volume(gumbel_intersection(box_tensor, box_tensor))\n",
        "print(\"soft_volume, gumbel_int \", volume)\n",
        "volume = bessel(hard_intersection(box_tensor, box_tensor))\n",
        "print(\"bessel_volume, hard_int \", volume)\n",
        "volume = bessel(gumbel_intersection(box_tensor, box_tensor))\n",
        "print(\"bessel_volume, gumbel_int \", volume)"
      ]
    },
    {
      "cell_type": "code",
      "execution_count": null,
      "metadata": {
        "colab": {
          "base_uri": "https://localhost:8080/"
        },
        "id": "LcUugIaY78FU",
        "outputId": "a7265188-ca7c-432a-eda7-d0b10a5962db"
      },
      "outputs": [
        {
          "name": "stdout",
          "output_type": "stream",
          "text": [
            "intersezione stesso box min\n",
            "z:  tensor([-1., -1.])\n",
            "Z:  tensor([1.1269, 1.1269])\n",
            "hard_volume, hard_int  tensor(4.5238)\n",
            "hard_volume, gumbel_int  tensor(0.5485)\n",
            "soft_volume, hard_int  tensor(5.0156)\n",
            "soft_volume, gumbel_int  tensor(1.2781)\n",
            "bessel_volume, hard_int  tensor(1.6724)\n",
            "bessel_volume, gumbel_int  tensor(0.2576)\n"
          ]
        }
      ],
      "source": [
        "print(\"intersezione stesso box min\")\n",
        "volume = hard_volume(hard_intersection(box_tensor_min, box_tensor_min))\n",
        "print_point(box_tensor_min)\n",
        "print(\"hard_volume, hard_int \", volume)\n",
        "volume = hard_volume(gumbel_intersection(box_tensor_min, box_tensor_min))\n",
        "print(\"hard_volume, gumbel_int \", volume)\n",
        "volume = soft_volume(hard_intersection(box_tensor_min, box_tensor_min))\n",
        "print(\"soft_volume, hard_int \", volume)\n",
        "volume = soft_volume(gumbel_intersection(box_tensor_min, box_tensor_min))\n",
        "print(\"soft_volume, gumbel_int \", volume)\n",
        "volume = bessel(hard_intersection(box_tensor_min, box_tensor_min))\n",
        "print(\"bessel_volume, hard_int \", volume)\n",
        "volume = bessel(gumbel_intersection(box_tensor_min, box_tensor_min))\n",
        "print(\"bessel_volume, gumbel_int \", volume)"
      ]
    },
    {
      "cell_type": "code",
      "execution_count": 7,
      "metadata": {
        "colab": {
          "base_uri": "https://localhost:8080/"
        },
        "id": "qlMFATNM8SQo",
        "outputId": "f772a1b6-b0bb-4c13-ad4b-62e1954f0ae4"
      },
      "outputs": [
        {
          "name": "stdout",
          "output_type": "stream",
          "text": [
            "intersezione stesso box sigmoid\n",
            "z:  tensor([0.2689, 0.2689])\n",
            "Z:  tensor([0.9129, 0.9129])\n",
            "hard_volume, hard_int  tensor(0.4146)\n",
            "hard_volume, gumbel_int  tensor(0.)\n",
            "soft_volume, hard_int  tensor(1.1365)\n",
            "soft_volume, gumbel_int  tensor(0.1516)\n",
            "bessel_volume, hard_int  tensor(0.2210)\n",
            "bessel_volume, gumbel_int  tensor(0.0195)\n"
          ]
        }
      ],
      "source": [
        "print(\"intersezione stesso box sigmoid\")\n",
        "volume = hard_volume(hard_intersection(box_tensor_sigmoid, box_tensor_sigmoid))\n",
        "print_point(box_tensor_sigmoid)\n",
        "print(\"hard_volume, hard_int \", volume)\n",
        "volume = hard_volume(gumbel_intersection(box_tensor_sigmoid, box_tensor_sigmoid))\n",
        "print(\"hard_volume, gumbel_int \", volume)\n",
        "volume = soft_volume(hard_intersection(box_tensor_sigmoid, box_tensor_sigmoid))\n",
        "print(\"soft_volume, hard_int \", volume)\n",
        "volume = soft_volume(gumbel_intersection(box_tensor_sigmoid, box_tensor_sigmoid))\n",
        "print(\"soft_volume, gumbel_int \", volume)\n",
        "volume = bessel(hard_intersection(box_tensor_sigmoid, box_tensor_sigmoid))\n",
        "print(\"bessel_volume, hard_int \", volume)\n",
        "volume = bessel(gumbel_intersection(box_tensor_sigmoid, box_tensor_sigmoid))\n",
        "print(\"bessel_volume, gumbel_int \", volume)"
      ]
    },
    {
      "cell_type": "code",
      "execution_count": 133,
      "metadata": {
        "id": "yx6QWb4qnqQG"
      },
      "outputs": [],
      "source": [
        "def extract_embeddings(boxes):\n",
        "        list_box = []\n",
        "        list_box.append(boxes.z.data.tolist())\n",
        "        list_box.append(boxes.Z.data.tolist())\n",
        "        return list_box"
      ]
    },
    {
      "cell_type": "code",
      "execution_count": 154,
      "metadata": {
        "id": "nk5sKfkbff9v"
      },
      "outputs": [],
      "source": [
        "from torch.nn.modules.loss import L1Loss\n",
        "from box_embeddings.modules.regularization import l2_side_regularizer\n",
        "box_vol = Volume(volume_temperature=0.3, intersection_temperature=0.01)\n",
        "box_int = Intersection(intersection_temperature=0.01)\n",
        "import math\n",
        "from torch import nn \n",
        "\n",
        "def rounded_box_vol(arg):\n",
        "  #return torch.exp(box_vol(arg)).item()\n",
        "  return (box_vol(arg)).item()\n",
        "\n",
        "def good_print(text, var):\n",
        "  template = '|{:30}: {:.4f}|'.format(text, var)\n",
        "  print(template)\n",
        "\n",
        "\n",
        "def regularization(box_pos):\n",
        "        a = torch.clamp(box_pos.z, min=0, max=0.1)\n",
        "        b = torch.clamp(box_pos.Z, min=0.5, max=0.6)\n",
        "        return box_vol(box_pos)\n",
        "\n",
        "def train(box_target, box_pos, box_neg_2, box_neg, optimizer, epochs=1):\n",
        "  best_loss = float('inf')\n",
        "  best_box_target = None\n",
        "  best_box_pos = None\n",
        "  best_box_neg = None\n",
        "  volume_target = []\n",
        "  volume_positive = []\n",
        "  volume_negative_2 = []\n",
        "  volume_negative = []\n",
        "  volume_int_positive = []\n",
        "  volume_int_negative_2 = []\n",
        "  volume_int_negative = []\n",
        "\n",
        "  target_list = []\n",
        "  context_list = []\n",
        "  context_list_2 = []\n",
        "  negative_list = []\n",
        "  \n",
        "  print('|{:-^38}|'.format(''))\n",
        "\n",
        "  for e in range(epochs):\n",
        "\n",
        "    good_print('epoch (before backward):', e)\n",
        "    print('|{:*^38}|'.format(''))\n",
        "    good_print(\"volume parola target: \", rounded_box_vol(box_target))\n",
        "    volume_target.append(rounded_box_vol(box_target))\n",
        "    good_print(\"volume parola positive: \", rounded_box_vol(box_pos))\n",
        "    volume_positive.append(rounded_box_vol(box_pos))\n",
        "    good_print(\"volume parola negative_2: \", rounded_box_vol(box_neg_2))\n",
        "    volume_negative_2.append(rounded_box_vol(box_neg_2))\n",
        "    good_print(\"volume parola negative: \", rounded_box_vol(box_neg))\n",
        "    volume_negative.append(rounded_box_vol(box_neg))\n",
        "    print('|{:-^38}|'.format(''))\n",
        "    good_print(\"volume int target-negative: \" , rounded_box_vol(box_int(box_target, box_neg)))\n",
        "    volume_int_negative.append(rounded_box_vol(box_int(box_target, box_neg)))\n",
        "    good_print(\"volume int target-negative_2: \" , rounded_box_vol(box_int(box_target, box_neg_2)))\n",
        "    volume_int_negative_2.append(rounded_box_vol(box_int(box_target, box_neg_2)))\n",
        "    good_print(\"volume int target-positive: \" , rounded_box_vol(box_int(box_target, box_pos)))\n",
        "    volume_int_positive.append(rounded_box_vol(box_int(box_target, box_pos)))\n",
        "    \n",
        "\n",
        "    optimizer.zero_grad() \n",
        "    \n",
        "\n",
        "\n",
        "    loss = - ( box_vol(box_int(box_pos, box_target)) - (box_vol(box_target)+box_vol(box_pos)) )\n",
        "    loss += ( box_vol(box_int(box_neg, box_target)) - (box_vol(box_target)+box_vol(box_neg)) )\n",
        "    loss += ( box_vol(box_int(box_neg_2, box_target)) -  (box_vol(box_target)+box_vol(box_neg_2)) ) \n",
        "    \n",
        "     \n",
        "    loss.backward()\n",
        "    optimizer.step()\n",
        "\n",
        "    target_list.append(extract_embeddings(box_target))\n",
        "    context_list.append(extract_embeddings(box_pos))\n",
        "    context_list_2.append(extract_embeddings(box_neg_2))\n",
        "    negative_list.append(extract_embeddings(box_neg))\n",
        "\n",
        "    print(len(context_list_2))\n",
        "\n",
        "    if best_loss > loss.item():\n",
        "            best_loss = loss.item()\n",
        "            best_box_neg = box_neg\n",
        "            best_box_pos = box_pos\n",
        "            best_box_target = box_target\n",
        "    print('|{:-^38}|'.format(''))\n",
        "\n",
        "    good_print(\"Loss: \",loss.item())\n",
        "    good_print(\"pos: \", ( box_vol(box_int(box_pos, box_target)) - (box_vol(box_target)+box_vol(box_pos)) ).item()) \n",
        "    good_print(\"neg: \", ( box_vol(box_int(box_neg, box_target)) - (box_vol(box_target)+box_vol(box_neg)) ).item()) \n",
        "    good_print(\"neg_2 :\", ( box_vol(box_int(box_neg_2, box_target)) -  (box_vol(box_target)+box_vol(box_neg_2)) ).item())\n",
        "    \n",
        "    \n",
        "    \n",
        "    print('|{:*^38}|'.format(''))\n",
        "\n",
        "    #plt.plot(lst_iter, lst_loss, '-b', label='loss')\n",
        "    #plt.plot(lst_iter, lst_acc, '-r', label='accuracy')\n",
        "  plt.figure(0, figsize=(10,6))\n",
        "  x = [i for i in range(epochs)]\n",
        "  plt.plot(x, volume_target, label = \"Volume target\")\n",
        "  plt.plot(x, volume_positive, label = \"Volume positive\")\n",
        "  plt.plot(x, volume_negative_2, label = \"Volume neg_2\")\n",
        "  plt.plot(x, volume_negative, label = \"Volume negative\")\n",
        "  plt.legend()\n",
        "  plt.show()\n",
        "  plt.figure(1, figsize=(10,6))\n",
        "  plt.plot(x, volume_int_negative, label = \"Volume int-neg\")\n",
        "  plt.plot(x, volume_int_positive, label = \"Volume int-pos\")\n",
        "  plt.plot(x, volume_int_negative_2, label = \"Volume int-neg_2\")\n",
        "  plt.legend()\n",
        "  plt.show()\n",
        "\n",
        "  return target_list, context_list, context_list_2, negative_list"
      ]
    },
    {
      "cell_type": "code",
      "execution_count": 167,
      "metadata": {
        "colab": {
          "base_uri": "https://localhost:8080/"
        },
        "id": "96SZNpAvfV-7",
        "outputId": "24899a49-71dd-4389-dda6-43cf759d1004"
      },
      "outputs": [
        {
          "name": "stdout",
          "output_type": "stream",
          "text": [
            "volume target -1.41348397731781\n",
            "volume positive -0.6737993955612183\n",
            "volume neg_2 -2.292804718017578\n",
            "volume negative -2.418971538543701\n"
          ]
        }
      ],
      "source": [
        "# Initialization\n",
        "data_x = torch.tensor([[-2., -2.], [0., 0.]], requires_grad=True)\n",
        "box_target = SigmoidBoxTensor(data_x)\n",
        "\n",
        "print(\"volume target\", rounded_box_vol(box_target))\n",
        "\n",
        "data_y = torch.tensor([[-3, -3], [+1., +1]], requires_grad=True)\n",
        "box_positive = SigmoidBoxTensor(data_y)\n",
        "\n",
        "print(\"volume positive\", rounded_box_vol(box_positive))\n",
        "\n",
        "data_k = torch.tensor([[1.0, 1.0], [2., 0.5]], requires_grad=True)\n",
        "box_negative_2 = SigmoidBoxTensor(data_k)\n",
        "\n",
        "\n",
        "print(\"volume neg_2\", rounded_box_vol(box_negative_2))\n",
        "\n",
        "data_z = torch.tensor([[-1., -1.5], [0., -5.]], requires_grad=True)\n",
        "box_negative = SigmoidBoxTensor(data_z)\n",
        "\n",
        "\n",
        "print(\"volume negative\", rounded_box_vol(box_negative))"
      ]
    },
    {
      "cell_type": "code",
      "execution_count": 168,
      "metadata": {},
      "outputs": [
        {
          "name": "stdout",
          "output_type": "stream",
          "text": [
            "tensor(0.1940, grad_fn=<ExpBackward0>)\n",
            "tensor(0.1940, grad_fn=<ExpBackward0>)\n"
          ]
        }
      ],
      "source": [
        "\n",
        "volume_ = Volume(volume_temperature=0, intersection_temperature=0)\n",
        "intersection_ = Intersection(intersection_temperature=0)\n",
        "\n",
        "print(torch.exp(volume_(box_target)))\n",
        "\n",
        "volumes = volume_(intersection_(box_positive, box_target))\n",
        "print(torch.exp(volumes))"
      ]
    },
    {
      "cell_type": "code",
      "execution_count": 165,
      "metadata": {
        "colab": {
          "base_uri": "https://localhost:8080/",
          "height": 1000
        },
        "id": "_CSxvS5-cV7K",
        "outputId": "661a262b-3027-4a8a-d106-9d6b73800c33"
      },
      "outputs": [
        {
          "name": "stdout",
          "output_type": "stream",
          "text": [
            "|--------------------------------------|\n",
            "|epoch (before backward):      : 0.0000|\n",
            "|**************************************|\n",
            "|volume parola target:         : -1.4135|\n",
            "|volume parola positive:       : -0.6738|\n",
            "|volume parola negative_2:     : -2.2928|\n",
            "|volume parola negative:       : -2.4190|\n",
            "|--------------------------------------|\n",
            "|volume int target-negative:   : -2.5558|\n",
            "|volume int target-negative_2: : -4.0776|\n",
            "|volume int target-positive:   : -1.4135|\n",
            "1\n",
            "|--------------------------------------|\n",
            "|Loss:                         : 0.2316|\n",
            "|pos:                          : 0.7316|\n",
            "|neg:                          : 1.1557|\n",
            "|neg_2 :                       : -0.4778|\n",
            "|**************************************|\n",
            "|epoch (before backward):      : 1.0000|\n",
            "|**************************************|\n",
            "|volume parola target:         : -1.3978|\n",
            "|volume parola positive:       : -0.7317|\n",
            "|volume parola negative_2:     : -2.3347|\n",
            "|volume parola negative:       : -2.4064|\n",
            "|--------------------------------------|\n",
            "|volume int target-negative:   : -2.6486|\n",
            "|volume int target-negative_2: : -4.2103|\n",
            "|volume int target-positive:   : -1.3979|\n",
            "2\n",
            "|--------------------------------------|\n",
            "|Loss:                         : -0.0537|\n",
            "|pos:                          : 0.7929|\n",
            "|neg:                          : 1.0349|\n",
            "|neg_2 :                       : -0.5763|\n",
            "|**************************************|\n",
            "|epoch (before backward):      : 2.0000|\n",
            "|**************************************|\n",
            "|volume parola target:         : -1.3854|\n",
            "|volume parola positive:       : -0.7933|\n",
            "|volume parola negative_2:     : -2.3774|\n",
            "|volume parola negative:       : -2.3967|\n",
            "|--------------------------------------|\n",
            "|volume int target-negative:   : -2.7473|\n",
            "|volume int target-negative_2: : -4.3391|\n",
            "|volume int target-positive:   : -1.3859|\n",
            "3\n",
            "|--------------------------------------|\n",
            "|Loss:                         : -0.3343|\n",
            "|pos:                          : 0.8571|\n",
            "|neg:                          : 0.9147|\n",
            "|neg_2 :                       : -0.6670|\n",
            "|**************************************|\n",
            "|epoch (before backward):      : 3.0000|\n",
            "|**************************************|\n",
            "|volume parola target:         : -1.3765|\n",
            "|volume parola positive:       : -0.8589|\n",
            "|volume parola negative_2:     : -2.4203|\n",
            "|volume parola negative:       : -2.3900|\n",
            "|--------------------------------------|\n",
            "|volume int target-negative:   : -2.8518|\n",
            "|volume int target-negative_2: : -4.4638|\n",
            "|volume int target-positive:   : -1.3784|\n",
            "4\n",
            "|--------------------------------------|\n",
            "|Loss:                         : -0.6093|\n",
            "|pos:                          : 0.9212|\n",
            "|neg:                          : 0.7958|\n",
            "|neg_2 :                       : -0.7501|\n",
            "|**************************************|\n",
            "|epoch (before backward):      : 4.0000|\n",
            "|**************************************|\n",
            "|volume parola target:         : -1.3713|\n",
            "|volume parola positive:       : -0.9285|\n",
            "|volume parola negative_2:     : -2.4630|\n",
            "|volume parola negative:       : -2.3865|\n",
            "|--------------------------------------|\n",
            "|volume int target-negative:   : -2.9620|\n",
            "|volume int target-negative_2: : -4.5845|\n",
            "|volume int target-positive:   : -1.3786|\n",
            "5\n",
            "|--------------------------------------|\n",
            "|Loss:                         : -0.8755|\n",
            "|pos:                          : 0.9718|\n",
            "|neg:                          : 0.6789|\n",
            "|neg_2 :                       : -0.8265|\n",
            "|**************************************|\n",
            "|epoch (before backward):      : 5.0000|\n",
            "|**************************************|\n",
            "|volume parola target:         : -1.3702|\n",
            "|volume parola positive:       : -1.0017|\n",
            "|volume parola negative_2:     : -2.5052|\n",
            "|volume parola negative:       : -2.3862|\n",
            "|--------------------------------------|\n",
            "|volume int target-negative:   : -3.0775|\n",
            "|volume int target-negative_2: : -4.7018|\n",
            "|volume int target-positive:   : -1.4001|\n",
            "6\n",
            "|--------------------------------------|\n",
            "|Loss:                         : -1.1194|\n",
            "|pos:                          : 0.9909|\n",
            "|neg:                          : 0.5758|\n",
            "|neg_2 :                       : -0.9065|\n",
            "|**************************************|\n",
            "|epoch (before backward):      : 6.0000|\n",
            "|**************************************|\n",
            "|volume parola target:         : -1.3841|\n",
            "|volume parola positive:       : -1.0768|\n",
            "|volume parola negative_2:     : -2.5463|\n",
            "|volume parola negative:       : -2.3893|\n",
            "|--------------------------------------|\n",
            "|volume int target-negative:   : -3.1976|\n",
            "|volume int target-negative_2: : -4.8369|\n",
            "|volume int target-positive:   : -1.4699|\n",
            "7\n",
            "|--------------------------------------|\n",
            "|Loss:                         : -1.3217|\n",
            "|pos:                          : 1.0131|\n",
            "|neg:                          : 0.4913|\n",
            "|neg_2 :                       : -0.9960|\n",
            "|**************************************|\n",
            "|epoch (before backward):      : 7.0000|\n",
            "|**************************************|\n",
            "|volume parola target:         : -1.4174|\n",
            "|volume parola positive:       : -1.1488|\n",
            "|volume parola negative_2:     : -2.5861|\n",
            "|volume parola negative:       : -2.3958|\n",
            "|--------------------------------------|\n",
            "|volume int target-negative:   : -3.3219|\n",
            "|volume int target-negative_2: : -4.9995|\n",
            "|volume int target-positive:   : -1.5531|\n",
            "8\n",
            "|--------------------------------------|\n",
            "|Loss:                         : -1.5177|\n",
            "|pos:                          : 1.0453|\n",
            "|neg:                          : 0.4166|\n",
            "|neg_2 :                       : -1.0874|\n",
            "|**************************************|\n",
            "|epoch (before backward):      : 8.0000|\n",
            "|**************************************|\n",
            "|volume parola target:         : -1.4604|\n",
            "|volume parola positive:       : -1.2170|\n",
            "|volume parola negative_2:     : -2.6243|\n",
            "|volume parola negative:       : -2.4056|\n",
            "|--------------------------------------|\n",
            "|volume int target-negative:   : -3.4495|\n",
            "|volume int target-negative_2: : -5.1722|\n",
            "|volume int target-positive:   : -1.6321|\n",
            "9\n",
            "|--------------------------------------|\n",
            "|Loss:                         : -1.7161|\n",
            "|pos:                          : 1.0870|\n",
            "|neg:                          : 0.3488|\n",
            "|neg_2 :                       : -1.1783|\n",
            "|**************************************|\n",
            "|epoch (before backward):      : 9.0000|\n",
            "|**************************************|\n",
            "|volume parola target:         : -1.5096|\n",
            "|volume parola positive:       : -1.2820|\n",
            "|volume parola negative_2:     : -2.6608|\n",
            "|volume parola negative:       : -2.4187|\n",
            "|--------------------------------------|\n",
            "|volume int target-negative:   : -3.5795|\n",
            "|volume int target-negative_2: : -5.3488|\n",
            "|volume int target-positive:   : -1.7047|\n",
            "10\n",
            "|--------------------------------------|\n",
            "|Loss:                         : -1.9165|\n",
            "|pos:                          : 1.1367|\n",
            "|neg:                          : 0.2868|\n",
            "|neg_2 :                       : -1.2677|\n",
            "|**************************************|\n",
            "|epoch (before backward):      : 10.0000|\n",
            "|**************************************|\n",
            "|volume parola target:         : -1.5631|\n",
            "|volume parola positive:       : -1.3447|\n",
            "|volume parola negative_2:     : -2.6955|\n",
            "|volume parola negative:       : -2.4349|\n",
            "|--------------------------------------|\n",
            "|volume int target-negative:   : -3.7112|\n",
            "|volume int target-negative_2: : -5.5263|\n",
            "|volume int target-positive:   : -1.7711|\n",
            "11\n",
            "|--------------------------------------|\n",
            "|Loss:                         : -2.1175|\n",
            "|pos:                          : 1.1927|\n",
            "|neg:                          : 0.2303|\n",
            "|neg_2 :                       : -1.3548|\n",
            "|**************************************|\n",
            "|epoch (before backward):      : 11.0000|\n",
            "|**************************************|\n",
            "|volume parola target:         : -1.6199|\n",
            "|volume parola positive:       : -1.4056|\n",
            "|volume parola negative_2:     : -2.7282|\n",
            "|volume parola negative:       : -2.4540|\n",
            "|--------------------------------------|\n",
            "|volume int target-negative:   : -3.8436|\n",
            "|volume int target-negative_2: : -5.7029|\n",
            "|volume int target-positive:   : -1.8328|\n",
            "12\n",
            "|--------------------------------------|\n",
            "|Loss:                         : -2.3173|\n",
            "|pos:                          : 1.2526|\n",
            "|neg:                          : 0.1791|\n",
            "|neg_2 :                       : -1.4395|\n",
            "|**************************************|\n",
            "|epoch (before backward):      : 12.0000|\n",
            "|**************************************|\n",
            "|volume parola target:         : -1.6789|\n",
            "|volume parola positive:       : -1.4655|\n",
            "|volume parola negative_2:     : -2.7589|\n",
            "|volume parola negative:       : -2.4758|\n",
            "|--------------------------------------|\n",
            "|volume int target-negative:   : -3.9756|\n",
            "|volume int target-negative_2: : -5.8772|\n",
            "|volume int target-positive:   : -1.8918|\n",
            "13\n",
            "|--------------------------------------|\n",
            "|Loss:                         : -2.5130|\n",
            "|pos:                          : 1.3128|\n",
            "|neg:                          : 0.1327|\n",
            "|neg_2 :                       : -1.5208|\n",
            "|**************************************|\n",
            "|epoch (before backward):      : 13.0000|\n",
            "|**************************************|\n",
            "|volume parola target:         : -1.7391|\n",
            "|volume parola positive:       : -1.5253|\n",
            "|volume parola negative_2:     : -2.7876|\n",
            "|volume parola negative:       : -2.4999|\n",
            "|--------------------------------------|\n",
            "|volume int target-negative:   : -4.1064|\n",
            "|volume int target-negative_2: : -6.0476|\n",
            "|volume int target-positive:   : -1.9516|\n",
            "14\n",
            "|--------------------------------------|\n",
            "|Loss:                         : -2.7010|\n",
            "|pos:                          : 1.3732|\n",
            "|neg:                          : 0.0900|\n",
            "|neg_2 :                       : -1.5977|\n",
            "|**************************************|\n",
            "|epoch (before backward):      : 14.0000|\n",
            "|**************************************|\n",
            "|volume parola target:         : -1.7989|\n",
            "|volume parola positive:       : -1.5858|\n",
            "|volume parola negative_2:     : -2.8144|\n",
            "|volume parola negative:       : -2.5261|\n",
            "|--------------------------------------|\n",
            "|volume int target-negative:   : -4.2349|\n",
            "|volume int target-negative_2: : -6.2110|\n",
            "|volume int target-positive:   : -2.0114|\n",
            "15\n",
            "|--------------------------------------|\n",
            "|Loss:                         : -2.8809|\n",
            "|pos:                          : 1.4370|\n",
            "|neg:                          : 0.0498|\n",
            "|neg_2 :                       : -1.6689|\n",
            "|**************************************|\n",
            "|epoch (before backward):      : 15.0000|\n",
            "|**************************************|\n",
            "|volume parola target:         : -1.8563|\n",
            "|volume parola positive:       : -1.6477|\n",
            "|volume parola negative_2:     : -2.8393|\n",
            "|volume parola negative:       : -2.5538|\n",
            "|--------------------------------------|\n",
            "|volume int target-negative:   : -4.3603|\n",
            "|volume int target-negative_2: : -6.3644|\n",
            "|volume int target-positive:   : -2.0669|\n",
            "16\n",
            "|--------------------------------------|\n",
            "|Loss:                         : -3.0561|\n",
            "|pos:                          : 1.5053|\n",
            "|neg:                          : 0.0113|\n",
            "|neg_2 :                       : -1.7338|\n",
            "|**************************************|\n",
            "|epoch (before backward):      : 16.0000|\n",
            "|**************************************|\n",
            "|volume parola target:         : -1.9103|\n",
            "|volume parola positive:       : -1.7112|\n",
            "|volume parola negative_2:     : -2.8624|\n",
            "|volume parola negative:       : -2.5828|\n",
            "|--------------------------------------|\n",
            "|volume int target-negative:   : -4.4818|\n",
            "|volume int target-negative_2: : -6.5064|\n",
            "|volume int target-positive:   : -2.1162|\n",
            "17\n",
            "|--------------------------------------|\n",
            "|Loss:                         : -3.2278|\n",
            "|pos:                          : 1.5767|\n",
            "|neg:                          : -0.0253|\n",
            "|neg_2 :                       : -1.7928|\n",
            "|**************************************|\n",
            "|epoch (before backward):      : 17.0000|\n",
            "|**************************************|\n",
            "|volume parola target:         : -1.9609|\n",
            "|volume parola positive:       : -1.7763|\n",
            "|volume parola negative_2:     : -2.8837|\n",
            "|volume parola negative:       : -2.6126|\n",
            "|--------------------------------------|\n",
            "|volume int target-negative:   : -4.5988|\n",
            "|volume int target-negative_2: : -6.6374|\n",
            "|volume int target-positive:   : -2.1605|\n",
            "18\n",
            "|--------------------------------------|\n",
            "|Loss:                         : -3.3948|\n",
            "|pos:                          : 1.6488|\n",
            "|neg:                          : -0.0590|\n",
            "|neg_2 :                       : -1.8470|\n",
            "|**************************************|\n",
            "|epoch (before backward):      : 18.0000|\n",
            "|**************************************|\n",
            "|volume parola target:         : -2.0088|\n",
            "|volume parola positive:       : -1.8425|\n",
            "|volume parola negative_2:     : -2.9034|\n",
            "|volume parola negative:       : -2.6428|\n",
            "|--------------------------------------|\n",
            "|volume int target-negative:   : -4.7106|\n",
            "|volume int target-negative_2: : -6.7592|\n",
            "|volume int target-positive:   : -2.2025|\n",
            "19\n",
            "|--------------------------------------|\n",
            "|Loss:                         : -3.5548|\n",
            "|pos:                          : 1.7193|\n",
            "|neg:                          : -0.0885|\n",
            "|neg_2 :                       : -1.8979|\n",
            "|**************************************|\n",
            "|epoch (before backward):      : 19.0000|\n",
            "|**************************************|\n",
            "|volume parola target:         : -2.0553|\n",
            "|volume parola positive:       : -1.9091|\n",
            "|volume parola negative_2:     : -2.9215|\n",
            "|volume parola negative:       : -2.6730|\n",
            "|--------------------------------------|\n",
            "|volume int target-negative:   : -4.8167|\n",
            "|volume int target-negative_2: : -6.8747|\n",
            "|volume int target-positive:   : -2.2450|\n",
            "20\n",
            "|--------------------------------------|\n",
            "|Loss:                         : -3.7057|\n",
            "|pos:                          : 1.7880|\n",
            "|neg:                          : -0.1123|\n",
            "|neg_2 :                       : -1.9469|\n",
            "|**************************************|\n"
          ]
        },
        {
          "data": {
            "image/png": "[encoded data removed]",
            "text/plain": [
              "<Figure size 720x432 with 1 Axes>"
            ]
          },
          "metadata": {
            "needs_background": "light"
          },
          "output_type": "display_data"
        },
        {
          "data": {
            "image/png": "[encoded data removed]",
            "text/plain": [
              "<Figure size 720x432 with 1 Axes>"
            ]
          },
          "metadata": {
            "needs_background": "light"
          },
          "output_type": "display_data"
        }
      ],
      "source": [
        "# Training function\n",
        "learning_rate = 0.1\n",
        "\n",
        "# Train\n",
        "seed_everything(12345)\n",
        "optimizer = torch.optim.Adam([data_x, data_y, data_k, data_z], lr=learning_rate)\n",
        "epochs = 20\n",
        "target_list, context_list, context_list_2, negative_list = train(box_target, box_positive, box_negative_2, box_negative, optimizer, epochs=epochs)\n"
      ]
    },
    {
      "cell_type": "code",
      "execution_count": 169,
      "metadata": {
        "colab": {
          "base_uri": "https://localhost:8080/",
          "height": 650,
          "referenced_widgets": [
            "cc14ab9aa3284750a8d41b171b1347a5",
            "c150afe7c8434671aa603c0208793e7b",
            "d741834f5c534076aeaea33459c3f5d5",
            "b119c6cebc2849709b62aff84d5de998",
            "da1e7a39a10140b58f9d8fd049ea6023",
            "885fbc2c9e4447aaa775555576c034af",
            "73f9960b59a74e32926c76a415835baa"
          ]
        },
        "id": "vVgP4x7nnBzW",
        "outputId": "5515ad6a-6a83-479d-836b-7d6883d75a64"
      },
      "outputs": [
        {
          "name": "stdout",
          "output_type": "stream",
          "text": [
            "20\n"
          ]
        },
        {
          "data": {
            "application/vnd.jupyter.widget-view+json": {
              "model_id": "c8eb7957999f4d9db706b6421f5afc0a",
              "version_major": 2,
              "version_minor": 0
            },
            "text/plain": [
              "interactive(children=(IntSlider(value=9, description='epoch', max=19), Output()), _dom_classes=('widget-intera…"
            ]
          },
          "metadata": {},
          "output_type": "display_data"
        }
      ],
      "source": [
        "import pickle\n",
        "import matplotlib as mpl\n",
        "import matplotlib.pyplot as plt\n",
        "import matplotlib.patches as patches\n",
        "from ipywidgets import interact, interactive\n",
        "from copy import copy\n",
        "import matplotlib._color_data as mcd\n",
        "import matplotlib.patches as mpatch\n",
        "\n",
        "def load_boxes(myboxes, ty, color):\n",
        "\n",
        "  import matplotlib._color_data as mcd\n",
        "  import matplotlib.patches as mpatch\n",
        "  colors = [name for name in mcd.CSS4_COLORS\n",
        "            if \"xkcd:\" + name in mcd.XKCD_COLORS]\n",
        "\n",
        "  list_ = []\n",
        "  for i,box in enumerate(myboxes):\n",
        "    list_epoch = []\n",
        "    rect = patches.Rectangle((box[0][0], box[0][1]), \n",
        "                            box[1][0] - box[0][0], \n",
        "                            box[1][1] - box[0][1], \n",
        "                            facecolor=color, edgecolor = color, lw=3, label=ty, alpha=1)\n",
        "    \n",
        "    list_.append(rect)\n",
        "  return list_\n",
        "\n",
        "list_targets = load_boxes(target_list, \"target\", \"red\")\n",
        "print(len(list_targets))\n",
        "list_contexts_pos = load_boxes(context_list, \"positive\", \"green\")\n",
        "list_contexts_pos_2 = load_boxes(context_list_2, \"negative_2\", \"yellow\")\n",
        "list_contexts_neg = load_boxes(negative_list, \"negative\", \"black\")\n",
        "\n",
        "def f2(epoch = (0, epochs-1, 1)):\n",
        "\n",
        "    fig, ax = plt.subplots(figsize=(30, 10))\n",
        "    plt.xlim([0, +1])\n",
        "    plt.ylim([0, +1])\n",
        "   \n",
        "    new_c=copy(list_targets[epoch])\n",
        "    new_pos=copy(list_contexts_pos[epoch])\n",
        "    new_pos_2=copy(list_contexts_pos_2[epoch])\n",
        "    new_neg=copy(list_contexts_neg[epoch])\n",
        "      \n",
        "    ax.add_patch(new_c)\n",
        "    ax.add_patch(new_pos)\n",
        "    ax.add_patch(new_pos_2)\n",
        "    ax.add_patch(new_neg)\n",
        "    ax.legend()\n",
        "\n",
        "\n",
        "interact(f2);"
      ]
    },
    {
      "cell_type": "code",
      "execution_count": null,
      "metadata": {
        "colab": {
          "base_uri": "https://localhost:8080/"
        },
        "id": "zNaZOaM6EhOb",
        "outputId": "61437fc9-4c77-402c-be28-fd5f7051d900"
      },
      "outputs": [
        {
          "name": "stdout",
          "output_type": "stream",
          "text": [
            "Requirement already satisfied: torchtext in /usr/local/lib/python3.7/dist-packages (0.11.0)\n",
            "Requirement already satisfied: torch==1.10.0 in /usr/local/lib/python3.7/dist-packages (from torchtext) (1.10.0+cu111)\n",
            "Requirement already satisfied: requests in /usr/local/lib/python3.7/dist-packages (from torchtext) (2.23.0)\n",
            "Requirement already satisfied: numpy in /usr/local/lib/python3.7/dist-packages (from torchtext) (1.19.5)\n",
            "Requirement already satisfied: tqdm in /usr/local/lib/python3.7/dist-packages (from torchtext) (4.62.3)\n",
            "Requirement already satisfied: typing-extensions in /usr/local/lib/python3.7/dist-packages (from torch==1.10.0->torchtext) (3.10.0.2)\n",
            "Requirement already satisfied: urllib3!=1.25.0,!=1.25.1,<1.26,>=1.21.1 in /usr/local/lib/python3.7/dist-packages (from requests->torchtext) (1.24.3)\n",
            "Requirement already satisfied: chardet<4,>=3.0.2 in /usr/local/lib/python3.7/dist-packages (from requests->torchtext) (3.0.4)\n",
            "Requirement already satisfied: certifi>=2017.4.17 in /usr/local/lib/python3.7/dist-packages (from requests->torchtext) (2021.10.8)\n",
            "Requirement already satisfied: idna<3,>=2.5 in /usr/local/lib/python3.7/dist-packages (from requests->torchtext) (2.10)\n"
          ]
        }
      ],
      "source": [
        "%pip install torchtext"
      ]
    },
    {
      "cell_type": "code",
      "execution_count": null,
      "metadata": {
        "colab": {
          "base_uri": "https://localhost:8080/",
          "height": 444
        },
        "id": "D7vqKxvOEbMi",
        "outputId": "0990f511-53db-4a02-91fe-1179b5be952e"
      },
      "outputs": [
        {
          "ename": "AttributeError",
          "evalue": "ignored",
          "output_type": "error",
          "traceback": [
            "\u001b[0;31m---------------------------------------------------------------------------\u001b[0m",
            "\u001b[0;31mAttributeError\u001b[0m                            Traceback (most recent call last)",
            "\u001b[0;32m<ipython-input-19-7ee4ea5e3aab>\u001b[0m in \u001b[0;36m<module>\u001b[0;34m()\u001b[0m\n\u001b[1;32m      4\u001b[0m \u001b[0;34m\u001b[0m\u001b[0m\n\u001b[1;32m      5\u001b[0m \u001b[0;32mfrom\u001b[0m \u001b[0mtorchtext\u001b[0m\u001b[0;34m.\u001b[0m\u001b[0mdata\u001b[0m \u001b[0;32mimport\u001b[0m \u001b[0mto_map_style_dataset\u001b[0m\u001b[0;34m\u001b[0m\u001b[0;34m\u001b[0m\u001b[0m\n\u001b[0;32m----> 6\u001b[0;31m \u001b[0ma\u001b[0m \u001b[0;34m=\u001b[0m \u001b[0mdata_iter\u001b[0m\u001b[0;34m.\u001b[0m\u001b[0mpop\u001b[0m\u001b[0;34m(\u001b[0m\u001b[0;34m)\u001b[0m\u001b[0;34m\u001b[0m\u001b[0;34m\u001b[0m\u001b[0m\n\u001b[0m\u001b[1;32m      7\u001b[0m \u001b[0mdata_iter\u001b[0m \u001b[0;34m=\u001b[0m \u001b[0mto_map_style_dataset\u001b[0m\u001b[0;34m(\u001b[0m\u001b[0mdata_iter\u001b[0m\u001b[0;34m)\u001b[0m\u001b[0;34m\u001b[0m\u001b[0;34m\u001b[0m\u001b[0m\n\u001b[1;32m      8\u001b[0m \u001b[0;34m\u001b[0m\u001b[0m\n",
            "\u001b[0;32m/usr/local/lib/python3.7/dist-packages/torch/utils/data/dataset.py\u001b[0m in \u001b[0;36m__getattr__\u001b[0;34m(self, attribute_name)\u001b[0m\n\u001b[1;32m    224\u001b[0m             \u001b[0;32mreturn\u001b[0m \u001b[0mfunction\u001b[0m\u001b[0;34m\u001b[0m\u001b[0;34m\u001b[0m\u001b[0m\n\u001b[1;32m    225\u001b[0m         \u001b[0;32melse\u001b[0m\u001b[0;34m:\u001b[0m\u001b[0;34m\u001b[0m\u001b[0;34m\u001b[0m\u001b[0m\n\u001b[0;32m--> 226\u001b[0;31m             \u001b[0;32mraise\u001b[0m \u001b[0mAttributeError\u001b[0m\u001b[0;34m\u001b[0m\u001b[0;34m\u001b[0m\u001b[0m\n\u001b[0m\u001b[1;32m    227\u001b[0m \u001b[0;34m\u001b[0m\u001b[0m\n\u001b[1;32m    228\u001b[0m     \u001b[0;32mdef\u001b[0m \u001b[0m__reduce_ex__\u001b[0m\u001b[0;34m(\u001b[0m\u001b[0mself\u001b[0m\u001b[0;34m,\u001b[0m \u001b[0;34m*\u001b[0m\u001b[0margs\u001b[0m\u001b[0;34m,\u001b[0m \u001b[0;34m**\u001b[0m\u001b[0mkwargs\u001b[0m\u001b[0;34m)\u001b[0m\u001b[0;34m:\u001b[0m\u001b[0;34m\u001b[0m\u001b[0;34m\u001b[0m\u001b[0m\n",
            "\u001b[0;31mAttributeError\u001b[0m: "
          ]
        }
      ],
      "source": [
        "from torchtext.datasets import WikiText2, WikiText103\n",
        "import os \n",
        "data_iter = WikiText2(root=os.getcwd(), split=\"train\")\n",
        "\n",
        "from torchtext.data import to_map_style_dataset\n",
        "a = data_iter.pop()\n",
        "data_iter = to_map_style_dataset(data_iter)\n",
        "\n",
        "for line in data_iter:\n",
        "  print(type(line))\n",
        "\n",
        "print(data_iter[1])"
      ]
    }
  ],
  "metadata": {
    "colab": {
      "collapsed_sections": [],
      "name": "toy_box_embeddings.ipynb",
      "provenance": []
    },
    "kernelspec": {
      "display_name": "Python 3",
      "name": "python3"
    },
    "language_info": {
      "codemirror_mode": {
        "name": "ipython",
        "version": 3
      },
      "file_extension": ".py",
      "mimetype": "text/x-python",
      "name": "python",
      "nbconvert_exporter": "python",
      "pygments_lexer": "ipython3",
      "version": "3.8.10"
    },
    "widgets": {
      "application/vnd.jupyter.widget-state+json": {
        "73f9960b59a74e32926c76a415835baa": {
          "model_module": "@jupyter-widgets/base",
          "model_module_version": "1.2.0",
          "model_name": "LayoutModel",
          "state": {
            "_model_module": "@jupyter-widgets/base",
            "_model_module_version": "1.2.0",
            "_model_name": "LayoutModel",
            "_view_count": null,
            "_view_module": "@jupyter-widgets/base",
            "_view_module_version": "1.2.0",
            "_view_name": "LayoutView",
            "align_content": null,
            "align_items": null,
            "align_self": null,
            "border": null,
            "bottom": null,
            "display": null,
            "flex": null,
            "flex_flow": null,
            "grid_area": null,
            "grid_auto_columns": null,
            "grid_auto_flow": null,
            "grid_auto_rows": null,
            "grid_column": null,
            "grid_gap": null,
            "grid_row": null,
            "grid_template_areas": null,
            "grid_template_columns": null,
            "grid_template_rows": null,
            "height": null,
            "justify_content": null,
            "justify_items": null,
            "left": null,
            "margin": null,
            "max_height": null,
            "max_width": null,
            "min_height": null,
            "min_width": null,
            "object_fit": null,
            "object_position": null,
            "order": null,
            "overflow": null,
            "overflow_x": null,
            "overflow_y": null,
            "padding": null,
            "right": null,
            "top": null,
            "visibility": null,
            "width": null
          }
        },
        "885fbc2c9e4447aaa775555576c034af": {
          "model_module": "@jupyter-widgets/base",
          "model_module_version": "1.2.0",
          "model_name": "LayoutModel",
          "state": {
            "_model_module": "@jupyter-widgets/base",
            "_model_module_version": "1.2.0",
            "_model_name": "LayoutModel",
            "_view_count": null,
            "_view_module": "@jupyter-widgets/base",
            "_view_module_version": "1.2.0",
            "_view_name": "LayoutView",
            "align_content": null,
            "align_items": null,
            "align_self": null,
            "border": null,
            "bottom": null,
            "display": null,
            "flex": null,
            "flex_flow": null,
            "grid_area": null,
            "grid_auto_columns": null,
            "grid_auto_flow": null,
            "grid_auto_rows": null,
            "grid_column": null,
            "grid_gap": null,
            "grid_row": null,
            "grid_template_areas": null,
            "grid_template_columns": null,
            "grid_template_rows": null,
            "height": null,
            "justify_content": null,
            "justify_items": null,
            "left": null,
            "margin": null,
            "max_height": null,
            "max_width": null,
            "min_height": null,
            "min_width": null,
            "object_fit": null,
            "object_position": null,
            "order": null,
            "overflow": null,
            "overflow_x": null,
            "overflow_y": null,
            "padding": null,
            "right": null,
            "top": null,
            "visibility": null,
            "width": null
          }
        },
        "b119c6cebc2849709b62aff84d5de998": {
          "model_module": "@jupyter-widgets/output",
          "model_module_version": "1.0.0",
          "model_name": "OutputModel",
          "state": {
            "_dom_classes": [],
            "_model_module": "@jupyter-widgets/output",
            "_model_module_version": "1.0.0",
            "_model_name": "OutputModel",
            "_view_count": null,
            "_view_module": "@jupyter-widgets/output",
            "_view_module_version": "1.0.0",
            "_view_name": "OutputView",
            "layout": "IPY_MODEL_73f9960b59a74e32926c76a415835baa",
            "msg_id": "",
            "outputs": [
              {
                "data": {
                  "image/png": "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\n",
                  "text/plain": "<Figure size 2160x720 with 1 Axes>"
                },
                "metadata": {
                  "needs_background": "light"
                },
                "output_type": "display_data"
              }
            ]
          }
        },
        "c150afe7c8434671aa603c0208793e7b": {
          "model_module": "@jupyter-widgets/base",
          "model_module_version": "1.2.0",
          "model_name": "LayoutModel",
          "state": {
            "_model_module": "@jupyter-widgets/base",
            "_model_module_version": "1.2.0",
            "_model_name": "LayoutModel",
            "_view_count": null,
            "_view_module": "@jupyter-widgets/base",
            "_view_module_version": "1.2.0",
            "_view_name": "LayoutView",
            "align_content": null,
            "align_items": null,
            "align_self": null,
            "border": null,
            "bottom": null,
            "display": null,
            "flex": null,
            "flex_flow": null,
            "grid_area": null,
            "grid_auto_columns": null,
            "grid_auto_flow": null,
            "grid_auto_rows": null,
            "grid_column": null,
            "grid_gap": null,
            "grid_row": null,
            "grid_template_areas": null,
            "grid_template_columns": null,
            "grid_template_rows": null,
            "height": null,
            "justify_content": null,
            "justify_items": null,
            "left": null,
            "margin": null,
            "max_height": null,
            "max_width": null,
            "min_height": null,
            "min_width": null,
            "object_fit": null,
            "object_position": null,
            "order": null,
            "overflow": null,
            "overflow_x": null,
            "overflow_y": null,
            "padding": null,
            "right": null,
            "top": null,
            "visibility": null,
            "width": null
          }
        },
        "cc14ab9aa3284750a8d41b171b1347a5": {
          "model_module": "@jupyter-widgets/controls",
          "model_module_version": "1.5.0",
          "model_name": "VBoxModel",
          "state": {
            "_dom_classes": [
              "widget-interact"
            ],
            "_model_module": "@jupyter-widgets/controls",
            "_model_module_version": "1.5.0",
            "_model_name": "VBoxModel",
            "_view_count": null,
            "_view_module": "@jupyter-widgets/controls",
            "_view_module_version": "1.5.0",
            "_view_name": "VBoxView",
            "box_style": "",
            "children": [
              "IPY_MODEL_d741834f5c534076aeaea33459c3f5d5",
              "IPY_MODEL_b119c6cebc2849709b62aff84d5de998"
            ],
            "layout": "IPY_MODEL_c150afe7c8434671aa603c0208793e7b"
          }
        },
        "d741834f5c534076aeaea33459c3f5d5": {
          "model_module": "@jupyter-widgets/controls",
          "model_module_version": "1.5.0",
          "model_name": "IntSliderModel",
          "state": {
            "_dom_classes": [],
            "_model_module": "@jupyter-widgets/controls",
            "_model_module_version": "1.5.0",
            "_model_name": "IntSliderModel",
            "_view_count": null,
            "_view_module": "@jupyter-widgets/controls",
            "_view_module_version": "1.5.0",
            "_view_name": "IntSliderView",
            "continuous_update": true,
            "description": "epoch",
            "description_tooltip": null,
            "disabled": false,
            "layout": "IPY_MODEL_885fbc2c9e4447aaa775555576c034af",
            "max": 49,
            "min": 0,
            "orientation": "horizontal",
            "readout": true,
            "readout_format": "d",
            "step": 1,
            "style": "IPY_MODEL_da1e7a39a10140b58f9d8fd049ea6023",
            "value": 6
          }
        },
        "da1e7a39a10140b58f9d8fd049ea6023": {
          "model_module": "@jupyter-widgets/controls",
          "model_module_version": "1.5.0",
          "model_name": "SliderStyleModel",
          "state": {
            "_model_module": "@jupyter-widgets/controls",
            "_model_module_version": "1.5.0",
            "_model_name": "SliderStyleModel",
            "_view_count": null,
            "_view_module": "@jupyter-widgets/base",
            "_view_module_version": "1.2.0",
            "_view_name": "StyleView",
            "description_width": "",
            "handle_color": null
          }
        }
      }
    }
  },
  "nbformat": 4,
  "nbformat_minor": 0
}
