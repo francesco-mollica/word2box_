{
  "cells": [
    {
      "cell_type": "code",
      "execution_count": 1,
      "metadata": {
        "colab": {
          "base_uri": "https://localhost:8080/"
        },
        "id": "IZoK93mBcayR",
        "outputId": "a93189df-9b68-4126-bf88-59a6f00c6500"
      },
      "outputs": [
        {
          "name": "stdout",
          "output_type": "stream",
          "text": [
            "Requirement already satisfied: box-embeddings in /home/fmollica/.local/lib/python3.8/site-packages (0.1.0)\n",
            "Requirement already satisfied: torch>=1.6.0 in /home/fmollica/.local/lib/python3.8/site-packages (from box-embeddings) (1.10.1)\n",
            "Requirement already satisfied: numpy in /home/fmollica/.local/lib/python3.8/site-packages (from box-embeddings) (1.19.5)\n",
            "Requirement already satisfied: typing-extensions in /home/fmollica/.local/lib/python3.8/site-packages (from torch>=1.6.0->box-embeddings) (4.0.0)\n",
            "Note: you may need to restart the kernel to use updated packages.\n"
          ]
        }
      ],
      "source": [
        "%pip install box-embeddings"
      ]
    },
    {
      "cell_type": "code",
      "execution_count": 3,
      "metadata": {
        "colab": {
          "base_uri": "https://localhost:8080/"
        },
        "id": "1SH-Hhb2fUXw",
        "outputId": "0618dd06-0b07-4076-84b1-3bbd12eb38d2"
      },
      "outputs": [],
      "source": [
        "import torch\n",
        "import numpy\n",
        "from box_embeddings.parameterizations import BoxTensor, MinDeltaBoxTensor, SigmoidBoxTensor\n",
        "from box_embeddings.modules.volume.volume import Volume\n",
        "from box_embeddings.modules.intersection import Intersection\n",
        "from box_embeddings.parameterizations.box_tensor import BoxFactory, BoxTensor\n",
        "import matplotlib.pyplot as plt\n",
        "import numpy as np\n",
        "import random\n",
        "import os"
      ]
    },
    {
      "cell_type": "code",
      "execution_count": 4,
      "metadata": {
        "id": "uIS5WD1AsOWT"
      },
      "outputs": [],
      "source": [
        "def seed_everything(seed):\n",
        "    torch.manual_seed(seed)\n",
        "    torch.cuda.manual_seed(seed)\n",
        "    torch.backends.cudnn.deterministic = True\n",
        "    torch.backends.cudnn.benchmark = True"
      ]
    },
    {
      "cell_type": "markdown",
      "metadata": {
        "id": "ItCHJ8vWnR_o"
      },
      "source": [
        "Types of boxes"
      ]
    },
    {
      "cell_type": "code",
      "execution_count": 5,
      "metadata": {
        "colab": {
          "base_uri": "https://localhost:8080/"
        },
        "id": "23VQNWu1mSbe",
        "outputId": "ac7b96b6-72f7-4b2d-ab03-06293aaf06d3"
      },
      "outputs": [
        {
          "name": "stdout",
          "output_type": "stream",
          "text": [
            "Box_normale\n",
            "z:  tensor([-1., -1.])\n",
            "Z:  tensor([2., 2.])\n",
            "Box_min\n",
            "z:  tensor([-1., -1.])\n",
            "Z:  tensor([1.1269, 1.1269])\n",
            "Box_sigmoid\n",
            "z:  tensor([0.2689, 0.2689])\n",
            "Z:  tensor([0.9129, 0.9129])\n"
          ]
        }
      ],
      "source": [
        "from box_embeddings.parameterizations import BoxTensor, MinDeltaBoxTensor, SigmoidBoxTensor\n",
        "\n",
        "tensor = torch.Tensor([[-1,-1],[2,2]])\n",
        "tensor_1 = torch.Tensor([[-2,-2],[3,3]])\n",
        "def create_box_tensor(tensor):\n",
        "  box_tensor = BoxTensor(tensor)\n",
        "  return box_tensor\n",
        "\n",
        "def create_MinDelta_tensor(tensor):\n",
        "  box_tensor = MinDeltaBoxTensor(tensor)\n",
        "  return box_tensor\n",
        "\n",
        "def create_Sigmoid_tensor(tensor):\n",
        "  box_tensor = SigmoidBoxTensor(tensor)\n",
        "  return box_tensor\n",
        "\n",
        "def print_point(box_tensor):\n",
        "  print(\"z: \",box_tensor.z)\n",
        "  print(\"Z: \",box_tensor.Z)\n",
        "\n",
        "box_tensor = create_box_tensor(tensor)\n",
        "box_tensor_min = create_MinDelta_tensor(tensor)\n",
        "box_tensor_sigmoid = create_Sigmoid_tensor(tensor)\n",
        "\n",
        "box_tensor_1 = create_box_tensor(tensor_1)\n",
        "box_tensor_min_1 = create_MinDelta_tensor(tensor_1)\n",
        "box_tensor_sigmoid_1 = create_Sigmoid_tensor(tensor_1)\n",
        "\n",
        "print(\"Box_normale\")\n",
        "print_point(box_tensor)\n",
        "print(\"Box_min\")\n",
        "print_point(box_tensor_min)\n",
        "print(\"Box_sigmoid\")\n",
        "print_point(box_tensor_sigmoid)"
      ]
    },
    {
      "cell_type": "markdown",
      "metadata": {
        "id": "R7YIyYEy3aPh"
      },
      "source": [
        "Types of volumes"
      ]
    },
    {
      "cell_type": "code",
      "execution_count": 6,
      "metadata": {
        "colab": {
          "base_uri": "https://localhost:8080/"
        },
        "id": "AFkNNKQi3Xlg",
        "outputId": "ddfafc08-4adc-4f97-b27f-d023a29f59eb"
      },
      "outputs": [
        {
          "name": "stdout",
          "output_type": "stream",
          "text": [
            "box normale\n",
            "hard tensor(9.)\n",
            "soft tensor(9.2939)\n",
            "bessel tensor(3.9689)\n",
            "box min\n",
            "hard tensor(4.5238)\n",
            "soft tensor(5.0156)\n",
            "bessel tensor(1.6724)\n",
            "box sigmoid\n",
            "hard tensor(0.4146)\n",
            "soft tensor(1.1365)\n",
            "bessel tensor(0.2210)\n"
          ]
        }
      ],
      "source": [
        "from box_embeddings.modules.volume.volume import Volume\n",
        "# torna valori in logaritmo\n",
        "hard_volume = Volume(intersection_temperature=0, volume_temperature=0, log_scale=False)\n",
        "soft_volume = Volume(intersection_temperature=0, volume_temperature=1.0, log_scale=False)\n",
        "bessel = Volume(intersection_temperature=1.0, volume_temperature=1.0, log_scale=False)\n",
        "print(\"box normale\")\n",
        "print(\"hard\", hard_volume(box_tensor))\n",
        "print(\"soft\", soft_volume(box_tensor))\n",
        "print(\"bessel\", bessel(box_tensor))\n",
        "\n",
        "print(\"box min\")\n",
        "print(\"hard\", hard_volume(box_tensor_min))\n",
        "print(\"soft\", soft_volume(box_tensor_min))\n",
        "print(\"bessel\", bessel(box_tensor_min))\n",
        "\n",
        "print(\"box sigmoid\")\n",
        "print(\"hard\", hard_volume(box_tensor_sigmoid))\n",
        "print(\"soft\", soft_volume(box_tensor_sigmoid))\n",
        "print(\"bessel\", bessel(box_tensor_sigmoid))\n"
      ]
    },
    {
      "cell_type": "markdown",
      "metadata": {
        "id": "YrpVkOgX5Ccp"
      },
      "source": [
        "Types of intersection"
      ]
    },
    {
      "cell_type": "code",
      "execution_count": 8,
      "metadata": {
        "colab": {
          "base_uri": "https://localhost:8080/"
        },
        "id": "Kx3x7tzv4_Gk",
        "outputId": "3245151b-6565-44c9-c44d-c9452bcd2754"
      },
      "outputs": [
        {
          "name": "stdout",
          "output_type": "stream",
          "text": [
            "intersezione stesso box normale\n",
            "z:  tensor([-1., -1.])\n",
            "Z:  tensor([2., 2.])\n",
            "hard_volume, hard_int  tensor(9.)\n",
            "hard_volume, gumbel_int  tensor(2.6040)\n",
            "soft_volume, hard_int  tensor(9.2939)\n",
            "soft_volume, gumbel_int  tensor(3.2232)\n",
            "bessel_volume, hard_int  tensor(3.9689)\n",
            "bessel_volume, gumbel_int  tensor(0.9005)\n"
          ]
        }
      ],
      "source": [
        "from box_embeddings.modules.intersection import Intersection\n",
        "\n",
        "# restituisce un box di intersezione \n",
        "hard_intersection = Intersection(intersection_temperature=0)\n",
        "gumbel_intersection = Intersection(intersection_temperature=1.0)\n",
        "\n",
        "print(\"intersezione stesso box normale\")\n",
        "volume = hard_volume(hard_intersection(box_tensor, box_tensor))\n",
        "print_point(box_tensor)\n",
        "print(\"hard_volume, hard_int \", volume)\n",
        "volume = hard_volume(gumbel_intersection(box_tensor, box_tensor))\n",
        "print(\"hard_volume, gumbel_int \", volume)\n",
        "volume = soft_volume(hard_intersection(box_tensor, box_tensor))\n",
        "print(\"soft_volume, hard_int \", volume)\n",
        "volume = soft_volume(gumbel_intersection(box_tensor, box_tensor))\n",
        "print(\"soft_volume, gumbel_int \", volume)\n",
        "volume = bessel(hard_intersection(box_tensor, box_tensor))\n",
        "print(\"bessel_volume, hard_int \", volume)\n",
        "volume = bessel(gumbel_intersection(box_tensor, box_tensor))\n",
        "print(\"bessel_volume, gumbel_int \", volume)"
      ]
    },
    {
      "cell_type": "code",
      "execution_count": 9,
      "metadata": {
        "colab": {
          "base_uri": "https://localhost:8080/"
        },
        "id": "LcUugIaY78FU",
        "outputId": "a7265188-ca7c-432a-eda7-d0b10a5962db"
      },
      "outputs": [
        {
          "name": "stdout",
          "output_type": "stream",
          "text": [
            "intersezione stesso box min\n",
            "z:  tensor([-1., -1.])\n",
            "Z:  tensor([1.1269, 1.1269])\n",
            "hard_volume, hard_int  tensor(4.5238)\n",
            "hard_volume, gumbel_int  tensor(0.5485)\n",
            "soft_volume, hard_int  tensor(5.0156)\n",
            "soft_volume, gumbel_int  tensor(1.2781)\n",
            "bessel_volume, hard_int  tensor(1.6724)\n",
            "bessel_volume, gumbel_int  tensor(0.2576)\n"
          ]
        }
      ],
      "source": [
        "print(\"intersezione stesso box min\")\n",
        "volume = hard_volume(hard_intersection(box_tensor_min, box_tensor_min))\n",
        "print_point(box_tensor_min)\n",
        "print(\"hard_volume, hard_int \", volume)\n",
        "volume = hard_volume(gumbel_intersection(box_tensor_min, box_tensor_min))\n",
        "print(\"hard_volume, gumbel_int \", volume)\n",
        "volume = soft_volume(hard_intersection(box_tensor_min, box_tensor_min))\n",
        "print(\"soft_volume, hard_int \", volume)\n",
        "volume = soft_volume(gumbel_intersection(box_tensor_min, box_tensor_min))\n",
        "print(\"soft_volume, gumbel_int \", volume)\n",
        "volume = bessel(hard_intersection(box_tensor_min, box_tensor_min))\n",
        "print(\"bessel_volume, hard_int \", volume)\n",
        "volume = bessel(gumbel_intersection(box_tensor_min, box_tensor_min))\n",
        "print(\"bessel_volume, gumbel_int \", volume)"
      ]
    },
    {
      "cell_type": "code",
      "execution_count": 10,
      "metadata": {
        "colab": {
          "base_uri": "https://localhost:8080/"
        },
        "id": "qlMFATNM8SQo",
        "outputId": "f772a1b6-b0bb-4c13-ad4b-62e1954f0ae4"
      },
      "outputs": [
        {
          "name": "stdout",
          "output_type": "stream",
          "text": [
            "intersezione stesso box sigmoid\n",
            "z:  tensor([0.2689, 0.2689])\n",
            "Z:  tensor([0.9129, 0.9129])\n",
            "hard_volume, hard_int  tensor(0.4146)\n",
            "hard_volume, gumbel_int  tensor(0.)\n",
            "soft_volume, hard_int  tensor(1.1365)\n",
            "soft_volume, gumbel_int  tensor(0.1516)\n",
            "bessel_volume, hard_int  tensor(0.2210)\n",
            "bessel_volume, gumbel_int  tensor(0.0195)\n"
          ]
        }
      ],
      "source": [
        "print(\"intersezione stesso box sigmoid\")\n",
        "volume = hard_volume(hard_intersection(box_tensor_sigmoid, box_tensor_sigmoid))\n",
        "print_point(box_tensor_sigmoid)\n",
        "print(\"hard_volume, hard_int \", volume)\n",
        "volume = hard_volume(gumbel_intersection(box_tensor_sigmoid, box_tensor_sigmoid))\n",
        "print(\"hard_volume, gumbel_int \", volume)\n",
        "volume = soft_volume(hard_intersection(box_tensor_sigmoid, box_tensor_sigmoid))\n",
        "print(\"soft_volume, hard_int \", volume)\n",
        "volume = soft_volume(gumbel_intersection(box_tensor_sigmoid, box_tensor_sigmoid))\n",
        "print(\"soft_volume, gumbel_int \", volume)\n",
        "volume = bessel(hard_intersection(box_tensor_sigmoid, box_tensor_sigmoid))\n",
        "print(\"bessel_volume, hard_int \", volume)\n",
        "volume = bessel(gumbel_intersection(box_tensor_sigmoid, box_tensor_sigmoid))\n",
        "print(\"bessel_volume, gumbel_int \", volume)"
      ]
    },
    {
      "cell_type": "code",
      "execution_count": 127,
      "metadata": {
        "id": "yx6QWb4qnqQG"
      },
      "outputs": [],
      "source": [
        "def extract_embeddings(boxes):\n",
        "        list_box = []\n",
        "        list_box.append(boxes.z.data.tolist())\n",
        "        list_box.append(boxes.Z.data.tolist())\n",
        "        return list_box"
      ]
    },
    {
      "cell_type": "code",
      "execution_count": 220,
      "metadata": {
        "id": "nk5sKfkbff9v"
      },
      "outputs": [],
      "source": [
        "from torch.nn.modules.loss import L1Loss\n",
        "from box_embeddings.modules.regularization import l2_side_regularizer\n",
        "box_vol = Volume(volume_temperature=0.1, intersection_temperature=0)\n",
        "box_int = Intersection(intersection_temperature=0)\n",
        "import math\n",
        "from torch import nn \n",
        "\n",
        "def rounded_box_vol(arg):\n",
        "  #return torch.exp(box_vol(arg)).item()\n",
        "  return torch.exp((box_vol(arg))).item()\n",
        "\n",
        "def good_print(text, var):\n",
        "  template = '|{:30}: {:.4f}|'.format(text, var)\n",
        "  print(template)\n",
        "\n",
        "\n",
        "def train(box_target, box_pos, box_neg_2, box_neg, optimizer, epochs=1):\n",
        "  best_loss = float('inf')\n",
        "  best_box_target = None\n",
        "  best_box_pos = None\n",
        "  best_box_neg = None\n",
        "  volume_target = []\n",
        "  volume_positive = []\n",
        "  volume_negative_2 = []\n",
        "  volume_negative = []\n",
        "  volume_int_positive = []\n",
        "  volume_int_negative_2 = []\n",
        "  volume_int_negative = []\n",
        "\n",
        "  target_list = []\n",
        "  context_list = []\n",
        "  context_list_2 = []\n",
        "  negative_list = []\n",
        "  \n",
        "  print('|{:-^38}|'.format(''))\n",
        "\n",
        "  for e in range(epochs):\n",
        "\n",
        "    good_print('epoch (before backward):', e)\n",
        "    print('|{:*^38}|'.format(''))\n",
        "    good_print(\"volume parola target: \", rounded_box_vol(box_target))\n",
        "    volume_target.append(rounded_box_vol(box_target))\n",
        "    good_print(\"volume parola positive: \", rounded_box_vol(box_pos))\n",
        "    volume_positive.append(rounded_box_vol(box_pos))\n",
        "    good_print(\"volume parola negative_2: \", rounded_box_vol(box_neg_2))\n",
        "    volume_negative_2.append(rounded_box_vol(box_neg_2))\n",
        "    good_print(\"volume parola negative: \", rounded_box_vol(box_neg))\n",
        "    volume_negative.append(rounded_box_vol(box_neg))\n",
        "    print('|{:-^38}|'.format(''))\n",
        "    good_print(\"volume int target-negative: \" , rounded_box_vol(box_int(box_target, box_neg)))\n",
        "    volume_int_negative.append(rounded_box_vol(box_int(box_target, box_neg)))\n",
        "    good_print(\"volume int target-negative_2: \" , rounded_box_vol(box_int(box_target, box_neg_2)))\n",
        "    volume_int_negative_2.append(rounded_box_vol(box_int(box_target, box_neg_2)))\n",
        "    good_print(\"volume int target-positive: \" , rounded_box_vol(box_int(box_target, box_pos)))\n",
        "    volume_int_positive.append(rounded_box_vol(box_int(box_target, box_pos)))\n",
        "    \n",
        "\n",
        "    target_list.append(extract_embeddings(box_target))\n",
        "    context_list.append(extract_embeddings(box_pos))\n",
        "    context_list_2.append(extract_embeddings(box_neg_2))\n",
        "    negative_list.append(extract_embeddings(box_neg))\n",
        "    \n",
        "    optimizer.zero_grad() \n",
        "    \n",
        "\n",
        "\n",
        "    #loss = - ( box_vol(box_int(box_pos, box_target)) - (box_vol(box_target)+box_vol(box_pos)) )\n",
        "    #loss += ( box_vol(box_int(box_neg, box_target)) - (box_vol(box_target)+box_vol(box_neg)) )\n",
        "    #loss += ( box_vol(box_int(box_neg_2, box_target)) -  (box_vol(box_target)+ box_vol(box_neg_2)) ) \n",
        "\n",
        "    loss = - ( box_vol(box_int(box_pos, box_target)) - ( box_vol(box_pos) + box_vol(box_target))  )\n",
        "    loss += ( box_vol(box_int(box_neg, box_target)) -  ( box_vol(box_neg)+ box_vol(box_target)) )\n",
        "    loss += ( box_vol(box_int(box_neg_2, box_target))  - (box_vol(box_neg_2) + box_vol(box_target)) ) \n",
        "    \n",
        "     \n",
        "    loss.backward()\n",
        "    optimizer.step()\n",
        "\n",
        "    \n",
        "\n",
        "    print(len(context_list_2))\n",
        "\n",
        "    if best_loss > loss.item():\n",
        "            best_loss = loss.item()\n",
        "            best_box_neg = box_neg\n",
        "            best_box_pos = box_pos\n",
        "            best_box_target = box_target\n",
        "    print('|{:-^38}|'.format(''))\n",
        "\n",
        "    good_print(\"Loss: \",loss.item())\n",
        "    good_print(\"pos: \", ( box_vol(box_int(box_pos, box_target)) - (box_vol(box_target)+box_vol(box_pos)) ).item()) \n",
        "    good_print(\"neg: \", ( box_vol(box_int(box_neg, box_target)) - (box_vol(box_target)+box_vol(box_neg)) ).item()) \n",
        "    good_print(\"neg_2 :\", ( box_vol(box_int(box_neg_2, box_target)) -  (box_vol(box_target)+box_vol(box_neg_2)) ).item())\n",
        "    \n",
        "    \n",
        "    \n",
        "    print('|{:*^38}|'.format(''))\n",
        "\n",
        "    #plt.plot(lst_iter, lst_loss, '-b', label='loss')\n",
        "    #plt.plot(lst_iter, lst_acc, '-r', label='accuracy')\n",
        "  plt.figure(0, figsize=(10,6))\n",
        "  x = [i for i in range(epochs)]\n",
        "  plt.plot(x, volume_target, label = \"Volume target\")\n",
        "  plt.plot(x, volume_positive, label = \"Volume positive\")\n",
        "  plt.plot(x, volume_negative_2, label = \"Volume neg_2\")\n",
        "  plt.plot(x, volume_negative, label = \"Volume negative\")\n",
        "  plt.legend()\n",
        "  plt.show()\n",
        "  plt.figure(1, figsize=(10,6))\n",
        "  plt.plot(x, volume_int_negative, label = \"Volume int-neg\")\n",
        "  plt.plot(x, volume_int_positive, label = \"Volume int-pos\")\n",
        "  plt.plot(x, volume_int_negative_2, label = \"Volume int-neg_2\")\n",
        "  plt.legend()\n",
        "  plt.show()\n",
        "\n",
        "  return target_list, context_list, context_list_2, negative_list"
      ]
    },
    {
      "cell_type": "code",
      "execution_count": 221,
      "metadata": {
        "colab": {
          "base_uri": "https://localhost:8080/"
        },
        "id": "96SZNpAvfV-7",
        "outputId": "24899a49-71dd-4389-dda6-43cf759d1004"
      },
      "outputs": [],
      "source": [
        "# Initialization\n",
        "data_x = torch.tensor([[-2, -2], [+2., +3.]], requires_grad=True)\n",
        "box_target = SigmoidBoxTensor(data_x)\n",
        "\n",
        "data_y = torch.tensor([[1, -1.5], [-1., +1]], requires_grad=True)\n",
        "box_positive = SigmoidBoxTensor(data_y)\n",
        "\n",
        "data_k = torch.tensor([[-3., -3.0], [-2., -1.5]], requires_grad=True)\n",
        "box_negative_2 = SigmoidBoxTensor(data_k)\n",
        "\n",
        "data_z = torch.tensor([[-2.9, -2.1], [-4., -3]], requires_grad=True)\n",
        "box_negative = SigmoidBoxTensor(data_z)\n",
        "\n"
      ]
    },
    {
      "cell_type": "code",
      "execution_count": 207,
      "metadata": {},
      "outputs": [
        {
          "name": "stderr",
          "output_type": "stream",
          "text": [
            "No artists with labels found to put in legend.  Note that artists whose label start with an underscore are ignored when legend() is called with no argument.\n"
          ]
        },
        {
          "name": "stdout",
          "output_type": "stream",
          "text": [
            "volume red  0.6509716510772705\n",
            "volume purple  0.026864590123295784\n",
            "volume green 0.06689911335706711\n",
            "volume black  0.007245837710797787\n",
            "volume itersezione green-red  0.06689911335706711\n",
            "volume intersezione purple-red  0.012265337631106377\n",
            "volume intersezione black-red  0.004108964931219816\n",
            "volume intersezione black-purple  0.007245837710797787\n",
            "volume intersezione green-black  7.3366236392757855e-06\n",
            "volume intersezione purple-green  3.0228542527765967e-05\n"
          ]
        },
        {
          "data": {
            "text/plain": [
              "<matplotlib.legend.Legend at 0x7f68c1773be0>"
            ]
          },
          "execution_count": 207,
          "metadata": {},
          "output_type": "execute_result"
        },
        {
          "data": {
            "image/png": "[encoded data removed]",
            "text/plain": [
              "<Figure size 2160x720 with 1 Axes>"
            ]
          },
          "metadata": {
            "needs_background": "light"
          },
          "output_type": "display_data"
        }
      ],
      "source": [
        "import matplotlib.patches as patches\n",
        "\n",
        "volume_ = Volume(volume_temperature=0.1, intersection_temperature=0)\n",
        "intersection_ = Intersection(intersection_temperature=0)\n",
        "\n",
        "print(\"volume red \", torch.exp(volume_(box_target)).item())\n",
        "print(\"volume purple \",torch.exp(volume_(box_negative_2)).item())\n",
        "print(\"volume green\", torch.exp(volume_(box_positive)).item())\n",
        "print(\"volume black \", torch.exp(volume_(box_negative)).item())\n",
        "\n",
        "volumes = volume_(intersection_(box_positive, box_target))\n",
        "volumes_2 = volume_(intersection_(box_negative_2, box_target))\n",
        "volumes_3 = volume_(intersection_(box_negative, box_target))\n",
        "volumes_4 = volume_(intersection_(box_negative, box_negative_2))\n",
        "volumes_5 = volume_(intersection_(box_positive, box_negative))\n",
        "volumes_6 = volume_(intersection_(box_negative_2, box_positive))\n",
        "\n",
        "print(\"volume itersezione green-red \", torch.exp(volumes).item())\n",
        "print(\"volume intersezione purple-red \", torch.exp(volumes_2).item())\n",
        "print(\"volume intersezione black-red \", torch.exp(volumes_3).item())\n",
        "print(\"volume intersezione black-purple \", torch.exp(volumes_4).item())\n",
        "print(\"volume intersezione green-black \", torch.exp(volumes_5).item())\n",
        "print(\"volume intersezione purple-green \", torch.exp(volumes_6).item())\n",
        "\n",
        "target_list = extract_embeddings(box_target)\n",
        "context_list = extract_embeddings(box_positive)\n",
        "negative_list_2 = extract_embeddings(box_negative_2)\n",
        "negative_list = extract_embeddings(box_negative)\n",
        "\n",
        "\n",
        "def load_boxes(box, color):\n",
        "\n",
        "  rect = patches.Rectangle((box[0][0], box[0][1]), \n",
        "                              box[1][0] - box[0][0], \n",
        "                              box[1][1] - box[0][1], \n",
        "                              facecolor=color, edgecolor = color, alpha=0.4)\n",
        "      \n",
        "  \n",
        "  return rect\n",
        "\n",
        "rect_target = load_boxes(target_list, \"red\")\n",
        "rect_positive = load_boxes(context_list, \"green\")\n",
        "rect_negative = load_boxes(negative_list, \"black\")\n",
        "rect_negative_2 = load_boxes(negative_list_2, \"purple\")\n",
        "\n",
        "\n",
        "fig, ax = plt.subplots(figsize=(30, 10))\n",
        "plt.xlim([0, +1])\n",
        "plt.ylim([0, +1])\n",
        "\n",
        "\n",
        "ax.add_patch(rect_target)\n",
        "ax.add_patch(rect_positive)\n",
        "ax.add_patch(rect_negative_2)\n",
        "ax.add_patch(rect_negative)\n",
        "ax.legend()"
      ]
    },
    {
      "cell_type": "code",
      "execution_count": 222,
      "metadata": {
        "colab": {
          "base_uri": "https://localhost:8080/",
          "height": 1000
        },
        "id": "_CSxvS5-cV7K",
        "outputId": "661a262b-3027-4a8a-d106-9d6b73800c33"
      },
      "outputs": [
        {
          "name": "stdout",
          "output_type": "stream",
          "text": [
            "|--------------------------------------|\n",
            "|epoch (before backward):      : 0.0000|\n",
            "|**************************************|\n",
            "|volume parola target:         : 0.6510|\n",
            "|volume parola positive:       : 0.0669|\n",
            "|volume parola negative_2:     : 0.0269|\n",
            "|volume parola negative:       : 0.0072|\n",
            "|--------------------------------------|\n",
            "|volume int target-negative:   : 0.0041|\n",
            "|volume int target-negative_2: : 0.0123|\n",
            "|volume int target-positive:   : 0.0669|\n",
            "1\n",
            "|--------------------------------------|\n",
            "|Loss:                         : -0.9220|\n",
            "|pos:                          : 0.4383|\n",
            "|neg:                          : -0.3976|\n",
            "|neg_2 :                       : -0.5636|\n",
            "|**************************************|\n",
            "|epoch (before backward):      : 1.0000|\n",
            "|**************************************|\n",
            "|volume parola target:         : 0.6452|\n",
            "|volume parola positive:       : 0.0669|\n",
            "|volume parola negative_2:     : 0.0241|\n",
            "|volume parola negative:       : 0.0070|\n",
            "|--------------------------------------|\n",
            "|volume int target-negative:   : 0.0030|\n",
            "|volume int target-negative_2: : 0.0088|\n",
            "|volume int target-positive:   : 0.0669|\n",
            "2\n",
            "|--------------------------------------|\n",
            "|Loss:                         : -1.3994|\n",
            "|pos:                          : 0.4510|\n",
            "|neg:                          : -0.6701|\n",
            "|neg_2 :                       : -0.7922|\n",
            "|**************************************|\n",
            "|epoch (before backward):      : 2.0000|\n",
            "|**************************************|\n",
            "|volume parola target:         : 0.6370|\n",
            "|volume parola positive:       : 0.0669|\n",
            "|volume parola negative_2:     : 0.0217|\n",
            "|volume parola negative:       : 0.0068|\n",
            "|--------------------------------------|\n",
            "|volume int target-negative:   : 0.0022|\n",
            "|volume int target-negative_2: : 0.0062|\n",
            "|volume int target-positive:   : 0.0669|\n",
            "3\n",
            "|--------------------------------------|\n",
            "|Loss:                         : -1.9133|\n",
            "|pos:                          : 0.4675|\n",
            "|neg:                          : -0.9564|\n",
            "|neg_2 :                       : -1.0416|\n",
            "|**************************************|\n",
            "|epoch (before backward):      : 3.0000|\n",
            "|**************************************|\n",
            "|volume parola target:         : 0.6265|\n",
            "|volume parola positive:       : 0.0669|\n",
            "|volume parola negative_2:     : 0.0195|\n",
            "|volume parola negative:       : 0.0066|\n",
            "|--------------------------------------|\n",
            "|volume int target-negative:   : 0.0016|\n",
            "|volume int target-negative_2: : 0.0043|\n",
            "|volume int target-positive:   : 0.0669|\n",
            "4\n",
            "|--------------------------------------|\n",
            "|Loss:                         : -2.4656|\n",
            "|pos:                          : 0.4881|\n",
            "|neg:                          : -1.2571|\n",
            "|neg_2 :                       : -1.3124|\n",
            "|**************************************|\n",
            "|epoch (before backward):      : 4.0000|\n",
            "|**************************************|\n",
            "|volume parola target:         : 0.6138|\n",
            "|volume parola positive:       : 0.0669|\n",
            "|volume parola negative_2:     : 0.0177|\n",
            "|volume parola negative:       : 0.0065|\n",
            "|--------------------------------------|\n",
            "|volume int target-negative:   : 0.0011|\n",
            "|volume int target-negative_2: : 0.0029|\n",
            "|volume int target-positive:   : 0.0669|\n",
            "5\n",
            "|--------------------------------------|\n",
            "|Loss:                         : -3.0576|\n",
            "|pos:                          : 0.5122|\n",
            "|neg:                          : -1.5729|\n",
            "|neg_2 :                       : -1.6048|\n",
            "|**************************************|\n",
            "|epoch (before backward):      : 5.0000|\n",
            "|**************************************|\n",
            "|volume parola target:         : 0.5989|\n",
            "|volume parola positive:       : 0.0669|\n",
            "|volume parola negative_2:     : 0.0161|\n",
            "|volume parola negative:       : 0.0063|\n",
            "|--------------------------------------|\n",
            "|volume int target-negative:   : 0.0008|\n",
            "|volume int target-negative_2: : 0.0019|\n",
            "|volume int target-positive:   : 0.0669|\n",
            "6\n",
            "|--------------------------------------|\n",
            "|Loss:                         : -3.6899|\n",
            "|pos:                          : 0.5282|\n",
            "|neg:                          : -1.9043|\n",
            "|neg_2 :                       : -1.9188|\n",
            "|**************************************|\n",
            "|epoch (before backward):      : 6.0000|\n",
            "|**************************************|\n",
            "|volume parola target:         : 0.5818|\n",
            "|volume parola positive:       : 0.0672|\n",
            "|volume parola negative_2:     : 0.0147|\n",
            "|volume parola negative:       : 0.0062|\n",
            "|--------------------------------------|\n",
            "|volume int target-negative:   : 0.0005|\n",
            "|volume int target-negative_2: : 0.0013|\n",
            "|volume int target-positive:   : 0.0663|\n",
            "7\n",
            "|--------------------------------------|\n",
            "|Loss:                         : -4.3514|\n",
            "|pos:                          : 0.5515|\n",
            "|neg:                          : -2.2518|\n",
            "|neg_2 :                       : -2.2541|\n",
            "|**************************************|\n",
            "|epoch (before backward):      : 7.0000|\n",
            "|**************************************|\n",
            "|volume parola target:         : 0.5627|\n",
            "|volume parola positive:       : 0.0672|\n",
            "|volume parola negative_2:     : 0.0135|\n",
            "|volume parola negative:       : 0.0060|\n",
            "|--------------------------------------|\n",
            "|volume int target-negative:   : 0.0004|\n",
            "|volume int target-negative_2: : 0.0008|\n",
            "|volume int target-positive:   : 0.0656|\n",
            "8\n",
            "|--------------------------------------|\n",
            "|Loss:                         : -5.0574|\n",
            "|pos:                          : 0.5810|\n",
            "|neg:                          : -2.6157|\n",
            "|neg_2 :                       : -2.6101|\n",
            "|**************************************|\n",
            "|epoch (before backward):      : 8.0000|\n",
            "|**************************************|\n",
            "|volume parola target:         : 0.5416|\n",
            "|volume parola positive:       : 0.0672|\n",
            "|volume parola negative_2:     : 0.0124|\n",
            "|volume parola negative:       : 0.0059|\n",
            "|--------------------------------------|\n",
            "|volume int target-negative:   : 0.0002|\n",
            "|volume int target-negative_2: : 0.0005|\n",
            "|volume int target-positive:   : 0.0650|\n",
            "9\n",
            "|--------------------------------------|\n",
            "|Loss:                         : -5.8067|\n",
            "|pos:                          : 0.6163|\n",
            "|neg:                          : -2.9960|\n",
            "|neg_2 :                       : -2.9859|\n",
            "|**************************************|\n",
            "|epoch (before backward):      : 9.0000|\n",
            "|**************************************|\n",
            "|volume parola target:         : 0.5188|\n",
            "|volume parola positive:       : 0.0671|\n",
            "|volume parola negative_2:     : 0.0115|\n",
            "|volume parola negative:       : 0.0058|\n",
            "|--------------------------------------|\n",
            "|volume int target-negative:   : 0.0002|\n",
            "|volume int target-negative_2: : 0.0003|\n",
            "|volume int target-positive:   : 0.0644|\n",
            "10\n",
            "|--------------------------------------|\n",
            "|Loss:                         : -6.5982|\n",
            "|pos:                          : 0.6574|\n",
            "|neg:                          : -3.3925|\n",
            "|neg_2 :                       : -3.3807|\n",
            "|**************************************|\n",
            "|epoch (before backward):      : 10.0000|\n",
            "|**************************************|\n",
            "|volume parola target:         : 0.4944|\n",
            "|volume parola positive:       : 0.0669|\n",
            "|volume parola negative_2:     : 0.0107|\n",
            "|volume parola negative:       : 0.0057|\n",
            "|--------------------------------------|\n",
            "|volume int target-negative:   : 0.0001|\n",
            "|volume int target-negative_2: : 0.0002|\n",
            "|volume int target-positive:   : 0.0638|\n",
            "11\n",
            "|--------------------------------------|\n",
            "|Loss:                         : -7.4305|\n",
            "|pos:                          : 0.7043|\n",
            "|neg:                          : -3.8048|\n",
            "|neg_2 :                       : -3.7930|\n",
            "|**************************************|\n",
            "|epoch (before backward):      : 11.0000|\n",
            "|**************************************|\n",
            "|volume parola target:         : 0.4686|\n",
            "|volume parola positive:       : 0.0665|\n",
            "|volume parola negative_2:     : 0.0100|\n",
            "|volume parola negative:       : 0.0056|\n",
            "|--------------------------------------|\n",
            "|volume int target-negative:   : 0.0001|\n",
            "|volume int target-negative_2: : 0.0001|\n",
            "|volume int target-positive:   : 0.0630|\n",
            "12\n",
            "|--------------------------------------|\n",
            "|Loss:                         : -8.3021|\n",
            "|pos:                          : 0.7571|\n",
            "|neg:                          : -4.2320|\n",
            "|neg_2 :                       : -4.2216|\n",
            "|**************************************|\n",
            "|epoch (before backward):      : 12.0000|\n",
            "|**************************************|\n",
            "|volume parola target:         : 0.4416|\n",
            "|volume parola positive:       : 0.0659|\n",
            "|volume parola negative_2:     : 0.0094|\n",
            "|volume parola negative:       : 0.0055|\n",
            "|--------------------------------------|\n",
            "|volume int target-negative:   : 0.0000|\n",
            "|volume int target-negative_2: : 0.0001|\n",
            "|volume int target-positive:   : 0.0620|\n",
            "13\n",
            "|--------------------------------------|\n",
            "|Loss:                         : -9.2107|\n",
            "|pos:                          : 0.8160|\n",
            "|neg:                          : -4.6729|\n",
            "|neg_2 :                       : -4.6646|\n",
            "|**************************************|\n",
            "|epoch (before backward):      : 13.0000|\n",
            "|**************************************|\n",
            "|volume parola target:         : 0.4138|\n",
            "|volume parola positive:       : 0.0651|\n",
            "|volume parola negative_2:     : 0.0089|\n",
            "|volume parola negative:       : 0.0055|\n",
            "|--------------------------------------|\n",
            "|volume int target-negative:   : 0.0000|\n",
            "|volume int target-negative_2: : 0.0000|\n",
            "|volume int target-positive:   : 0.0609|\n",
            "14\n",
            "|--------------------------------------|\n",
            "|Loss:                         : -10.1535|\n",
            "|pos:                          : 0.8812|\n",
            "|neg:                          : -5.1260|\n",
            "|neg_2 :                       : -5.1201|\n",
            "|**************************************|\n",
            "|epoch (before backward):      : 14.0000|\n",
            "|**************************************|\n",
            "|volume parola target:         : 0.3853|\n",
            "|volume parola positive:       : 0.0641|\n",
            "|volume parola negative_2:     : 0.0085|\n",
            "|volume parola negative:       : 0.0054|\n",
            "|--------------------------------------|\n",
            "|volume int target-negative:   : 0.0000|\n",
            "|volume int target-negative_2: : 0.0000|\n",
            "|volume int target-positive:   : 0.0596|\n",
            "15\n",
            "|--------------------------------------|\n",
            "|Loss:                         : -11.1273|\n",
            "|pos:                          : 0.9528|\n",
            "|neg:                          : -5.5890|\n",
            "|neg_2 :                       : -5.5857|\n",
            "|**************************************|\n",
            "|epoch (before backward):      : 15.0000|\n",
            "|**************************************|\n",
            "|volume parola target:         : 0.3565|\n",
            "|volume parola positive:       : 0.0628|\n",
            "|volume parola negative_2:     : 0.0081|\n",
            "|volume parola negative:       : 0.0053|\n",
            "|--------------------------------------|\n",
            "|volume int target-negative:   : 0.0000|\n",
            "|volume int target-negative_2: : 0.0000|\n",
            "|volume int target-positive:   : 0.0581|\n",
            "16\n",
            "|--------------------------------------|\n",
            "|Loss:                         : -12.1276|\n",
            "|pos:                          : 1.0312|\n",
            "|neg:                          : -6.0596|\n",
            "|neg_2 :                       : -6.0588|\n",
            "|**************************************|\n",
            "|epoch (before backward):      : 16.0000|\n",
            "|**************************************|\n",
            "|volume parola target:         : 0.3277|\n",
            "|volume parola positive:       : 0.0614|\n",
            "|volume parola negative_2:     : 0.0077|\n",
            "|volume parola negative:       : 0.0053|\n",
            "|--------------------------------------|\n",
            "|volume int target-negative:   : 0.0000|\n",
            "|volume int target-negative_2: : 0.0000|\n",
            "|volume int target-positive:   : 0.0564|\n",
            "17\n",
            "|--------------------------------------|\n",
            "|Loss:                         : -13.1496|\n",
            "|pos:                          : 1.1163|\n",
            "|neg:                          : -6.5348|\n",
            "|neg_2 :                       : -6.5362|\n",
            "|**************************************|\n",
            "|epoch (before backward):      : 17.0000|\n",
            "|**************************************|\n",
            "|volume parola target:         : 0.2992|\n",
            "|volume parola positive:       : 0.0597|\n",
            "|volume parola negative_2:     : 0.0075|\n",
            "|volume parola negative:       : 0.0052|\n",
            "|--------------------------------------|\n",
            "|volume int target-negative:   : 0.0000|\n",
            "|volume int target-negative_2: : 0.0000|\n",
            "|volume int target-positive:   : 0.0545|\n",
            "18\n",
            "|--------------------------------------|\n",
            "|Loss:                         : -14.1873|\n",
            "|pos:                          : 1.2084|\n",
            "|neg:                          : -7.0113|\n",
            "|neg_2 :                       : -7.0147|\n",
            "|**************************************|\n",
            "|epoch (before backward):      : 18.0000|\n",
            "|**************************************|\n",
            "|volume parola target:         : 0.2714|\n",
            "|volume parola positive:       : 0.0578|\n",
            "|volume parola negative_2:     : 0.0072|\n",
            "|volume parola negative:       : 0.0052|\n",
            "|--------------------------------------|\n",
            "|volume int target-negative:   : 0.0000|\n",
            "|volume int target-negative_2: : 0.0000|\n",
            "|volume int target-positive:   : 0.0525|\n",
            "19\n",
            "|--------------------------------------|\n",
            "|Loss:                         : -15.2344|\n",
            "|pos:                          : 1.3075|\n",
            "|neg:                          : -7.4855|\n",
            "|neg_2 :                       : -7.4906|\n",
            "|**************************************|\n",
            "|epoch (before backward):      : 19.0000|\n",
            "|**************************************|\n",
            "|volume parola target:         : 0.2446|\n",
            "|volume parola positive:       : 0.0557|\n",
            "|volume parola negative_2:     : 0.0070|\n",
            "|volume parola negative:       : 0.0052|\n",
            "|--------------------------------------|\n",
            "|volume int target-negative:   : 0.0000|\n",
            "|volume int target-negative_2: : 0.0000|\n",
            "|volume int target-positive:   : 0.0504|\n",
            "20\n",
            "|--------------------------------------|\n",
            "|Loss:                         : -16.2836|\n",
            "|pos:                          : 1.4138|\n",
            "|neg:                          : -7.9535|\n",
            "|neg_2 :                       : -7.9601|\n",
            "|**************************************|\n",
            "|epoch (before backward):      : 20.0000|\n",
            "|**************************************|\n",
            "|volume parola target:         : 0.2189|\n",
            "|volume parola positive:       : 0.0534|\n",
            "|volume parola negative_2:     : 0.0068|\n",
            "|volume parola negative:       : 0.0051|\n",
            "|--------------------------------------|\n",
            "|volume int target-negative:   : 0.0000|\n",
            "|volume int target-negative_2: : 0.0000|\n",
            "|volume int target-positive:   : 0.0481|\n",
            "21\n",
            "|--------------------------------------|\n",
            "|Loss:                         : -17.3274|\n",
            "|pos:                          : 1.5270|\n",
            "|neg:                          : -8.4117|\n",
            "|neg_2 :                       : -8.4194|\n",
            "|**************************************|\n",
            "|epoch (before backward):      : 21.0000|\n",
            "|**************************************|\n",
            "|volume parola target:         : 0.1948|\n",
            "|volume parola positive:       : 0.0510|\n",
            "|volume parola negative_2:     : 0.0066|\n",
            "|volume parola negative:       : 0.0051|\n",
            "|--------------------------------------|\n",
            "|volume int target-negative:   : 0.0000|\n",
            "|volume int target-negative_2: : 0.0000|\n",
            "|volume int target-positive:   : 0.0458|\n",
            "22\n",
            "|--------------------------------------|\n",
            "|Loss:                         : -18.3580|\n",
            "|pos:                          : 1.6471|\n",
            "|neg:                          : -8.8560|\n",
            "|neg_2 :                       : -8.8647|\n",
            "|**************************************|\n",
            "|epoch (before backward):      : 22.0000|\n",
            "|**************************************|\n",
            "|volume parola target:         : 0.1723|\n",
            "|volume parola positive:       : 0.0485|\n",
            "|volume parola negative_2:     : 0.0065|\n",
            "|volume parola negative:       : 0.0051|\n",
            "|--------------------------------------|\n",
            "|volume int target-negative:   : 0.0000|\n",
            "|volume int target-negative_2: : 0.0000|\n",
            "|volume int target-positive:   : 0.0434|\n",
            "23\n",
            "|--------------------------------------|\n",
            "|Loss:                         : -19.3678|\n",
            "|pos:                          : 1.7737|\n",
            "|neg:                          : -9.2831|\n",
            "|neg_2 :                       : -9.2925|\n",
            "|**************************************|\n",
            "|epoch (before backward):      : 23.0000|\n",
            "|**************************************|\n",
            "|volume parola target:         : 0.1515|\n",
            "|volume parola positive:       : 0.0459|\n",
            "|volume parola negative_2:     : 0.0063|\n",
            "|volume parola negative:       : 0.0051|\n",
            "|--------------------------------------|\n",
            "|volume int target-negative:   : 0.0000|\n",
            "|volume int target-negative_2: : 0.0000|\n",
            "|volume int target-positive:   : 0.0410|\n",
            "24\n",
            "|--------------------------------------|\n",
            "|Loss:                         : -20.3493|\n",
            "|pos:                          : 1.9064|\n",
            "|neg:                          : -9.6898|\n",
            "|neg_2 :                       : -9.6997|\n",
            "|**************************************|\n",
            "|epoch (before backward):      : 24.0000|\n",
            "|**************************************|\n",
            "|volume parola target:         : 0.1327|\n",
            "|volume parola positive:       : 0.0433|\n",
            "|volume parola negative_2:     : 0.0062|\n",
            "|volume parola negative:       : 0.0050|\n",
            "|--------------------------------------|\n",
            "|volume int target-negative:   : 0.0000|\n",
            "|volume int target-negative_2: : 0.0000|\n",
            "|volume int target-positive:   : 0.0386|\n",
            "25\n",
            "|--------------------------------------|\n",
            "|Loss:                         : -21.2959|\n",
            "|pos:                          : 2.0447|\n",
            "|neg:                          : -10.0733|\n",
            "|neg_2 :                       : -10.0836|\n",
            "|**************************************|\n",
            "|epoch (before backward):      : 25.0000|\n",
            "|**************************************|\n",
            "|volume parola target:         : 0.1158|\n",
            "|volume parola positive:       : 0.0406|\n",
            "|volume parola negative_2:     : 0.0061|\n",
            "|volume parola negative:       : 0.0050|\n",
            "|--------------------------------------|\n",
            "|volume int target-negative:   : 0.0000|\n",
            "|volume int target-negative_2: : 0.0000|\n",
            "|volume int target-positive:   : 0.0363|\n",
            "26\n",
            "|--------------------------------------|\n",
            "|Loss:                         : -22.2016|\n",
            "|pos:                          : 2.1879|\n",
            "|neg:                          : -10.4317|\n",
            "|neg_2 :                       : -10.4422|\n",
            "|**************************************|\n",
            "|epoch (before backward):      : 26.0000|\n",
            "|**************************************|\n",
            "|volume parola target:         : 0.1008|\n",
            "|volume parola positive:       : 0.0379|\n",
            "|volume parola negative_2:     : 0.0060|\n",
            "|volume parola negative:       : 0.0050|\n",
            "|--------------------------------------|\n",
            "|volume int target-negative:   : 0.0000|\n",
            "|volume int target-negative_2: : 0.0000|\n",
            "|volume int target-positive:   : 0.0341|\n",
            "27\n",
            "|--------------------------------------|\n",
            "|Loss:                         : -23.0618|\n",
            "|pos:                          : 2.3349|\n",
            "|neg:                          : -10.7636|\n",
            "|neg_2 :                       : -10.7743|\n",
            "|**************************************|\n",
            "|epoch (before backward):      : 27.0000|\n",
            "|**************************************|\n",
            "|volume parola target:         : 0.0875|\n",
            "|volume parola positive:       : 0.0353|\n",
            "|volume parola negative_2:     : 0.0059|\n",
            "|volume parola negative:       : 0.0050|\n",
            "|--------------------------------------|\n",
            "|volume int target-negative:   : 0.0000|\n",
            "|volume int target-negative_2: : 0.0000|\n",
            "|volume int target-positive:   : 0.0319|\n",
            "28\n",
            "|--------------------------------------|\n",
            "|Loss:                         : -23.8728|\n",
            "|pos:                          : 2.4850|\n",
            "|neg:                          : -11.0684|\n",
            "|neg_2 :                       : -11.0791|\n",
            "|**************************************|\n",
            "|epoch (before backward):      : 28.0000|\n",
            "|**************************************|\n",
            "|volume parola target:         : 0.0760|\n",
            "|volume parola positive:       : 0.0328|\n",
            "|volume parola negative_2:     : 0.0059|\n",
            "|volume parola negative:       : 0.0050|\n",
            "|--------------------------------------|\n",
            "|volume int target-negative:   : 0.0000|\n",
            "|volume int target-negative_2: : 0.0000|\n",
            "|volume int target-positive:   : 0.0299|\n",
            "29\n",
            "|--------------------------------------|\n",
            "|Loss:                         : -24.6324|\n",
            "|pos:                          : 2.5252|\n",
            "|neg:                          : -11.3460|\n",
            "|neg_2 :                       : -11.3567|\n",
            "|**************************************|\n",
            "|epoch (before backward):      : 29.0000|\n",
            "|**************************************|\n",
            "|volume parola target:         : 0.0661|\n",
            "|volume parola positive:       : 0.0304|\n",
            "|volume parola negative_2:     : 0.0058|\n",
            "|volume parola negative:       : 0.0050|\n",
            "|--------------------------------------|\n",
            "|volume int target-negative:   : 0.0000|\n",
            "|volume int target-negative_2: : 0.0000|\n",
            "|volume int target-positive:   : 0.0250|\n",
            "30\n",
            "|--------------------------------------|\n",
            "|Loss:                         : -25.2278|\n",
            "|pos:                          : 2.6264|\n",
            "|neg:                          : -11.5941|\n",
            "|neg_2 :                       : -11.6047|\n",
            "|**************************************|\n",
            "|epoch (before backward):      : 30.0000|\n",
            "|**************************************|\n",
            "|volume parola target:         : 0.0576|\n",
            "|volume parola positive:       : 0.0280|\n",
            "|volume parola negative_2:     : 0.0057|\n",
            "|volume parola negative:       : 0.0050|\n",
            "|--------------------------------------|\n",
            "|volume int target-negative:   : 0.0000|\n",
            "|volume int target-negative_2: : 0.0000|\n",
            "|volume int target-positive:   : 0.0223|\n",
            "31\n",
            "|--------------------------------------|\n",
            "|Loss:                         : -25.8252|\n",
            "|pos:                          : 2.7582|\n",
            "|neg:                          : -11.8148|\n",
            "|neg_2 :                       : -11.8254|\n",
            "|**************************************|\n",
            "|epoch (before backward):      : 31.0000|\n",
            "|**************************************|\n",
            "|volume parola target:         : 0.0505|\n",
            "|volume parola positive:       : 0.0259|\n",
            "|volume parola negative_2:     : 0.0057|\n",
            "|volume parola negative:       : 0.0050|\n",
            "|--------------------------------------|\n",
            "|volume int target-negative:   : 0.0000|\n",
            "|volume int target-negative_2: : 0.0000|\n",
            "|volume int target-positive:   : 0.0206|\n",
            "32\n",
            "|--------------------------------------|\n",
            "|Loss:                         : -26.3984|\n",
            "|pos:                          : 2.9087|\n",
            "|neg:                          : -12.0106|\n",
            "|neg_2 :                       : -12.0210|\n",
            "|**************************************|\n",
            "|epoch (before backward):      : 32.0000|\n",
            "|**************************************|\n",
            "|volume parola target:         : 0.0445|\n",
            "|volume parola positive:       : 0.0238|\n",
            "|volume parola negative_2:     : 0.0056|\n",
            "|volume parola negative:       : 0.0049|\n",
            "|--------------------------------------|\n",
            "|volume int target-negative:   : 0.0000|\n",
            "|volume int target-negative_2: : 0.0000|\n",
            "|volume int target-positive:   : 0.0194|\n",
            "33\n",
            "|--------------------------------------|\n",
            "|Loss:                         : -26.9403|\n",
            "|pos:                          : 3.0697|\n",
            "|neg:                          : -12.1838|\n",
            "|neg_2 :                       : -12.1940|\n",
            "|**************************************|\n",
            "|epoch (before backward):      : 33.0000|\n",
            "|**************************************|\n",
            "|volume parola target:         : 0.0395|\n",
            "|volume parola positive:       : 0.0219|\n",
            "|volume parola negative_2:     : 0.0056|\n",
            "|volume parola negative:       : 0.0049|\n",
            "|--------------------------------------|\n",
            "|volume int target-negative:   : 0.0000|\n",
            "|volume int target-negative_2: : 0.0000|\n",
            "|volume int target-positive:   : 0.0186|\n",
            "34\n",
            "|--------------------------------------|\n",
            "|Loss:                         : -27.4475|\n",
            "|pos:                          : 3.2252|\n",
            "|neg:                          : -12.3367|\n",
            "|neg_2 :                       : -12.3468|\n",
            "|**************************************|\n",
            "|epoch (before backward):      : 34.0000|\n",
            "|**************************************|\n",
            "|volume parola target:         : 0.0352|\n",
            "|volume parola positive:       : 0.0201|\n",
            "|volume parola negative_2:     : 0.0056|\n",
            "|volume parola negative:       : 0.0049|\n",
            "|--------------------------------------|\n",
            "|volume int target-negative:   : 0.0000|\n",
            "|volume int target-negative_2: : 0.0000|\n",
            "|volume int target-positive:   : 0.0178|\n",
            "35\n",
            "|--------------------------------------|\n",
            "|Loss:                         : -27.9087|\n",
            "|pos:                          : 3.3687|\n",
            "|neg:                          : -12.4731|\n",
            "|neg_2 :                       : -12.4830|\n",
            "|**************************************|\n",
            "|epoch (before backward):      : 35.0000|\n",
            "|**************************************|\n",
            "|volume parola target:         : 0.0316|\n",
            "|volume parola positive:       : 0.0186|\n",
            "|volume parola negative_2:     : 0.0055|\n",
            "|volume parola negative:       : 0.0049|\n",
            "|--------------------------------------|\n",
            "|volume int target-negative:   : 0.0000|\n",
            "|volume int target-negative_2: : 0.0000|\n",
            "|volume int target-positive:   : 0.0171|\n",
            "36\n",
            "|--------------------------------------|\n",
            "|Loss:                         : -28.3249|\n",
            "|pos:                          : 3.5086|\n",
            "|neg:                          : -12.5946|\n",
            "|neg_2 :                       : -12.6043|\n",
            "|**************************************|\n",
            "|epoch (before backward):      : 36.0000|\n",
            "|**************************************|\n",
            "|volume parola target:         : 0.0285|\n",
            "|volume parola positive:       : 0.0173|\n",
            "|volume parola negative_2:     : 0.0055|\n",
            "|volume parola negative:       : 0.0049|\n",
            "|--------------------------------------|\n",
            "|volume int target-negative:   : 0.0000|\n",
            "|volume int target-negative_2: : 0.0000|\n",
            "|volume int target-positive:   : 0.0165|\n",
            "37\n",
            "|--------------------------------------|\n",
            "|Loss:                         : -28.7075|\n",
            "|pos:                          : 3.6426|\n",
            "|neg:                          : -12.7026|\n",
            "|neg_2 :                       : -12.7121|\n",
            "|**************************************|\n",
            "|epoch (before backward):      : 37.0000|\n",
            "|**************************************|\n",
            "|volume parola target:         : 0.0259|\n",
            "|volume parola positive:       : 0.0161|\n",
            "|volume parola negative_2:     : 0.0055|\n",
            "|volume parola negative:       : 0.0049|\n",
            "|--------------------------------------|\n",
            "|volume int target-negative:   : 0.0000|\n",
            "|volume int target-negative_2: : 0.0000|\n",
            "|volume int target-positive:   : 0.0159|\n",
            "38\n",
            "|--------------------------------------|\n",
            "|Loss:                         : -29.0573|\n",
            "|pos:                          : 3.7461|\n",
            "|neg:                          : -12.7987|\n",
            "|neg_2 :                       : -12.8079|\n",
            "|**************************************|\n",
            "|epoch (before backward):      : 38.0000|\n",
            "|**************************************|\n",
            "|volume parola target:         : 0.0236|\n",
            "|volume parola positive:       : 0.0151|\n",
            "|volume parola negative_2:     : 0.0054|\n",
            "|volume parola negative:       : 0.0049|\n",
            "|--------------------------------------|\n",
            "|volume int target-negative:   : 0.0000|\n",
            "|volume int target-negative_2: : 0.0000|\n",
            "|volume int target-positive:   : 0.0151|\n",
            "39\n",
            "|--------------------------------------|\n",
            "|Loss:                         : -29.3528|\n",
            "|pos:                          : 3.8327|\n",
            "|neg:                          : -12.8853|\n",
            "|neg_2 :                       : -12.8943|\n",
            "|**************************************|\n",
            "|epoch (before backward):      : 39.0000|\n",
            "|**************************************|\n",
            "|volume parola target:         : 0.0217|\n",
            "|volume parola positive:       : 0.0142|\n",
            "|volume parola negative_2:     : 0.0054|\n",
            "|volume parola negative:       : 0.0049|\n",
            "|--------------------------------------|\n",
            "|volume int target-negative:   : 0.0000|\n",
            "|volume int target-negative_2: : 0.0000|\n",
            "|volume int target-positive:   : 0.0142|\n",
            "40\n",
            "|--------------------------------------|\n",
            "|Loss:                         : -29.6123|\n",
            "|pos:                          : 3.9144|\n",
            "|neg:                          : -12.9633|\n",
            "|neg_2 :                       : -12.9721|\n",
            "|**************************************|\n",
            "|epoch (before backward):      : 40.0000|\n",
            "|**************************************|\n",
            "|volume parola target:         : 0.0200|\n",
            "|volume parola positive:       : 0.0135|\n",
            "|volume parola negative_2:     : 0.0054|\n",
            "|volume parola negative:       : 0.0049|\n",
            "|--------------------------------------|\n",
            "|volume int target-negative:   : 0.0000|\n",
            "|volume int target-negative_2: : 0.0000|\n",
            "|volume int target-positive:   : 0.0135|\n",
            "41\n",
            "|--------------------------------------|\n",
            "|Loss:                         : -29.8497|\n",
            "|pos:                          : 3.9913|\n",
            "|neg:                          : -13.0334|\n",
            "|neg_2 :                       : -13.0420|\n",
            "|**************************************|\n",
            "|epoch (before backward):      : 41.0000|\n",
            "|**************************************|\n",
            "|volume parola target:         : 0.0185|\n",
            "|volume parola positive:       : 0.0129|\n",
            "|volume parola negative_2:     : 0.0054|\n",
            "|volume parola negative:       : 0.0049|\n",
            "|--------------------------------------|\n",
            "|volume int target-negative:   : 0.0000|\n",
            "|volume int target-negative_2: : 0.0000|\n",
            "|volume int target-positive:   : 0.0129|\n",
            "42\n",
            "|--------------------------------------|\n",
            "|Loss:                         : -30.0668|\n",
            "|pos:                          : 4.0634|\n",
            "|neg:                          : -13.0966|\n",
            "|neg_2 :                       : -13.1050|\n",
            "|**************************************|\n",
            "|epoch (before backward):      : 42.0000|\n",
            "|**************************************|\n",
            "|volume parola target:         : 0.0172|\n",
            "|volume parola positive:       : 0.0123|\n",
            "|volume parola negative_2:     : 0.0053|\n",
            "|volume parola negative:       : 0.0049|\n",
            "|--------------------------------------|\n",
            "|volume int target-negative:   : 0.0000|\n",
            "|volume int target-negative_2: : 0.0000|\n",
            "|volume int target-positive:   : 0.0123|\n",
            "43\n",
            "|--------------------------------------|\n",
            "|Loss:                         : -30.2649|\n",
            "|pos:                          : 4.1257|\n",
            "|neg:                          : -13.1534|\n",
            "|neg_2 :                       : -13.1616|\n",
            "|**************************************|\n",
            "|epoch (before backward):      : 43.0000|\n",
            "|**************************************|\n",
            "|volume parola target:         : 0.0161|\n",
            "|volume parola positive:       : 0.0119|\n",
            "|volume parola negative_2:     : 0.0053|\n",
            "|volume parola negative:       : 0.0049|\n",
            "|--------------------------------------|\n",
            "|volume int target-negative:   : 0.0000|\n",
            "|volume int target-negative_2: : 0.0000|\n",
            "|volume int target-positive:   : 0.0118|\n",
            "44\n",
            "|--------------------------------------|\n",
            "|Loss:                         : -30.4407|\n",
            "|pos:                          : 4.1834|\n",
            "|neg:                          : -13.2040|\n",
            "|neg_2 :                       : -13.2120|\n",
            "|**************************************|\n",
            "|epoch (before backward):      : 44.0000|\n",
            "|**************************************|\n",
            "|volume parola target:         : 0.0151|\n",
            "|volume parola positive:       : 0.0114|\n",
            "|volume parola negative_2:     : 0.0053|\n",
            "|volume parola negative:       : 0.0049|\n",
            "|--------------------------------------|\n",
            "|volume int target-negative:   : 0.0000|\n",
            "|volume int target-negative_2: : 0.0000|\n",
            "|volume int target-positive:   : 0.0113|\n",
            "45\n",
            "|--------------------------------------|\n",
            "|Loss:                         : -30.5994|\n",
            "|pos:                          : 4.2403|\n",
            "|neg:                          : -13.2493|\n",
            "|neg_2 :                       : -13.2571|\n",
            "|**************************************|\n",
            "|epoch (before backward):      : 45.0000|\n",
            "|**************************************|\n",
            "|volume parola target:         : 0.0143|\n",
            "|volume parola positive:       : 0.0110|\n",
            "|volume parola negative_2:     : 0.0053|\n",
            "|volume parola negative:       : 0.0049|\n",
            "|--------------------------------------|\n",
            "|volume int target-negative:   : 0.0000|\n",
            "|volume int target-negative_2: : 0.0000|\n",
            "|volume int target-positive:   : 0.0109|\n",
            "46\n",
            "|--------------------------------------|\n",
            "|Loss:                         : -30.7467|\n",
            "|pos:                          : 4.2960|\n",
            "|neg:                          : -13.2899|\n",
            "|neg_2 :                       : -13.2975|\n",
            "|**************************************|\n",
            "|epoch (before backward):      : 46.0000|\n",
            "|**************************************|\n",
            "|volume parola target:         : 0.0135|\n",
            "|volume parola positive:       : 0.0106|\n",
            "|volume parola negative_2:     : 0.0053|\n",
            "|volume parola negative:       : 0.0049|\n",
            "|--------------------------------------|\n",
            "|volume int target-negative:   : 0.0000|\n",
            "|volume int target-negative_2: : 0.0000|\n",
            "|volume int target-positive:   : 0.0105|\n",
            "47\n",
            "|--------------------------------------|\n",
            "|Loss:                         : -30.8833|\n",
            "|pos:                          : 4.3500|\n",
            "|neg:                          : -13.3263|\n",
            "|neg_2 :                       : -13.3337|\n",
            "|**************************************|\n",
            "|epoch (before backward):      : 47.0000|\n",
            "|**************************************|\n",
            "|volume parola target:         : 0.0129|\n",
            "|volume parola positive:       : 0.0102|\n",
            "|volume parola negative_2:     : 0.0053|\n",
            "|volume parola negative:       : 0.0049|\n",
            "|--------------------------------------|\n",
            "|volume int target-negative:   : 0.0000|\n",
            "|volume int target-negative_2: : 0.0000|\n",
            "|volume int target-positive:   : 0.0102|\n",
            "48\n",
            "|--------------------------------------|\n",
            "|Loss:                         : -31.0100|\n",
            "|pos:                          : 4.3970|\n",
            "|neg:                          : -13.3591|\n",
            "|neg_2 :                       : -13.3664|\n",
            "|**************************************|\n",
            "|epoch (before backward):      : 48.0000|\n",
            "|**************************************|\n",
            "|volume parola target:         : 0.0123|\n",
            "|volume parola positive:       : 0.0098|\n",
            "|volume parola negative_2:     : 0.0052|\n",
            "|volume parola negative:       : 0.0049|\n",
            "|--------------------------------------|\n",
            "|volume int target-negative:   : 0.0000|\n",
            "|volume int target-negative_2: : 0.0000|\n",
            "|volume int target-positive:   : 0.0098|\n",
            "49\n",
            "|--------------------------------------|\n",
            "|Loss:                         : -31.1225|\n",
            "|pos:                          : 4.4389|\n",
            "|neg:                          : -13.3891|\n",
            "|neg_2 :                       : -13.3962|\n",
            "|**************************************|\n",
            "|epoch (before backward):      : 49.0000|\n",
            "|**************************************|\n",
            "|volume parola target:         : 0.0118|\n",
            "|volume parola positive:       : 0.0095|\n",
            "|volume parola negative_2:     : 0.0052|\n",
            "|volume parola negative:       : 0.0049|\n",
            "|--------------------------------------|\n",
            "|volume int target-negative:   : 0.0000|\n",
            "|volume int target-negative_2: : 0.0000|\n",
            "|volume int target-positive:   : 0.0095|\n",
            "50\n",
            "|--------------------------------------|\n",
            "|Loss:                         : -31.2242|\n",
            "|pos:                          : 4.4781|\n",
            "|neg:                          : -13.4166|\n",
            "|neg_2 :                       : -13.4234|\n",
            "|**************************************|\n",
            "|epoch (before backward):      : 50.0000|\n",
            "|**************************************|\n",
            "|volume parola target:         : 0.0114|\n",
            "|volume parola positive:       : 0.0093|\n",
            "|volume parola negative_2:     : 0.0052|\n",
            "|volume parola negative:       : 0.0049|\n",
            "|--------------------------------------|\n",
            "|volume int target-negative:   : 0.0000|\n",
            "|volume int target-negative_2: : 0.0000|\n",
            "|volume int target-positive:   : 0.0093|\n",
            "51\n",
            "|--------------------------------------|\n",
            "|Loss:                         : -31.3181|\n",
            "|pos:                          : 4.5147|\n",
            "|neg:                          : -13.4417|\n",
            "|neg_2 :                       : -13.4484|\n",
            "|**************************************|\n",
            "|epoch (before backward):      : 51.0000|\n",
            "|**************************************|\n",
            "|volume parola target:         : 0.0109|\n",
            "|volume parola positive:       : 0.0091|\n",
            "|volume parola negative_2:     : 0.0052|\n",
            "|volume parola negative:       : 0.0049|\n",
            "|--------------------------------------|\n",
            "|volume int target-negative:   : 0.0000|\n",
            "|volume int target-negative_2: : 0.0000|\n",
            "|volume int target-positive:   : 0.0091|\n",
            "52\n",
            "|--------------------------------------|\n",
            "|Loss:                         : -31.4048|\n",
            "|pos:                          : 4.5489|\n",
            "|neg:                          : -13.4647|\n",
            "|neg_2 :                       : -13.4713|\n",
            "|**************************************|\n",
            "|epoch (before backward):      : 52.0000|\n",
            "|**************************************|\n",
            "|volume parola target:         : 0.0106|\n",
            "|volume parola positive:       : 0.0089|\n",
            "|volume parola negative_2:     : 0.0052|\n",
            "|volume parola negative:       : 0.0049|\n",
            "|--------------------------------------|\n",
            "|volume int target-negative:   : 0.0000|\n",
            "|volume int target-negative_2: : 0.0000|\n",
            "|volume int target-positive:   : 0.0089|\n",
            "53\n",
            "|--------------------------------------|\n",
            "|Loss:                         : -31.4849|\n",
            "|pos:                          : 4.5808|\n",
            "|neg:                          : -13.4859|\n",
            "|neg_2 :                       : -13.4923|\n",
            "|**************************************|\n",
            "|epoch (before backward):      : 53.0000|\n",
            "|**************************************|\n",
            "|volume parola target:         : 0.0102|\n",
            "|volume parola positive:       : 0.0087|\n",
            "|volume parola negative_2:     : 0.0052|\n",
            "|volume parola negative:       : 0.0049|\n",
            "|--------------------------------------|\n",
            "|volume int target-negative:   : 0.0000|\n",
            "|volume int target-negative_2: : 0.0000|\n",
            "|volume int target-positive:   : 0.0087|\n",
            "54\n",
            "|--------------------------------------|\n",
            "|Loss:                         : -31.5590|\n",
            "|pos:                          : 4.6106|\n",
            "|neg:                          : -13.5054|\n",
            "|neg_2 :                       : -13.5116|\n",
            "|**************************************|\n",
            "|epoch (before backward):      : 54.0000|\n",
            "|**************************************|\n",
            "|volume parola target:         : 0.0099|\n",
            "|volume parola positive:       : 0.0086|\n",
            "|volume parola negative_2:     : 0.0052|\n",
            "|volume parola negative:       : 0.0049|\n",
            "|--------------------------------------|\n",
            "|volume int target-negative:   : 0.0000|\n",
            "|volume int target-negative_2: : 0.0000|\n",
            "|volume int target-positive:   : 0.0086|\n",
            "55\n",
            "|--------------------------------------|\n",
            "|Loss:                         : -31.6276|\n",
            "|pos:                          : 4.6385|\n",
            "|neg:                          : -13.5234|\n",
            "|neg_2 :                       : -13.5295|\n",
            "|**************************************|\n",
            "|epoch (before backward):      : 55.0000|\n",
            "|**************************************|\n",
            "|volume parola target:         : 0.0097|\n",
            "|volume parola positive:       : 0.0084|\n",
            "|volume parola negative_2:     : 0.0052|\n",
            "|volume parola negative:       : 0.0049|\n",
            "|--------------------------------------|\n",
            "|volume int target-negative:   : 0.0000|\n",
            "|volume int target-negative_2: : 0.0000|\n",
            "|volume int target-positive:   : 0.0084|\n",
            "56\n",
            "|--------------------------------------|\n",
            "|Loss:                         : -31.6913|\n",
            "|pos:                          : 4.6645|\n",
            "|neg:                          : -13.5400|\n",
            "|neg_2 :                       : -13.5459|\n",
            "|**************************************|\n",
            "|epoch (before backward):      : 56.0000|\n",
            "|**************************************|\n",
            "|volume parola target:         : 0.0094|\n",
            "|volume parola positive:       : 0.0083|\n",
            "|volume parola negative_2:     : 0.0052|\n",
            "|volume parola negative:       : 0.0049|\n",
            "|--------------------------------------|\n",
            "|volume int target-negative:   : 0.0000|\n",
            "|volume int target-negative_2: : 0.0000|\n",
            "|volume int target-positive:   : 0.0083|\n",
            "57\n",
            "|--------------------------------------|\n",
            "|Loss:                         : -31.7504|\n",
            "|pos:                          : 4.6830|\n",
            "|neg:                          : -13.5554|\n",
            "|neg_2 :                       : -13.5612|\n",
            "|**************************************|\n",
            "|epoch (before backward):      : 57.0000|\n",
            "|**************************************|\n",
            "|volume parola target:         : 0.0092|\n",
            "|volume parola positive:       : 0.0082|\n",
            "|volume parola negative_2:     : 0.0052|\n",
            "|volume parola negative:       : 0.0049|\n",
            "|--------------------------------------|\n",
            "|volume int target-negative:   : 0.0000|\n",
            "|volume int target-negative_2: : 0.0000|\n",
            "|volume int target-positive:   : 0.0082|\n",
            "58\n",
            "|--------------------------------------|\n",
            "|Loss:                         : -31.7995|\n",
            "|pos:                          : 4.7012|\n",
            "|neg:                          : -13.5694|\n",
            "|neg_2 :                       : -13.5751|\n",
            "|**************************************|\n",
            "|epoch (before backward):      : 58.0000|\n",
            "|**************************************|\n",
            "|volume parola target:         : 0.0090|\n",
            "|volume parola positive:       : 0.0081|\n",
            "|volume parola negative_2:     : 0.0051|\n",
            "|volume parola negative:       : 0.0049|\n",
            "|--------------------------------------|\n",
            "|volume int target-negative:   : 0.0000|\n",
            "|volume int target-negative_2: : 0.0000|\n",
            "|volume int target-positive:   : 0.0081|\n",
            "59\n",
            "|--------------------------------------|\n",
            "|Loss:                         : -31.8457|\n",
            "|pos:                          : 4.7190|\n",
            "|neg:                          : -13.5821|\n",
            "|neg_2 :                       : -13.5877|\n",
            "|**************************************|\n",
            "|epoch (before backward):      : 59.0000|\n",
            "|**************************************|\n",
            "|volume parola target:         : 0.0088|\n",
            "|volume parola positive:       : 0.0080|\n",
            "|volume parola negative_2:     : 0.0051|\n",
            "|volume parola negative:       : 0.0049|\n",
            "|--------------------------------------|\n",
            "|volume int target-negative:   : 0.0000|\n",
            "|volume int target-negative_2: : 0.0000|\n",
            "|volume int target-positive:   : 0.0079|\n",
            "60\n",
            "|--------------------------------------|\n",
            "|Loss:                         : -31.8888|\n",
            "|pos:                          : 4.7388|\n",
            "|neg:                          : -13.5937|\n",
            "|neg_2 :                       : -13.5991|\n",
            "|**************************************|\n",
            "|epoch (before backward):      : 60.0000|\n",
            "|**************************************|\n",
            "|volume parola target:         : 0.0086|\n",
            "|volume parola positive:       : 0.0079|\n",
            "|volume parola negative_2:     : 0.0051|\n",
            "|volume parola negative:       : 0.0049|\n",
            "|--------------------------------------|\n",
            "|volume int target-negative:   : 0.0000|\n",
            "|volume int target-negative_2: : 0.0000|\n",
            "|volume int target-positive:   : 0.0078|\n",
            "61\n",
            "|--------------------------------------|\n",
            "|Loss:                         : -31.9316|\n",
            "|pos:                          : 4.7594|\n",
            "|neg:                          : -13.6042|\n",
            "|neg_2 :                       : -13.6095|\n",
            "|**************************************|\n",
            "|epoch (before backward):      : 61.0000|\n",
            "|**************************************|\n",
            "|volume parola target:         : 0.0085|\n",
            "|volume parola positive:       : 0.0078|\n",
            "|volume parola negative_2:     : 0.0051|\n",
            "|volume parola negative:       : 0.0049|\n",
            "|--------------------------------------|\n",
            "|volume int target-negative:   : 0.0000|\n",
            "|volume int target-negative_2: : 0.0000|\n",
            "|volume int target-positive:   : 0.0077|\n",
            "62\n",
            "|--------------------------------------|\n",
            "|Loss:                         : -31.9732|\n",
            "|pos:                          : 4.7791|\n",
            "|neg:                          : -13.6140|\n",
            "|neg_2 :                       : -13.6192|\n",
            "|**************************************|\n",
            "|epoch (before backward):      : 62.0000|\n",
            "|**************************************|\n",
            "|volume parola target:         : 0.0084|\n",
            "|volume parola positive:       : 0.0076|\n",
            "|volume parola negative_2:     : 0.0051|\n",
            "|volume parola negative:       : 0.0049|\n",
            "|--------------------------------------|\n",
            "|volume int target-negative:   : 0.0000|\n",
            "|volume int target-negative_2: : 0.0000|\n",
            "|volume int target-positive:   : 0.0076|\n",
            "63\n",
            "|--------------------------------------|\n",
            "|Loss:                         : -32.0123|\n",
            "|pos:                          : 4.7986|\n",
            "|neg:                          : -13.6231|\n",
            "|neg_2 :                       : -13.6282|\n",
            "|**************************************|\n",
            "|epoch (before backward):      : 63.0000|\n",
            "|**************************************|\n",
            "|volume parola target:         : 0.0082|\n",
            "|volume parola positive:       : 0.0075|\n",
            "|volume parola negative_2:     : 0.0051|\n",
            "|volume parola negative:       : 0.0049|\n",
            "|--------------------------------------|\n",
            "|volume int target-negative:   : 0.0000|\n",
            "|volume int target-negative_2: : 0.0000|\n",
            "|volume int target-positive:   : 0.0075|\n",
            "64\n",
            "|--------------------------------------|\n",
            "|Loss:                         : -32.0499|\n",
            "|pos:                          : 4.8128|\n",
            "|neg:                          : -13.6317|\n",
            "|neg_2 :                       : -13.6367|\n",
            "|**************************************|\n",
            "|epoch (before backward):      : 64.0000|\n",
            "|**************************************|\n",
            "|volume parola target:         : 0.0081|\n",
            "|volume parola positive:       : 0.0074|\n",
            "|volume parola negative_2:     : 0.0051|\n",
            "|volume parola negative:       : 0.0049|\n",
            "|--------------------------------------|\n",
            "|volume int target-negative:   : 0.0000|\n",
            "|volume int target-negative_2: : 0.0000|\n",
            "|volume int target-positive:   : 0.0074|\n",
            "65\n",
            "|--------------------------------------|\n",
            "|Loss:                         : -32.0813|\n",
            "|pos:                          : 4.8264|\n",
            "|neg:                          : -13.6399|\n",
            "|neg_2 :                       : -13.6448|\n",
            "|**************************************|\n",
            "|epoch (before backward):      : 65.0000|\n",
            "|**************************************|\n",
            "|volume parola target:         : 0.0080|\n",
            "|volume parola positive:       : 0.0073|\n",
            "|volume parola negative_2:     : 0.0051|\n",
            "|volume parola negative:       : 0.0049|\n",
            "|--------------------------------------|\n",
            "|volume int target-negative:   : 0.0000|\n",
            "|volume int target-negative_2: : 0.0000|\n",
            "|volume int target-positive:   : 0.0073|\n",
            "66\n",
            "|--------------------------------------|\n",
            "|Loss:                         : -32.1112|\n",
            "|pos:                          : 4.8391|\n",
            "|neg:                          : -13.6477|\n",
            "|neg_2 :                       : -13.6525|\n",
            "|**************************************|\n",
            "|epoch (before backward):      : 66.0000|\n",
            "|**************************************|\n",
            "|volume parola target:         : 0.0079|\n",
            "|volume parola positive:       : 0.0073|\n",
            "|volume parola negative_2:     : 0.0051|\n",
            "|volume parola negative:       : 0.0049|\n",
            "|--------------------------------------|\n",
            "|volume int target-negative:   : 0.0000|\n",
            "|volume int target-negative_2: : 0.0000|\n",
            "|volume int target-positive:   : 0.0073|\n",
            "67\n",
            "|--------------------------------------|\n",
            "|Loss:                         : -32.1393|\n",
            "|pos:                          : 4.8515|\n",
            "|neg:                          : -13.6550|\n",
            "|neg_2 :                       : -13.6597|\n",
            "|**************************************|\n",
            "|epoch (before backward):      : 67.0000|\n",
            "|**************************************|\n",
            "|volume parola target:         : 0.0078|\n",
            "|volume parola positive:       : 0.0072|\n",
            "|volume parola negative_2:     : 0.0051|\n",
            "|volume parola negative:       : 0.0049|\n",
            "|--------------------------------------|\n",
            "|volume int target-negative:   : 0.0000|\n",
            "|volume int target-negative_2: : 0.0000|\n",
            "|volume int target-positive:   : 0.0072|\n",
            "68\n",
            "|--------------------------------------|\n",
            "|Loss:                         : -32.1662|\n",
            "|pos:                          : 4.8631|\n",
            "|neg:                          : -13.6619|\n",
            "|neg_2 :                       : -13.6664|\n",
            "|**************************************|\n",
            "|epoch (before backward):      : 68.0000|\n",
            "|**************************************|\n",
            "|volume parola target:         : 0.0077|\n",
            "|volume parola positive:       : 0.0071|\n",
            "|volume parola negative_2:     : 0.0051|\n",
            "|volume parola negative:       : 0.0049|\n",
            "|--------------------------------------|\n",
            "|volume int target-negative:   : 0.0000|\n",
            "|volume int target-negative_2: : 0.0000|\n",
            "|volume int target-positive:   : 0.0071|\n",
            "69\n",
            "|--------------------------------------|\n",
            "|Loss:                         : -32.1914|\n",
            "|pos:                          : 4.8741|\n",
            "|neg:                          : -13.6684|\n",
            "|neg_2 :                       : -13.6729|\n",
            "|**************************************|\n",
            "|epoch (before backward):      : 69.0000|\n",
            "|**************************************|\n",
            "|volume parola target:         : 0.0076|\n",
            "|volume parola positive:       : 0.0070|\n",
            "|volume parola negative_2:     : 0.0051|\n",
            "|volume parola negative:       : 0.0049|\n",
            "|--------------------------------------|\n",
            "|volume int target-negative:   : 0.0000|\n",
            "|volume int target-negative_2: : 0.0000|\n",
            "|volume int target-positive:   : 0.0070|\n",
            "70\n",
            "|--------------------------------------|\n",
            "|Loss:                         : -32.2154|\n",
            "|pos:                          : 4.8847|\n",
            "|neg:                          : -13.6747|\n",
            "|neg_2 :                       : -13.6791|\n",
            "|**************************************|\n",
            "|epoch (before backward):      : 70.0000|\n",
            "|**************************************|\n",
            "|volume parola target:         : 0.0076|\n",
            "|volume parola positive:       : 0.0070|\n",
            "|volume parola negative_2:     : 0.0051|\n",
            "|volume parola negative:       : 0.0049|\n",
            "|--------------------------------------|\n",
            "|volume int target-negative:   : 0.0000|\n",
            "|volume int target-negative_2: : 0.0000|\n",
            "|volume int target-positive:   : 0.0070|\n",
            "71\n",
            "|--------------------------------------|\n",
            "|Loss:                         : -32.2384|\n",
            "|pos:                          : 4.8948|\n",
            "|neg:                          : -13.6806|\n",
            "|neg_2 :                       : -13.6850|\n",
            "|**************************************|\n",
            "|epoch (before backward):      : 71.0000|\n",
            "|**************************************|\n",
            "|volume parola target:         : 0.0075|\n",
            "|volume parola positive:       : 0.0069|\n",
            "|volume parola negative_2:     : 0.0051|\n",
            "|volume parola negative:       : 0.0048|\n",
            "|--------------------------------------|\n",
            "|volume int target-negative:   : 0.0000|\n",
            "|volume int target-negative_2: : 0.0000|\n",
            "|volume int target-positive:   : 0.0069|\n",
            "72\n",
            "|--------------------------------------|\n",
            "|Loss:                         : -32.2604|\n",
            "|pos:                          : 4.9046|\n",
            "|neg:                          : -13.6864|\n",
            "|neg_2 :                       : -13.6906|\n",
            "|**************************************|\n",
            "|epoch (before backward):      : 72.0000|\n",
            "|**************************************|\n",
            "|volume parola target:         : 0.0074|\n",
            "|volume parola positive:       : 0.0069|\n",
            "|volume parola negative_2:     : 0.0051|\n",
            "|volume parola negative:       : 0.0048|\n",
            "|--------------------------------------|\n",
            "|volume int target-negative:   : 0.0000|\n",
            "|volume int target-negative_2: : 0.0000|\n",
            "|volume int target-positive:   : 0.0069|\n",
            "73\n",
            "|--------------------------------------|\n",
            "|Loss:                         : -32.2816|\n",
            "|pos:                          : 4.9140|\n",
            "|neg:                          : -13.6919|\n",
            "|neg_2 :                       : -13.6960|\n",
            "|**************************************|\n",
            "|epoch (before backward):      : 73.0000|\n",
            "|**************************************|\n",
            "|volume parola target:         : 0.0073|\n",
            "|volume parola positive:       : 0.0068|\n",
            "|volume parola negative_2:     : 0.0051|\n",
            "|volume parola negative:       : 0.0048|\n",
            "|--------------------------------------|\n",
            "|volume int target-negative:   : 0.0000|\n",
            "|volume int target-negative_2: : 0.0000|\n",
            "|volume int target-positive:   : 0.0068|\n",
            "74\n",
            "|--------------------------------------|\n",
            "|Loss:                         : -32.3019|\n",
            "|pos:                          : 4.9223|\n",
            "|neg:                          : -13.6971|\n",
            "|neg_2 :                       : -13.7012|\n",
            "|**************************************|\n",
            "|epoch (before backward):      : 74.0000|\n",
            "|**************************************|\n",
            "|volume parola target:         : 0.0073|\n",
            "|volume parola positive:       : 0.0068|\n",
            "|volume parola negative_2:     : 0.0051|\n",
            "|volume parola negative:       : 0.0048|\n",
            "|--------------------------------------|\n",
            "|volume int target-negative:   : 0.0000|\n",
            "|volume int target-negative_2: : 0.0000|\n",
            "|volume int target-positive:   : 0.0068|\n",
            "75\n",
            "|--------------------------------------|\n",
            "|Loss:                         : -32.3206|\n",
            "|pos:                          : 4.9307|\n",
            "|neg:                          : -13.7021|\n",
            "|neg_2 :                       : -13.7061|\n",
            "|**************************************|\n",
            "|epoch (before backward):      : 75.0000|\n",
            "|**************************************|\n",
            "|volume parola target:         : 0.0072|\n",
            "|volume parola positive:       : 0.0068|\n",
            "|volume parola negative_2:     : 0.0051|\n",
            "|volume parola negative:       : 0.0048|\n",
            "|--------------------------------------|\n",
            "|volume int target-negative:   : 0.0000|\n",
            "|volume int target-negative_2: : 0.0000|\n",
            "|volume int target-positive:   : 0.0068|\n",
            "76\n",
            "|--------------------------------------|\n",
            "|Loss:                         : -32.3389|\n",
            "|pos:                          : 4.9382|\n",
            "|neg:                          : -13.7068|\n",
            "|neg_2 :                       : -13.7107|\n",
            "|**************************************|\n",
            "|epoch (before backward):      : 76.0000|\n",
            "|**************************************|\n",
            "|volume parola target:         : 0.0072|\n",
            "|volume parola positive:       : 0.0067|\n",
            "|volume parola negative_2:     : 0.0051|\n",
            "|volume parola negative:       : 0.0048|\n",
            "|--------------------------------------|\n",
            "|volume int target-negative:   : 0.0000|\n",
            "|volume int target-negative_2: : 0.0000|\n",
            "|volume int target-positive:   : 0.0067|\n",
            "77\n",
            "|--------------------------------------|\n",
            "|Loss:                         : -32.3557|\n",
            "|pos:                          : 4.9451|\n",
            "|neg:                          : -13.7112|\n",
            "|neg_2 :                       : -13.7150|\n",
            "|**************************************|\n",
            "|epoch (before backward):      : 77.0000|\n",
            "|**************************************|\n",
            "|volume parola target:         : 0.0071|\n",
            "|volume parola positive:       : 0.0067|\n",
            "|volume parola negative_2:     : 0.0050|\n",
            "|volume parola negative:       : 0.0048|\n",
            "|--------------------------------------|\n",
            "|volume int target-negative:   : 0.0000|\n",
            "|volume int target-negative_2: : 0.0000|\n",
            "|volume int target-positive:   : 0.0067|\n",
            "78\n",
            "|--------------------------------------|\n",
            "|Loss:                         : -32.3713|\n",
            "|pos:                          : 4.9524|\n",
            "|neg:                          : -13.7153|\n",
            "|neg_2 :                       : -13.7191|\n",
            "|**************************************|\n",
            "|epoch (before backward):      : 78.0000|\n",
            "|**************************************|\n",
            "|volume parola target:         : 0.0071|\n",
            "|volume parola positive:       : 0.0066|\n",
            "|volume parola negative_2:     : 0.0050|\n",
            "|volume parola negative:       : 0.0048|\n",
            "|--------------------------------------|\n",
            "|volume int target-negative:   : 0.0000|\n",
            "|volume int target-negative_2: : 0.0000|\n",
            "|volume int target-positive:   : 0.0066|\n",
            "79\n",
            "|--------------------------------------|\n",
            "|Loss:                         : -32.3869|\n",
            "|pos:                          : 4.9603|\n",
            "|neg:                          : -13.7193|\n",
            "|neg_2 :                       : -13.7230|\n",
            "|**************************************|\n",
            "|epoch (before backward):      : 79.0000|\n",
            "|**************************************|\n",
            "|volume parola target:         : 0.0070|\n",
            "|volume parola positive:       : 0.0066|\n",
            "|volume parola negative_2:     : 0.0050|\n",
            "|volume parola negative:       : 0.0048|\n",
            "|--------------------------------------|\n",
            "|volume int target-negative:   : 0.0000|\n",
            "|volume int target-negative_2: : 0.0000|\n",
            "|volume int target-positive:   : 0.0066|\n",
            "80\n",
            "|--------------------------------------|\n",
            "|Loss:                         : -32.4026|\n",
            "|pos:                          : 4.9674|\n",
            "|neg:                          : -13.7230|\n",
            "|neg_2 :                       : -13.7267|\n",
            "|**************************************|\n",
            "|epoch (before backward):      : 80.0000|\n",
            "|**************************************|\n",
            "|volume parola target:         : 0.0070|\n",
            "|volume parola positive:       : 0.0065|\n",
            "|volume parola negative_2:     : 0.0050|\n",
            "|volume parola negative:       : 0.0048|\n",
            "|--------------------------------------|\n",
            "|volume int target-negative:   : 0.0000|\n",
            "|volume int target-negative_2: : 0.0000|\n",
            "|volume int target-positive:   : 0.0065|\n",
            "81\n",
            "|--------------------------------------|\n",
            "|Loss:                         : -32.4171|\n",
            "|pos:                          : 4.9737|\n",
            "|neg:                          : -13.7267|\n",
            "|neg_2 :                       : -13.7303|\n",
            "|**************************************|\n",
            "|epoch (before backward):      : 81.0000|\n",
            "|**************************************|\n",
            "|volume parola target:         : 0.0069|\n",
            "|volume parola positive:       : 0.0065|\n",
            "|volume parola negative_2:     : 0.0050|\n",
            "|volume parola negative:       : 0.0048|\n",
            "|--------------------------------------|\n",
            "|volume int target-negative:   : 0.0000|\n",
            "|volume int target-negative_2: : 0.0000|\n",
            "|volume int target-positive:   : 0.0065|\n",
            "82\n",
            "|--------------------------------------|\n",
            "|Loss:                         : -32.4307|\n",
            "|pos:                          : 4.9798|\n",
            "|neg:                          : -13.7303|\n",
            "|neg_2 :                       : -13.7338|\n",
            "|**************************************|\n",
            "|epoch (before backward):      : 82.0000|\n",
            "|**************************************|\n",
            "|volume parola target:         : 0.0069|\n",
            "|volume parola positive:       : 0.0065|\n",
            "|volume parola negative_2:     : 0.0050|\n",
            "|volume parola negative:       : 0.0048|\n",
            "|--------------------------------------|\n",
            "|volume int target-negative:   : 0.0000|\n",
            "|volume int target-negative_2: : 0.0000|\n",
            "|volume int target-positive:   : 0.0065|\n",
            "83\n",
            "|--------------------------------------|\n",
            "|Loss:                         : -32.4439|\n",
            "|pos:                          : 4.9858|\n",
            "|neg:                          : -13.7338|\n",
            "|neg_2 :                       : -13.7372|\n",
            "|**************************************|\n",
            "|epoch (before backward):      : 83.0000|\n",
            "|**************************************|\n",
            "|volume parola target:         : 0.0068|\n",
            "|volume parola positive:       : 0.0064|\n",
            "|volume parola negative_2:     : 0.0050|\n",
            "|volume parola negative:       : 0.0048|\n",
            "|--------------------------------------|\n",
            "|volume int target-negative:   : 0.0000|\n",
            "|volume int target-negative_2: : 0.0000|\n",
            "|volume int target-positive:   : 0.0064|\n",
            "84\n",
            "|--------------------------------------|\n",
            "|Loss:                         : -32.4568|\n",
            "|pos:                          : 4.9917|\n",
            "|neg:                          : -13.7372|\n",
            "|neg_2 :                       : -13.7406|\n",
            "|**************************************|\n",
            "|epoch (before backward):      : 84.0000|\n",
            "|**************************************|\n",
            "|volume parola target:         : 0.0068|\n",
            "|volume parola positive:       : 0.0064|\n",
            "|volume parola negative_2:     : 0.0050|\n",
            "|volume parola negative:       : 0.0048|\n",
            "|--------------------------------------|\n",
            "|volume int target-negative:   : 0.0000|\n",
            "|volume int target-negative_2: : 0.0000|\n",
            "|volume int target-positive:   : 0.0064|\n",
            "85\n",
            "|--------------------------------------|\n",
            "|Loss:                         : -32.4694|\n",
            "|pos:                          : 4.9974|\n",
            "|neg:                          : -13.7404|\n",
            "|neg_2 :                       : -13.7438|\n",
            "|**************************************|\n",
            "|epoch (before backward):      : 85.0000|\n",
            "|**************************************|\n",
            "|volume parola target:         : 0.0068|\n",
            "|volume parola positive:       : 0.0064|\n",
            "|volume parola negative_2:     : 0.0050|\n",
            "|volume parola negative:       : 0.0048|\n",
            "|--------------------------------------|\n",
            "|volume int target-negative:   : 0.0000|\n",
            "|volume int target-negative_2: : 0.0000|\n",
            "|volume int target-positive:   : 0.0064|\n",
            "86\n",
            "|--------------------------------------|\n",
            "|Loss:                         : -32.4817|\n",
            "|pos:                          : 5.0024|\n",
            "|neg:                          : -13.7437|\n",
            "|neg_2 :                       : -13.7469|\n",
            "|**************************************|\n",
            "|epoch (before backward):      : 86.0000|\n",
            "|**************************************|\n",
            "|volume parola target:         : 0.0067|\n",
            "|volume parola positive:       : 0.0064|\n",
            "|volume parola negative_2:     : 0.0050|\n",
            "|volume parola negative:       : 0.0048|\n",
            "|--------------------------------------|\n",
            "|volume int target-negative:   : 0.0000|\n",
            "|volume int target-negative_2: : 0.0000|\n",
            "|volume int target-positive:   : 0.0064|\n",
            "87\n",
            "|--------------------------------------|\n",
            "|Loss:                         : -32.4930|\n",
            "|pos:                          : 5.0075|\n",
            "|neg:                          : -13.7467|\n",
            "|neg_2 :                       : -13.7500|\n",
            "|**************************************|\n",
            "|epoch (before backward):      : 87.0000|\n",
            "|**************************************|\n",
            "|volume parola target:         : 0.0067|\n",
            "|volume parola positive:       : 0.0063|\n",
            "|volume parola negative_2:     : 0.0050|\n",
            "|volume parola negative:       : 0.0048|\n",
            "|--------------------------------------|\n",
            "|volume int target-negative:   : 0.0000|\n",
            "|volume int target-negative_2: : 0.0000|\n",
            "|volume int target-positive:   : 0.0063|\n",
            "88\n",
            "|--------------------------------------|\n",
            "|Loss:                         : -32.5042|\n",
            "|pos:                          : 5.0130|\n",
            "|neg:                          : -13.7497|\n",
            "|neg_2 :                       : -13.7528|\n",
            "|**************************************|\n",
            "|epoch (before backward):      : 88.0000|\n",
            "|**************************************|\n",
            "|volume parola target:         : 0.0066|\n",
            "|volume parola positive:       : 0.0063|\n",
            "|volume parola negative_2:     : 0.0050|\n",
            "|volume parola negative:       : 0.0048|\n",
            "|--------------------------------------|\n",
            "|volume int target-negative:   : 0.0000|\n",
            "|volume int target-negative_2: : 0.0000|\n",
            "|volume int target-positive:   : 0.0063|\n",
            "89\n",
            "|--------------------------------------|\n",
            "|Loss:                         : -32.5155|\n",
            "|pos:                          : 5.0184|\n",
            "|neg:                          : -13.7525|\n",
            "|neg_2 :                       : -13.7556|\n",
            "|**************************************|\n",
            "|epoch (before backward):      : 89.0000|\n",
            "|**************************************|\n",
            "|volume parola target:         : 0.0066|\n",
            "|volume parola positive:       : 0.0063|\n",
            "|volume parola negative_2:     : 0.0050|\n",
            "|volume parola negative:       : 0.0048|\n",
            "|--------------------------------------|\n",
            "|volume int target-negative:   : 0.0000|\n",
            "|volume int target-negative_2: : 0.0000|\n",
            "|volume int target-positive:   : 0.0063|\n",
            "90\n",
            "|--------------------------------------|\n",
            "|Loss:                         : -32.5265|\n",
            "|pos:                          : 5.0230|\n",
            "|neg:                          : -13.7552|\n",
            "|neg_2 :                       : -13.7583|\n",
            "|**************************************|\n",
            "|epoch (before backward):      : 90.0000|\n",
            "|**************************************|\n",
            "|volume parola target:         : 0.0066|\n",
            "|volume parola positive:       : 0.0063|\n",
            "|volume parola negative_2:     : 0.0050|\n",
            "|volume parola negative:       : 0.0048|\n",
            "|--------------------------------------|\n",
            "|volume int target-negative:   : 0.0000|\n",
            "|volume int target-negative_2: : 0.0000|\n",
            "|volume int target-positive:   : 0.0063|\n",
            "91\n",
            "|--------------------------------------|\n",
            "|Loss:                         : -32.5366|\n",
            "|pos:                          : 5.0273|\n",
            "|neg:                          : -13.7579|\n",
            "|neg_2 :                       : -13.7609|\n",
            "|**************************************|\n",
            "|epoch (before backward):      : 91.0000|\n",
            "|**************************************|\n",
            "|volume parola target:         : 0.0066|\n",
            "|volume parola positive:       : 0.0062|\n",
            "|volume parola negative_2:     : 0.0050|\n",
            "|volume parola negative:       : 0.0048|\n",
            "|--------------------------------------|\n",
            "|volume int target-negative:   : 0.0000|\n",
            "|volume int target-negative_2: : 0.0000|\n",
            "|volume int target-positive:   : 0.0062|\n",
            "92\n",
            "|--------------------------------------|\n",
            "|Loss:                         : -32.5461|\n",
            "|pos:                          : 5.0321|\n",
            "|neg:                          : -13.7604|\n",
            "|neg_2 :                       : -13.7634|\n",
            "|**************************************|\n",
            "|epoch (before backward):      : 92.0000|\n",
            "|**************************************|\n",
            "|volume parola target:         : 0.0065|\n",
            "|volume parola positive:       : 0.0062|\n",
            "|volume parola negative_2:     : 0.0050|\n",
            "|volume parola negative:       : 0.0048|\n",
            "|--------------------------------------|\n",
            "|volume int target-negative:   : 0.0000|\n",
            "|volume int target-negative_2: : 0.0000|\n",
            "|volume int target-positive:   : 0.0062|\n",
            "93\n",
            "|--------------------------------------|\n",
            "|Loss:                         : -32.5559|\n",
            "|pos:                          : 5.0364|\n",
            "|neg:                          : -13.7629|\n",
            "|neg_2 :                       : -13.7658|\n",
            "|**************************************|\n",
            "|epoch (before backward):      : 93.0000|\n",
            "|**************************************|\n",
            "|volume parola target:         : 0.0065|\n",
            "|volume parola positive:       : 0.0062|\n",
            "|volume parola negative_2:     : 0.0050|\n",
            "|volume parola negative:       : 0.0048|\n",
            "|--------------------------------------|\n",
            "|volume int target-negative:   : 0.0000|\n",
            "|volume int target-negative_2: : 0.0000|\n",
            "|volume int target-positive:   : 0.0062|\n",
            "94\n",
            "|--------------------------------------|\n",
            "|Loss:                         : -32.5651|\n",
            "|pos:                          : 5.0406|\n",
            "|neg:                          : -13.7653|\n",
            "|neg_2 :                       : -13.7682|\n",
            "|**************************************|\n",
            "|epoch (before backward):      : 94.0000|\n",
            "|**************************************|\n",
            "|volume parola target:         : 0.0065|\n",
            "|volume parola positive:       : 0.0062|\n",
            "|volume parola negative_2:     : 0.0050|\n",
            "|volume parola negative:       : 0.0048|\n",
            "|--------------------------------------|\n",
            "|volume int target-negative:   : 0.0000|\n",
            "|volume int target-negative_2: : 0.0000|\n",
            "|volume int target-positive:   : 0.0062|\n",
            "95\n",
            "|--------------------------------------|\n",
            "|Loss:                         : -32.5741|\n",
            "|pos:                          : 5.0447|\n",
            "|neg:                          : -13.7676|\n",
            "|neg_2 :                       : -13.7705|\n",
            "|**************************************|\n",
            "|epoch (before backward):      : 95.0000|\n",
            "|**************************************|\n",
            "|volume parola target:         : 0.0064|\n",
            "|volume parola positive:       : 0.0061|\n",
            "|volume parola negative_2:     : 0.0050|\n",
            "|volume parola negative:       : 0.0048|\n",
            "|--------------------------------------|\n",
            "|volume int target-negative:   : 0.0000|\n",
            "|volume int target-negative_2: : 0.0000|\n",
            "|volume int target-positive:   : 0.0061|\n",
            "96\n",
            "|--------------------------------------|\n",
            "|Loss:                         : -32.5829|\n",
            "|pos:                          : 5.0485|\n",
            "|neg:                          : -13.7700|\n",
            "|neg_2 :                       : -13.7728|\n",
            "|**************************************|\n",
            "|epoch (before backward):      : 96.0000|\n",
            "|**************************************|\n",
            "|volume parola target:         : 0.0064|\n",
            "|volume parola positive:       : 0.0061|\n",
            "|volume parola negative_2:     : 0.0050|\n",
            "|volume parola negative:       : 0.0048|\n",
            "|--------------------------------------|\n",
            "|volume int target-negative:   : 0.0000|\n",
            "|volume int target-negative_2: : 0.0000|\n",
            "|volume int target-positive:   : 0.0061|\n",
            "97\n",
            "|--------------------------------------|\n",
            "|Loss:                         : -32.5913|\n",
            "|pos:                          : 5.0524|\n",
            "|neg:                          : -13.7722|\n",
            "|neg_2 :                       : -13.7750|\n",
            "|**************************************|\n",
            "|epoch (before backward):      : 97.0000|\n",
            "|**************************************|\n",
            "|volume parola target:         : 0.0064|\n",
            "|volume parola positive:       : 0.0061|\n",
            "|volume parola negative_2:     : 0.0050|\n",
            "|volume parola negative:       : 0.0048|\n",
            "|--------------------------------------|\n",
            "|volume int target-negative:   : 0.0000|\n",
            "|volume int target-negative_2: : 0.0000|\n",
            "|volume int target-positive:   : 0.0061|\n",
            "98\n",
            "|--------------------------------------|\n",
            "|Loss:                         : -32.5996|\n",
            "|pos:                          : 5.0565|\n",
            "|neg:                          : -13.7744|\n",
            "|neg_2 :                       : -13.7771|\n",
            "|**************************************|\n",
            "|epoch (before backward):      : 98.0000|\n",
            "|**************************************|\n",
            "|volume parola target:         : 0.0064|\n",
            "|volume parola positive:       : 0.0061|\n",
            "|volume parola negative_2:     : 0.0050|\n",
            "|volume parola negative:       : 0.0048|\n",
            "|--------------------------------------|\n",
            "|volume int target-negative:   : 0.0000|\n",
            "|volume int target-negative_2: : 0.0000|\n",
            "|volume int target-positive:   : 0.0061|\n",
            "99\n",
            "|--------------------------------------|\n",
            "|Loss:                         : -32.6079|\n",
            "|pos:                          : 5.0602|\n",
            "|neg:                          : -13.7765|\n",
            "|neg_2 :                       : -13.7792|\n",
            "|**************************************|\n",
            "|epoch (before backward):      : 99.0000|\n",
            "|**************************************|\n",
            "|volume parola target:         : 0.0063|\n",
            "|volume parola positive:       : 0.0061|\n",
            "|volume parola negative_2:     : 0.0050|\n",
            "|volume parola negative:       : 0.0048|\n",
            "|--------------------------------------|\n",
            "|volume int target-negative:   : 0.0000|\n",
            "|volume int target-negative_2: : 0.0000|\n",
            "|volume int target-positive:   : 0.0061|\n",
            "100\n",
            "|--------------------------------------|\n",
            "|Loss:                         : -32.6159|\n",
            "|pos:                          : 5.0639|\n",
            "|neg:                          : -13.7786|\n",
            "|neg_2 :                       : -13.7812|\n",
            "|**************************************|\n"
          ]
        },
        {
          "data": {
            "image/png": "[encoded data removed]",
            "text/plain": [
              "<Figure size 720x432 with 1 Axes>"
            ]
          },
          "metadata": {
            "needs_background": "light"
          },
          "output_type": "display_data"
        },
        {
          "data": {
            "image/png": "[encoded data removed]",
            "text/plain": [
              "<Figure size 720x432 with 1 Axes>"
            ]
          },
          "metadata": {
            "needs_background": "light"
          },
          "output_type": "display_data"
        }
      ],
      "source": [
        "# Training function\n",
        "learning_rate = 0.1\n",
        "\n",
        "# Train\n",
        "seed_everything(12345)\n",
        "optimizer = torch.optim.Adam([data_x, data_y, data_k, data_z], lr=learning_rate)\n",
        "epochs = 100\n",
        "target_list, context_list, context_list_2, negative_list = train(box_target, box_positive, box_negative_2, box_negative, optimizer, epochs=epochs)\n"
      ]
    },
    {
      "cell_type": "code",
      "execution_count": 223,
      "metadata": {
        "colab": {
          "base_uri": "https://localhost:8080/",
          "height": 650,
          "referenced_widgets": [
            "cc14ab9aa3284750a8d41b171b1347a5",
            "c150afe7c8434671aa603c0208793e7b",
            "d741834f5c534076aeaea33459c3f5d5",
            "b119c6cebc2849709b62aff84d5de998",
            "da1e7a39a10140b58f9d8fd049ea6023",
            "885fbc2c9e4447aaa775555576c034af",
            "73f9960b59a74e32926c76a415835baa"
          ]
        },
        "id": "vVgP4x7nnBzW",
        "outputId": "5515ad6a-6a83-479d-836b-7d6883d75a64"
      },
      "outputs": [
        {
          "name": "stdout",
          "output_type": "stream",
          "text": [
            "100\n"
          ]
        },
        {
          "data": {
            "application/vnd.jupyter.widget-view+json": {
              "model_id": "e70c015a82f1498cbe4c2784741ad961",
              "version_major": 2,
              "version_minor": 0
            },
            "text/plain": [
              "interactive(children=(IntSlider(value=49, description='epoch', max=99), Output()), _dom_classes=('widget-inter…"
            ]
          },
          "metadata": {},
          "output_type": "display_data"
        }
      ],
      "source": [
        "import pickle\n",
        "import matplotlib as mpl\n",
        "import matplotlib.pyplot as plt\n",
        "import matplotlib.patches as patches\n",
        "from ipywidgets import interact, interactive\n",
        "from copy import copy\n",
        "import matplotlib._color_data as mcd\n",
        "import matplotlib.patches as mpatch\n",
        "\n",
        "def load_boxes(myboxes, ty, color):\n",
        "\n",
        "  import matplotlib._color_data as mcd\n",
        "  import matplotlib.patches as mpatch\n",
        "  colors = [name for name in mcd.CSS4_COLORS\n",
        "            if \"xkcd:\" + name in mcd.XKCD_COLORS]\n",
        "\n",
        "  list_ = []\n",
        "  for i,box in enumerate(myboxes):\n",
        "    list_epoch = []\n",
        "    rect = patches.Rectangle((box[0][0], box[0][1]), \n",
        "                            box[1][0] - box[0][0], \n",
        "                            box[1][1] - box[0][1], \n",
        "                            facecolor=color, edgecolor = color, lw=3, label=ty, alpha=0.4)\n",
        "    \n",
        "    list_.append(rect)\n",
        "  return list_\n",
        "\n",
        "list_targets = load_boxes(target_list, \"target\", \"red\")\n",
        "print(len(list_targets))\n",
        "list_contexts_pos = load_boxes(context_list, \"positive\", \"green\")\n",
        "list_contexts_pos_2 = load_boxes(context_list_2, \"negative_2\", \"brown\")\n",
        "list_contexts_neg = load_boxes(negative_list, \"negative\", \"black\")\n",
        "\n",
        "def f2(epoch = (0, epochs-1, 1)):\n",
        "\n",
        "    fig, ax = plt.subplots(figsize=(30, 10))\n",
        "    plt.xlim([0, +1])\n",
        "    plt.ylim([0, +1])\n",
        "   \n",
        "    new_c=copy(list_targets[epoch])\n",
        "    new_pos=copy(list_contexts_pos[epoch])\n",
        "    new_pos_2=copy(list_contexts_pos_2[epoch])\n",
        "    new_neg=copy(list_contexts_neg[epoch])\n",
        "      \n",
        "    ax.add_patch(new_c)\n",
        "    ax.add_patch(new_pos)\n",
        "    ax.add_patch(new_pos_2)\n",
        "    ax.add_patch(new_neg)\n",
        "    ax.legend()\n",
        "\n",
        "\n",
        "interact(f2);"
      ]
    },
    {
      "cell_type": "code",
      "execution_count": 113,
      "metadata": {},
      "outputs": [],
      "source": [
        "from box_embeddings.parameterizations.box_tensor import BoxFactory\n",
        "from box_embeddings.modules import BoxEmbedding\n",
        "from box_embeddings.initializations import UniformBoxInitializer\n",
        "import torch\n",
        "from torch import nn \n",
        "\n",
        "global use_cuda\n",
        "use_cuda = torch.cuda.is_available()\n",
        "device = 0 if use_cuda else -1\n",
        "\n",
        "class BoxModel(nn.Module):\n",
        "    def __init__(self, emb_size, embedding_dim, box_vol, box_int):\n",
        "        super(BoxModel, self).__init__()\n",
        "\n",
        "        self.use_cuda = torch.cuda.is_available()\n",
        "        self.device = torch.device(\"cuda\" if self.use_cuda else \"cpu\")\n",
        "        self.initializer = UniformBoxInitializer(dimensions=embedding_dim, num_boxes=emb_size, box_type_factory=BoxFactory(\"sigmoid_from_vector\"),\n",
        "        minimum=0., maximum=1, delta_min=0.9, delta_max=1)\n",
        "        self.embedding_dim = embedding_dim\n",
        "        self.vocab_size = emb_size\n",
        "        self.embeddings_word = BoxEmbedding(self.vocab_size, self.embedding_dim, box_factory=BoxFactory(\"sigmoid_from_vector\"), box_initializer=self.initializer)\n",
        "        self.embeddings_context = BoxEmbedding(self.vocab_size, self.embedding_dim, box_factory=BoxFactory(\"sigmoid_from_vector\"), box_initializer=self.initializer)\n",
        "        #self.embeddings_word = BoxEmbedding(self.vocab_size, self.embedding_dim)\n",
        "        #self.embeddings_context = BoxEmbedding(self.vocab_size, self.embedding_dim)\n",
        "        self.box_vol = box_vol\n",
        "        self.box_int = box_int\n",
        "\n",
        "box_vol = Volume(volume_temperature=0, intersection_temperature=0)\n",
        "box_int = Intersection(intersection_temperature=0.001)\n",
        "\n",
        "model = BoxModel(4, 2, box_vol, box_int)\n",
        "\n",
        "boxes_target = model.embeddings_word.all_boxes\n",
        "boxes_context = model.embeddings_context.all_boxes\n"
      ]
    },
    {
      "cell_type": "code",
      "execution_count": 114,
      "metadata": {},
      "outputs": [
        {
          "data": {
            "application/vnd.plotly.v1+json": {
              "config": {
                "plotlyServerURL": "https://plot.ly"
              },
              "data": [
                {
                  "mode": "text",
                  "text": [
                    "0",
                    "1",
                    "2",
                    "3"
                  ],
                  "textfont": {
                    "color": "black"
                  },
                  "textposition": "middle center",
                  "type": "scatter",
                  "x": [
                    0.5000000288709998,
                    0.5000000400468707,
                    0.49999998696148396,
                    0.5000000242143869
                  ],
                  "y": [
                    0.5000000214204192,
                    0.49999997578561306,
                    0.5000000242143869,
                    0.4999999850988388
                  ]
                }
              ],
              "layout": {
                "margin": {
                  "b": 80,
                  "l": 80,
                  "r": 80,
                  "t": 80
                },
                "shapes": [
                  {
                    "line": {
                      "color": "#1b0eb3"
                    },
                    "type": "rect",
                    "x0": 0.028881309553980827,
                    "x1": 0.9711187481880188,
                    "y0": 0.003920121118426323,
                    "y1": 0.9960799217224121
                  },
                  {
                    "line": {
                      "color": "#369199"
                    },
                    "type": "rect",
                    "x0": 0.018294235691428185,
                    "x1": 0.9817058444023132,
                    "y0": 0.04182852432131767,
                    "y1": 0.9581714272499084
                  },
                  {
                    "line": {
                      "color": "#6801a8"
                    },
                    "type": "rect",
                    "x0": 0.02997872605919838,
                    "x1": 0.9700212478637695,
                    "y0": 0.043274033814668655,
                    "y1": 0.9567260146141052
                  },
                  {
                    "line": {
                      "color": "#8544cf"
                    },
                    "type": "rect",
                    "x0": 0.043502796441316605,
                    "x1": 0.9564972519874573,
                    "y0": 0.04428693652153015,
                    "y1": 0.9557130336761475
                  }
                ],
                "template": {
                  "data": {
                    "bar": [
                      {
                        "error_x": {
                          "color": "#2a3f5f"
                        },
                        "error_y": {
                          "color": "#2a3f5f"
                        },
                        "marker": {
                          "line": {
                            "color": "#E5ECF6",
                            "width": 0.5
                          },
                          "pattern": {
                            "fillmode": "overlay",
                            "size": 10,
                            "solidity": 0.2
                          }
                        },
                        "type": "bar"
                      }
                    ],
                    "barpolar": [
                      {
                        "marker": {
                          "line": {
                            "color": "#E5ECF6",
                            "width": 0.5
                          },
                          "pattern": {
                            "fillmode": "overlay",
                            "size": 10,
                            "solidity": 0.2
                          }
                        },
                        "type": "barpolar"
                      }
                    ],
                    "carpet": [
                      {
                        "aaxis": {
                          "endlinecolor": "#2a3f5f",
                          "gridcolor": "white",
                          "linecolor": "white",
                          "minorgridcolor": "white",
                          "startlinecolor": "#2a3f5f"
                        },
                        "baxis": {
                          "endlinecolor": "#2a3f5f",
                          "gridcolor": "white",
                          "linecolor": "white",
                          "minorgridcolor": "white",
                          "startlinecolor": "#2a3f5f"
                        },
                        "type": "carpet"
                      }
                    ],
                    "choropleth": [
                      {
                        "colorbar": {
                          "outlinewidth": 0,
                          "ticks": ""
                        },
                        "type": "choropleth"
                      }
                    ],
                    "contour": [
                      {
                        "colorbar": {
                          "outlinewidth": 0,
                          "ticks": ""
                        },
                        "colorscale": [
                          [
                            0,
                            "#0d0887"
                          ],
                          [
                            0.1111111111111111,
                            "#46039f"
                          ],
                          [
                            0.2222222222222222,
                            "#7201a8"
                          ],
                          [
                            0.3333333333333333,
                            "#9c179e"
                          ],
                          [
                            0.4444444444444444,
                            "#bd3786"
                          ],
                          [
                            0.5555555555555556,
                            "#d8576b"
                          ],
                          [
                            0.6666666666666666,
                            "#ed7953"
                          ],
                          [
                            0.7777777777777778,
                            "#fb9f3a"
                          ],
                          [
                            0.8888888888888888,
                            "#fdca26"
                          ],
                          [
                            1,
                            "#f0f921"
                          ]
                        ],
                        "type": "contour"
                      }
                    ],
                    "contourcarpet": [
                      {
                        "colorbar": {
                          "outlinewidth": 0,
                          "ticks": ""
                        },
                        "type": "contourcarpet"
                      }
                    ],
                    "heatmap": [
                      {
                        "colorbar": {
                          "outlinewidth": 0,
                          "ticks": ""
                        },
                        "colorscale": [
                          [
                            0,
                            "#0d0887"
                          ],
                          [
                            0.1111111111111111,
                            "#46039f"
                          ],
                          [
                            0.2222222222222222,
                            "#7201a8"
                          ],
                          [
                            0.3333333333333333,
                            "#9c179e"
                          ],
                          [
                            0.4444444444444444,
                            "#bd3786"
                          ],
                          [
                            0.5555555555555556,
                            "#d8576b"
                          ],
                          [
                            0.6666666666666666,
                            "#ed7953"
                          ],
                          [
                            0.7777777777777778,
                            "#fb9f3a"
                          ],
                          [
                            0.8888888888888888,
                            "#fdca26"
                          ],
                          [
                            1,
                            "#f0f921"
                          ]
                        ],
                        "type": "heatmap"
                      }
                    ],
                    "heatmapgl": [
                      {
                        "colorbar": {
                          "outlinewidth": 0,
                          "ticks": ""
                        },
                        "colorscale": [
                          [
                            0,
                            "#0d0887"
                          ],
                          [
                            0.1111111111111111,
                            "#46039f"
                          ],
                          [
                            0.2222222222222222,
                            "#7201a8"
                          ],
                          [
                            0.3333333333333333,
                            "#9c179e"
                          ],
                          [
                            0.4444444444444444,
                            "#bd3786"
                          ],
                          [
                            0.5555555555555556,
                            "#d8576b"
                          ],
                          [
                            0.6666666666666666,
                            "#ed7953"
                          ],
                          [
                            0.7777777777777778,
                            "#fb9f3a"
                          ],
                          [
                            0.8888888888888888,
                            "#fdca26"
                          ],
                          [
                            1,
                            "#f0f921"
                          ]
                        ],
                        "type": "heatmapgl"
                      }
                    ],
                    "histogram": [
                      {
                        "marker": {
                          "pattern": {
                            "fillmode": "overlay",
                            "size": 10,
                            "solidity": 0.2
                          }
                        },
                        "type": "histogram"
                      }
                    ],
                    "histogram2d": [
                      {
                        "colorbar": {
                          "outlinewidth": 0,
                          "ticks": ""
                        },
                        "colorscale": [
                          [
                            0,
                            "#0d0887"
                          ],
                          [
                            0.1111111111111111,
                            "#46039f"
                          ],
                          [
                            0.2222222222222222,
                            "#7201a8"
                          ],
                          [
                            0.3333333333333333,
                            "#9c179e"
                          ],
                          [
                            0.4444444444444444,
                            "#bd3786"
                          ],
                          [
                            0.5555555555555556,
                            "#d8576b"
                          ],
                          [
                            0.6666666666666666,
                            "#ed7953"
                          ],
                          [
                            0.7777777777777778,
                            "#fb9f3a"
                          ],
                          [
                            0.8888888888888888,
                            "#fdca26"
                          ],
                          [
                            1,
                            "#f0f921"
                          ]
                        ],
                        "type": "histogram2d"
                      }
                    ],
                    "histogram2dcontour": [
                      {
                        "colorbar": {
                          "outlinewidth": 0,
                          "ticks": ""
                        },
                        "colorscale": [
                          [
                            0,
                            "#0d0887"
                          ],
                          [
                            0.1111111111111111,
                            "#46039f"
                          ],
                          [
                            0.2222222222222222,
                            "#7201a8"
                          ],
                          [
                            0.3333333333333333,
                            "#9c179e"
                          ],
                          [
                            0.4444444444444444,
                            "#bd3786"
                          ],
                          [
                            0.5555555555555556,
                            "#d8576b"
                          ],
                          [
                            0.6666666666666666,
                            "#ed7953"
                          ],
                          [
                            0.7777777777777778,
                            "#fb9f3a"
                          ],
                          [
                            0.8888888888888888,
                            "#fdca26"
                          ],
                          [
                            1,
                            "#f0f921"
                          ]
                        ],
                        "type": "histogram2dcontour"
                      }
                    ],
                    "mesh3d": [
                      {
                        "colorbar": {
                          "outlinewidth": 0,
                          "ticks": ""
                        },
                        "type": "mesh3d"
                      }
                    ],
                    "parcoords": [
                      {
                        "line": {
                          "colorbar": {
                            "outlinewidth": 0,
                            "ticks": ""
                          }
                        },
                        "type": "parcoords"
                      }
                    ],
                    "pie": [
                      {
                        "automargin": true,
                        "type": "pie"
                      }
                    ],
                    "scatter": [
                      {
                        "marker": {
                          "colorbar": {
                            "outlinewidth": 0,
                            "ticks": ""
                          }
                        },
                        "type": "scatter"
                      }
                    ],
                    "scatter3d": [
                      {
                        "line": {
                          "colorbar": {
                            "outlinewidth": 0,
                            "ticks": ""
                          }
                        },
                        "marker": {
                          "colorbar": {
                            "outlinewidth": 0,
                            "ticks": ""
                          }
                        },
                        "type": "scatter3d"
                      }
                    ],
                    "scattercarpet": [
                      {
                        "marker": {
                          "colorbar": {
                            "outlinewidth": 0,
                            "ticks": ""
                          }
                        },
                        "type": "scattercarpet"
                      }
                    ],
                    "scattergeo": [
                      {
                        "marker": {
                          "colorbar": {
                            "outlinewidth": 0,
                            "ticks": ""
                          }
                        },
                        "type": "scattergeo"
                      }
                    ],
                    "scattergl": [
                      {
                        "marker": {
                          "colorbar": {
                            "outlinewidth": 0,
                            "ticks": ""
                          }
                        },
                        "type": "scattergl"
                      }
                    ],
                    "scattermapbox": [
                      {
                        "marker": {
                          "colorbar": {
                            "outlinewidth": 0,
                            "ticks": ""
                          }
                        },
                        "type": "scattermapbox"
                      }
                    ],
                    "scatterpolar": [
                      {
                        "marker": {
                          "colorbar": {
                            "outlinewidth": 0,
                            "ticks": ""
                          }
                        },
                        "type": "scatterpolar"
                      }
                    ],
                    "scatterpolargl": [
                      {
                        "marker": {
                          "colorbar": {
                            "outlinewidth": 0,
                            "ticks": ""
                          }
                        },
                        "type": "scatterpolargl"
                      }
                    ],
                    "scatterternary": [
                      {
                        "marker": {
                          "colorbar": {
                            "outlinewidth": 0,
                            "ticks": ""
                          }
                        },
                        "type": "scatterternary"
                      }
                    ],
                    "surface": [
                      {
                        "colorbar": {
                          "outlinewidth": 0,
                          "ticks": ""
                        },
                        "colorscale": [
                          [
                            0,
                            "#0d0887"
                          ],
                          [
                            0.1111111111111111,
                            "#46039f"
                          ],
                          [
                            0.2222222222222222,
                            "#7201a8"
                          ],
                          [
                            0.3333333333333333,
                            "#9c179e"
                          ],
                          [
                            0.4444444444444444,
                            "#bd3786"
                          ],
                          [
                            0.5555555555555556,
                            "#d8576b"
                          ],
                          [
                            0.6666666666666666,
                            "#ed7953"
                          ],
                          [
                            0.7777777777777778,
                            "#fb9f3a"
                          ],
                          [
                            0.8888888888888888,
                            "#fdca26"
                          ],
                          [
                            1,
                            "#f0f921"
                          ]
                        ],
                        "type": "surface"
                      }
                    ],
                    "table": [
                      {
                        "cells": {
                          "fill": {
                            "color": "#EBF0F8"
                          },
                          "line": {
                            "color": "white"
                          }
                        },
                        "header": {
                          "fill": {
                            "color": "#C8D4E3"
                          },
                          "line": {
                            "color": "white"
                          }
                        },
                        "type": "table"
                      }
                    ]
                  },
                  "layout": {
                    "annotationdefaults": {
                      "arrowcolor": "#2a3f5f",
                      "arrowhead": 0,
                      "arrowwidth": 1
                    },
                    "autotypenumbers": "strict",
                    "coloraxis": {
                      "colorbar": {
                        "outlinewidth": 0,
                        "ticks": ""
                      }
                    },
                    "colorscale": {
                      "diverging": [
                        [
                          0,
                          "#8e0152"
                        ],
                        [
                          0.1,
                          "#c51b7d"
                        ],
                        [
                          0.2,
                          "#de77ae"
                        ],
                        [
                          0.3,
                          "#f1b6da"
                        ],
                        [
                          0.4,
                          "#fde0ef"
                        ],
                        [
                          0.5,
                          "#f7f7f7"
                        ],
                        [
                          0.6,
                          "#e6f5d0"
                        ],
                        [
                          0.7,
                          "#b8e186"
                        ],
                        [
                          0.8,
                          "#7fbc41"
                        ],
                        [
                          0.9,
                          "#4d9221"
                        ],
                        [
                          1,
                          "#276419"
                        ]
                      ],
                      "sequential": [
                        [
                          0,
                          "#0d0887"
                        ],
                        [
                          0.1111111111111111,
                          "#46039f"
                        ],
                        [
                          0.2222222222222222,
                          "#7201a8"
                        ],
                        [
                          0.3333333333333333,
                          "#9c179e"
                        ],
                        [
                          0.4444444444444444,
                          "#bd3786"
                        ],
                        [
                          0.5555555555555556,
                          "#d8576b"
                        ],
                        [
                          0.6666666666666666,
                          "#ed7953"
                        ],
                        [
                          0.7777777777777778,
                          "#fb9f3a"
                        ],
                        [
                          0.8888888888888888,
                          "#fdca26"
                        ],
                        [
                          1,
                          "#f0f921"
                        ]
                      ],
                      "sequentialminus": [
                        [
                          0,
                          "#0d0887"
                        ],
                        [
                          0.1111111111111111,
                          "#46039f"
                        ],
                        [
                          0.2222222222222222,
                          "#7201a8"
                        ],
                        [
                          0.3333333333333333,
                          "#9c179e"
                        ],
                        [
                          0.4444444444444444,
                          "#bd3786"
                        ],
                        [
                          0.5555555555555556,
                          "#d8576b"
                        ],
                        [
                          0.6666666666666666,
                          "#ed7953"
                        ],
                        [
                          0.7777777777777778,
                          "#fb9f3a"
                        ],
                        [
                          0.8888888888888888,
                          "#fdca26"
                        ],
                        [
                          1,
                          "#f0f921"
                        ]
                      ]
                    },
                    "colorway": [
                      "#636efa",
                      "#EF553B",
                      "#00cc96",
                      "#ab63fa",
                      "#FFA15A",
                      "#19d3f3",
                      "#FF6692",
                      "#B6E880",
                      "#FF97FF",
                      "#FECB52"
                    ],
                    "font": {
                      "color": "#2a3f5f"
                    },
                    "geo": {
                      "bgcolor": "white",
                      "lakecolor": "white",
                      "landcolor": "#E5ECF6",
                      "showlakes": true,
                      "showland": true,
                      "subunitcolor": "white"
                    },
                    "hoverlabel": {
                      "align": "left"
                    },
                    "hovermode": "closest",
                    "mapbox": {
                      "style": "light"
                    },
                    "paper_bgcolor": "white",
                    "plot_bgcolor": "#E5ECF6",
                    "polar": {
                      "angularaxis": {
                        "gridcolor": "white",
                        "linecolor": "white",
                        "ticks": ""
                      },
                      "bgcolor": "#E5ECF6",
                      "radialaxis": {
                        "gridcolor": "white",
                        "linecolor": "white",
                        "ticks": ""
                      }
                    },
                    "scene": {
                      "xaxis": {
                        "backgroundcolor": "#E5ECF6",
                        "gridcolor": "white",
                        "gridwidth": 2,
                        "linecolor": "white",
                        "showbackground": true,
                        "ticks": "",
                        "zerolinecolor": "white"
                      },
                      "yaxis": {
                        "backgroundcolor": "#E5ECF6",
                        "gridcolor": "white",
                        "gridwidth": 2,
                        "linecolor": "white",
                        "showbackground": true,
                        "ticks": "",
                        "zerolinecolor": "white"
                      },
                      "zaxis": {
                        "backgroundcolor": "#E5ECF6",
                        "gridcolor": "white",
                        "gridwidth": 2,
                        "linecolor": "white",
                        "showbackground": true,
                        "ticks": "",
                        "zerolinecolor": "white"
                      }
                    },
                    "shapedefaults": {
                      "line": {
                        "color": "#2a3f5f"
                      }
                    },
                    "ternary": {
                      "aaxis": {
                        "gridcolor": "white",
                        "linecolor": "white",
                        "ticks": ""
                      },
                      "baxis": {
                        "gridcolor": "white",
                        "linecolor": "white",
                        "ticks": ""
                      },
                      "bgcolor": "#E5ECF6",
                      "caxis": {
                        "gridcolor": "white",
                        "linecolor": "white",
                        "ticks": ""
                      }
                    },
                    "title": {
                      "x": 0.05
                    },
                    "xaxis": {
                      "automargin": true,
                      "gridcolor": "white",
                      "linecolor": "white",
                      "ticks": "",
                      "title": {
                        "standoff": 15
                      },
                      "zerolinecolor": "white",
                      "zerolinewidth": 2
                    },
                    "yaxis": {
                      "automargin": true,
                      "gridcolor": "white",
                      "linecolor": "white",
                      "ticks": "",
                      "title": {
                        "standoff": 15
                      },
                      "zerolinecolor": "white",
                      "zerolinewidth": 2
                    }
                  }
                },
                "xaxis": {
                  "range": [
                    0,
                    1
                  ]
                },
                "yaxis": {
                  "range": [
                    0,
                    1
                  ]
                }
              }
            },
            "text/html": [
              "<div>                            <div id=\"162c8350-9327-4441-8fcd-11f829d637a0\" class=\"plotly-graph-div\" style=\"height:525px; width:100%;\"></div>            <script type=\"text/javascript\">                require([\"plotly\"], function(Plotly) {                    window.PLOTLYENV=window.PLOTLYENV || {};                                    if (document.getElementById(\"162c8350-9327-4441-8fcd-11f829d637a0\")) {                    Plotly.newPlot(                        \"162c8350-9327-4441-8fcd-11f829d637a0\",                        [{\"mode\":\"text\",\"text\":[\"0\",\"1\",\"2\",\"3\"],\"textfont\":{\"color\":\"black\"},\"textposition\":\"middle center\",\"x\":[0.5000000288709998,0.5000000400468707,0.49999998696148396,0.5000000242143869],\"y\":[0.5000000214204192,0.49999997578561306,0.5000000242143869,0.4999999850988388],\"type\":\"scatter\"}],                        {\"template\":{\"data\":{\"bar\":[{\"error_x\":{\"color\":\"#2a3f5f\"},\"error_y\":{\"color\":\"#2a3f5f\"},\"marker\":{\"line\":{\"color\":\"#E5ECF6\",\"width\":0.5},\"pattern\":{\"fillmode\":\"overlay\",\"size\":10,\"solidity\":0.2}},\"type\":\"bar\"}],\"barpolar\":[{\"marker\":{\"line\":{\"color\":\"#E5ECF6\",\"width\":0.5},\"pattern\":{\"fillmode\":\"overlay\",\"size\":10,\"solidity\":0.2}},\"type\":\"barpolar\"}],\"carpet\":[{\"aaxis\":{\"endlinecolor\":\"#2a3f5f\",\"gridcolor\":\"white\",\"linecolor\":\"white\",\"minorgridcolor\":\"white\",\"startlinecolor\":\"#2a3f5f\"},\"baxis\":{\"endlinecolor\":\"#2a3f5f\",\"gridcolor\":\"white\",\"linecolor\":\"white\",\"minorgridcolor\":\"white\",\"startlinecolor\":\"#2a3f5f\"},\"type\":\"carpet\"}],\"choropleth\":[{\"colorbar\":{\"outlinewidth\":0,\"ticks\":\"\"},\"type\":\"choropleth\"}],\"contour\":[{\"colorbar\":{\"outlinewidth\":0,\"ticks\":\"\"},\"colorscale\":[[0.0,\"#0d0887\"],[0.1111111111111111,\"#46039f\"],[0.2222222222222222,\"#7201a8\"],[0.3333333333333333,\"#9c179e\"],[0.4444444444444444,\"#bd3786\"],[0.5555555555555556,\"#d8576b\"],[0.6666666666666666,\"#ed7953\"],[0.7777777777777778,\"#fb9f3a\"],[0.8888888888888888,\"#fdca26\"],[1.0,\"#f0f921\"]],\"type\":\"contour\"}],\"contourcarpet\":[{\"colorbar\":{\"outlinewidth\":0,\"ticks\":\"\"},\"type\":\"contourcarpet\"}],\"heatmap\":[{\"colorbar\":{\"outlinewidth\":0,\"ticks\":\"\"},\"colorscale\":[[0.0,\"#0d0887\"],[0.1111111111111111,\"#46039f\"],[0.2222222222222222,\"#7201a8\"],[0.3333333333333333,\"#9c179e\"],[0.4444444444444444,\"#bd3786\"],[0.5555555555555556,\"#d8576b\"],[0.6666666666666666,\"#ed7953\"],[0.7777777777777778,\"#fb9f3a\"],[0.8888888888888888,\"#fdca26\"],[1.0,\"#f0f921\"]],\"type\":\"heatmap\"}],\"heatmapgl\":[{\"colorbar\":{\"outlinewidth\":0,\"ticks\":\"\"},\"colorscale\":[[0.0,\"#0d0887\"],[0.1111111111111111,\"#46039f\"],[0.2222222222222222,\"#7201a8\"],[0.3333333333333333,\"#9c179e\"],[0.4444444444444444,\"#bd3786\"],[0.5555555555555556,\"#d8576b\"],[0.6666666666666666,\"#ed7953\"],[0.7777777777777778,\"#fb9f3a\"],[0.8888888888888888,\"#fdca26\"],[1.0,\"#f0f921\"]],\"type\":\"heatmapgl\"}],\"histogram\":[{\"marker\":{\"pattern\":{\"fillmode\":\"overlay\",\"size\":10,\"solidity\":0.2}},\"type\":\"histogram\"}],\"histogram2d\":[{\"colorbar\":{\"outlinewidth\":0,\"ticks\":\"\"},\"colorscale\":[[0.0,\"#0d0887\"],[0.1111111111111111,\"#46039f\"],[0.2222222222222222,\"#7201a8\"],[0.3333333333333333,\"#9c179e\"],[0.4444444444444444,\"#bd3786\"],[0.5555555555555556,\"#d8576b\"],[0.6666666666666666,\"#ed7953\"],[0.7777777777777778,\"#fb9f3a\"],[0.8888888888888888,\"#fdca26\"],[1.0,\"#f0f921\"]],\"type\":\"histogram2d\"}],\"histogram2dcontour\":[{\"colorbar\":{\"outlinewidth\":0,\"ticks\":\"\"},\"colorscale\":[[0.0,\"#0d0887\"],[0.1111111111111111,\"#46039f\"],[0.2222222222222222,\"#7201a8\"],[0.3333333333333333,\"#9c179e\"],[0.4444444444444444,\"#bd3786\"],[0.5555555555555556,\"#d8576b\"],[0.6666666666666666,\"#ed7953\"],[0.7777777777777778,\"#fb9f3a\"],[0.8888888888888888,\"#fdca26\"],[1.0,\"#f0f921\"]],\"type\":\"histogram2dcontour\"}],\"mesh3d\":[{\"colorbar\":{\"outlinewidth\":0,\"ticks\":\"\"},\"type\":\"mesh3d\"}],\"parcoords\":[{\"line\":{\"colorbar\":{\"outlinewidth\":0,\"ticks\":\"\"}},\"type\":\"parcoords\"}],\"pie\":[{\"automargin\":true,\"type\":\"pie\"}],\"scatter\":[{\"marker\":{\"colorbar\":{\"outlinewidth\":0,\"ticks\":\"\"}},\"type\":\"scatter\"}],\"scatter3d\":[{\"line\":{\"colorbar\":{\"outlinewidth\":0,\"ticks\":\"\"}},\"marker\":{\"colorbar\":{\"outlinewidth\":0,\"ticks\":\"\"}},\"type\":\"scatter3d\"}],\"scattercarpet\":[{\"marker\":{\"colorbar\":{\"outlinewidth\":0,\"ticks\":\"\"}},\"type\":\"scattercarpet\"}],\"scattergeo\":[{\"marker\":{\"colorbar\":{\"outlinewidth\":0,\"ticks\":\"\"}},\"type\":\"scattergeo\"}],\"scattergl\":[{\"marker\":{\"colorbar\":{\"outlinewidth\":0,\"ticks\":\"\"}},\"type\":\"scattergl\"}],\"scattermapbox\":[{\"marker\":{\"colorbar\":{\"outlinewidth\":0,\"ticks\":\"\"}},\"type\":\"scattermapbox\"}],\"scatterpolar\":[{\"marker\":{\"colorbar\":{\"outlinewidth\":0,\"ticks\":\"\"}},\"type\":\"scatterpolar\"}],\"scatterpolargl\":[{\"marker\":{\"colorbar\":{\"outlinewidth\":0,\"ticks\":\"\"}},\"type\":\"scatterpolargl\"}],\"scatterternary\":[{\"marker\":{\"colorbar\":{\"outlinewidth\":0,\"ticks\":\"\"}},\"type\":\"scatterternary\"}],\"surface\":[{\"colorbar\":{\"outlinewidth\":0,\"ticks\":\"\"},\"colorscale\":[[0.0,\"#0d0887\"],[0.1111111111111111,\"#46039f\"],[0.2222222222222222,\"#7201a8\"],[0.3333333333333333,\"#9c179e\"],[0.4444444444444444,\"#bd3786\"],[0.5555555555555556,\"#d8576b\"],[0.6666666666666666,\"#ed7953\"],[0.7777777777777778,\"#fb9f3a\"],[0.8888888888888888,\"#fdca26\"],[1.0,\"#f0f921\"]],\"type\":\"surface\"}],\"table\":[{\"cells\":{\"fill\":{\"color\":\"#EBF0F8\"},\"line\":{\"color\":\"white\"}},\"header\":{\"fill\":{\"color\":\"#C8D4E3\"},\"line\":{\"color\":\"white\"}},\"type\":\"table\"}]},\"layout\":{\"annotationdefaults\":{\"arrowcolor\":\"#2a3f5f\",\"arrowhead\":0,\"arrowwidth\":1},\"autotypenumbers\":\"strict\",\"coloraxis\":{\"colorbar\":{\"outlinewidth\":0,\"ticks\":\"\"}},\"colorscale\":{\"diverging\":[[0,\"#8e0152\"],[0.1,\"#c51b7d\"],[0.2,\"#de77ae\"],[0.3,\"#f1b6da\"],[0.4,\"#fde0ef\"],[0.5,\"#f7f7f7\"],[0.6,\"#e6f5d0\"],[0.7,\"#b8e186\"],[0.8,\"#7fbc41\"],[0.9,\"#4d9221\"],[1,\"#276419\"]],\"sequential\":[[0.0,\"#0d0887\"],[0.1111111111111111,\"#46039f\"],[0.2222222222222222,\"#7201a8\"],[0.3333333333333333,\"#9c179e\"],[0.4444444444444444,\"#bd3786\"],[0.5555555555555556,\"#d8576b\"],[0.6666666666666666,\"#ed7953\"],[0.7777777777777778,\"#fb9f3a\"],[0.8888888888888888,\"#fdca26\"],[1.0,\"#f0f921\"]],\"sequentialminus\":[[0.0,\"#0d0887\"],[0.1111111111111111,\"#46039f\"],[0.2222222222222222,\"#7201a8\"],[0.3333333333333333,\"#9c179e\"],[0.4444444444444444,\"#bd3786\"],[0.5555555555555556,\"#d8576b\"],[0.6666666666666666,\"#ed7953\"],[0.7777777777777778,\"#fb9f3a\"],[0.8888888888888888,\"#fdca26\"],[1.0,\"#f0f921\"]]},\"colorway\":[\"#636efa\",\"#EF553B\",\"#00cc96\",\"#ab63fa\",\"#FFA15A\",\"#19d3f3\",\"#FF6692\",\"#B6E880\",\"#FF97FF\",\"#FECB52\"],\"font\":{\"color\":\"#2a3f5f\"},\"geo\":{\"bgcolor\":\"white\",\"lakecolor\":\"white\",\"landcolor\":\"#E5ECF6\",\"showlakes\":true,\"showland\":true,\"subunitcolor\":\"white\"},\"hoverlabel\":{\"align\":\"left\"},\"hovermode\":\"closest\",\"mapbox\":{\"style\":\"light\"},\"paper_bgcolor\":\"white\",\"plot_bgcolor\":\"#E5ECF6\",\"polar\":{\"angularaxis\":{\"gridcolor\":\"white\",\"linecolor\":\"white\",\"ticks\":\"\"},\"bgcolor\":\"#E5ECF6\",\"radialaxis\":{\"gridcolor\":\"white\",\"linecolor\":\"white\",\"ticks\":\"\"}},\"scene\":{\"xaxis\":{\"backgroundcolor\":\"#E5ECF6\",\"gridcolor\":\"white\",\"gridwidth\":2,\"linecolor\":\"white\",\"showbackground\":true,\"ticks\":\"\",\"zerolinecolor\":\"white\"},\"yaxis\":{\"backgroundcolor\":\"#E5ECF6\",\"gridcolor\":\"white\",\"gridwidth\":2,\"linecolor\":\"white\",\"showbackground\":true,\"ticks\":\"\",\"zerolinecolor\":\"white\"},\"zaxis\":{\"backgroundcolor\":\"#E5ECF6\",\"gridcolor\":\"white\",\"gridwidth\":2,\"linecolor\":\"white\",\"showbackground\":true,\"ticks\":\"\",\"zerolinecolor\":\"white\"}},\"shapedefaults\":{\"line\":{\"color\":\"#2a3f5f\"}},\"ternary\":{\"aaxis\":{\"gridcolor\":\"white\",\"linecolor\":\"white\",\"ticks\":\"\"},\"baxis\":{\"gridcolor\":\"white\",\"linecolor\":\"white\",\"ticks\":\"\"},\"bgcolor\":\"#E5ECF6\",\"caxis\":{\"gridcolor\":\"white\",\"linecolor\":\"white\",\"ticks\":\"\"}},\"title\":{\"x\":0.05},\"xaxis\":{\"automargin\":true,\"gridcolor\":\"white\",\"linecolor\":\"white\",\"ticks\":\"\",\"title\":{\"standoff\":15},\"zerolinecolor\":\"white\",\"zerolinewidth\":2},\"yaxis\":{\"automargin\":true,\"gridcolor\":\"white\",\"linecolor\":\"white\",\"ticks\":\"\",\"title\":{\"standoff\":15},\"zerolinecolor\":\"white\",\"zerolinewidth\":2}}},\"xaxis\":{\"range\":[0,1]},\"yaxis\":{\"range\":[0,1]},\"shapes\":[{\"line\":{\"color\":\"#1b0eb3\"},\"type\":\"rect\",\"x0\":0.028881309553980827,\"x1\":0.9711187481880188,\"y0\":0.003920121118426323,\"y1\":0.9960799217224121},{\"line\":{\"color\":\"#369199\"},\"type\":\"rect\",\"x0\":0.018294235691428185,\"x1\":0.9817058444023132,\"y0\":0.04182852432131767,\"y1\":0.9581714272499084},{\"line\":{\"color\":\"#6801a8\"},\"type\":\"rect\",\"x0\":0.02997872605919838,\"x1\":0.9700212478637695,\"y0\":0.043274033814668655,\"y1\":0.9567260146141052},{\"line\":{\"color\":\"#8544cf\"},\"type\":\"rect\",\"x0\":0.043502796441316605,\"x1\":0.9564972519874573,\"y0\":0.04428693652153015,\"y1\":0.9557130336761475}],\"margin\":{\"l\":80,\"r\":80,\"t\":80,\"b\":80}},                        {\"responsive\": true}                    ).then(function(){\n",
              "                            \n",
              "var gd = document.getElementById('162c8350-9327-4441-8fcd-11f829d637a0');\n",
              "var x = new MutationObserver(function (mutations, observer) {{\n",
              "        var display = window.getComputedStyle(gd).display;\n",
              "        if (!display || display === 'none') {{\n",
              "            console.log([gd, 'removed!']);\n",
              "            Plotly.purge(gd);\n",
              "            observer.disconnect();\n",
              "        }}\n",
              "}});\n",
              "\n",
              "// Listen for the removal of the full notebook cells\n",
              "var notebookContainer = gd.closest('#notebook-container');\n",
              "if (notebookContainer) {{\n",
              "    x.observe(notebookContainer, {childList: true});\n",
              "}}\n",
              "\n",
              "// Listen for the clearing of the current output cell\n",
              "var outputEl = gd.closest('.output');\n",
              "if (outputEl) {{\n",
              "    x.observe(outputEl, {childList: true});\n",
              "}}\n",
              "\n",
              "                        })                };                });            </script>        </div>"
            ]
          },
          "metadata": {},
          "output_type": "display_data"
        }
      ],
      "source": [
        "import matplotlib.patches as patches\n",
        "from copy import copy\n",
        "import matplotlib.pyplot as plt\n",
        "import matplotlib.patches as patches\n",
        "import matplotlib._color_data as mcd\n",
        "import random\n",
        "import plotly.graph_objects as go\n",
        "\n",
        "colors = [name for name in mcd.CSS4_COLORS\n",
        "           if \"xkcd:\" + name in mcd.XKCD_COLORS]\n",
        "\n",
        "\n",
        "def extract_embeddings(boxes):\n",
        "        list_box = []\n",
        "        list_box.append(boxes.z.data.tolist())\n",
        "        list_box.append(boxes.Z.data.tolist())\n",
        "        rect = patches.Rectangle((list_box[0][0], list_box[0][1]), \n",
        "                    list_box[1][0] - list_box[0][0], \n",
        "                    list_box[1][1] - list_box[0][1])\n",
        "        \n",
        "        rx, ry = rect.get_xy()\n",
        "        cx = rx + rect.get_width()/2.0\n",
        "        cy = ry + rect.get_height()/2.0\n",
        "\n",
        "        return rect, [list_box[0][0], list_box[0][1], list_box[1][0], list_box[1][1]], cx, cy\n",
        "\n",
        "lis_all = list(range(4))\n",
        "center_x = []\n",
        "center_y = []\n",
        "words = []\n",
        "all_rect = []\n",
        "points = []\n",
        "\n",
        "for i in lis_all:\n",
        "    emb = boxes_target[i]\n",
        "    rect, p, cx, cy = extract_embeddings(emb)\n",
        "    all_rect.append(rect)\n",
        "    points.append(p)\n",
        "    center_x.append(cx)\n",
        "    center_y.append(cy)\n",
        "    words.append(str(i))\n",
        "\n",
        "fig = go.Figure()\n",
        "\n",
        "fig.add_trace(\n",
        "    go.Scatter(\n",
        "        x=center_x,\n",
        "        y=center_y,\n",
        "        mode=\"text\",\n",
        "        text=words,\n",
        "        textposition=\"middle center\",\n",
        "        textfont=dict(color=\"black\"),\n",
        "    )\n",
        ")\n",
        "\n",
        "fig.update_xaxes(range=[0, 1])\n",
        "fig.update_yaxes(range=[0, 1])\n",
        "\n",
        "for i, point in enumerate(points):\n",
        "  color = \"#%06x\" % random.randint(0, 0xFFFFFF)\n",
        "  fig.add_shape(type=\"rect\",\n",
        "      x0=point[0], y0=point[1], x1=point[2], y1=point[3],\n",
        "      line=dict(color=color),\n",
        "  )\n",
        "\n",
        "fig.update_layout(margin=dict(l=80, r=80, t=80, b=80),)\n"
      ]
    },
    {
      "cell_type": "code",
      "execution_count": null,
      "metadata": {
        "colab": {
          "base_uri": "https://localhost:8080/"
        },
        "id": "zNaZOaM6EhOb",
        "outputId": "61437fc9-4c77-402c-be28-fd5f7051d900"
      },
      "outputs": [
        {
          "name": "stdout",
          "output_type": "stream",
          "text": [
            "Requirement already satisfied: torchtext in /usr/local/lib/python3.7/dist-packages (0.11.0)\n",
            "Requirement already satisfied: torch==1.10.0 in /usr/local/lib/python3.7/dist-packages (from torchtext) (1.10.0+cu111)\n",
            "Requirement already satisfied: requests in /usr/local/lib/python3.7/dist-packages (from torchtext) (2.23.0)\n",
            "Requirement already satisfied: numpy in /usr/local/lib/python3.7/dist-packages (from torchtext) (1.19.5)\n",
            "Requirement already satisfied: tqdm in /usr/local/lib/python3.7/dist-packages (from torchtext) (4.62.3)\n",
            "Requirement already satisfied: typing-extensions in /usr/local/lib/python3.7/dist-packages (from torch==1.10.0->torchtext) (3.10.0.2)\n",
            "Requirement already satisfied: urllib3!=1.25.0,!=1.25.1,<1.26,>=1.21.1 in /usr/local/lib/python3.7/dist-packages (from requests->torchtext) (1.24.3)\n",
            "Requirement already satisfied: chardet<4,>=3.0.2 in /usr/local/lib/python3.7/dist-packages (from requests->torchtext) (3.0.4)\n",
            "Requirement already satisfied: certifi>=2017.4.17 in /usr/local/lib/python3.7/dist-packages (from requests->torchtext) (2021.10.8)\n",
            "Requirement already satisfied: idna<3,>=2.5 in /usr/local/lib/python3.7/dist-packages (from requests->torchtext) (2.10)\n"
          ]
        }
      ],
      "source": [
        "import matplotlib.patches as patches\n",
        "\n",
        "volume_ = Volume(volume_temperature=0, intersection_temperature=0)\n",
        "intersection_ = Intersection(intersection_temperature=0.0001)\n",
        "\n",
        "print(\"volume red \", torch.exp(volume_(box_target)).item())\n",
        "print(\"volume purple \",torch.exp(volume_(box_negative_2)).item())\n",
        "print(\"volume green\", torch.exp(volume_(box_positive)).item())\n",
        "print(\"volume black \", torch.exp(volume_(box_negative)).item())\n",
        "\n",
        "volumes = volume_(intersection_(box_target, box_target))\n",
        "volumes_2 = volume_(intersection_(box_negative_2, box_target))\n",
        "volumes_3 = volume_(intersection_(box_negative, box_target))\n",
        "\n",
        "print(\"volume itersezione green-red \", torch.exp(volumes).item())\n",
        "print(\"volume intersezione purple-red \", torch.exp(volumes_2).item())\n",
        "print(\"volume intersezione black-red \", torch.exp(volumes_3).item())\n",
        "\n",
        "\n",
        "target_list = extract_embeddings(box_target)\n",
        "context_list = extract_embeddings(box_positive)\n",
        "negative_list_2 = extract_embeddings(box_negative_2)\n",
        "negative_list = extract_embeddings(box_negative)\n",
        "\n",
        "\n",
        "def load_boxes(box, color):\n",
        "\n",
        "  rect = patches.Rectangle((box[0][0], box[0][1]), \n",
        "                              box[1][0] - box[0][0], \n",
        "                              box[1][1] - box[0][1], \n",
        "                              facecolor=color, edgecolor = color, alpha=0.4)\n",
        "      \n",
        "  \n",
        "  return rect\n",
        "\n",
        "rect_target = load_boxes(target_list, \"red\")\n",
        "rect_positive = load_boxes(context_list, \"green\")\n",
        "rect_negative = load_boxes(negative_list, \"black\")\n",
        "rect_negative_2 = load_boxes(negative_list_2, \"purple\")\n",
        "\n",
        "\n",
        "fig, ax = plt.subplots(figsize=(30, 10))\n",
        "plt.xlim([0, +1])\n",
        "plt.ylim([0, +1])\n",
        "\n",
        "\n",
        "ax.add_patch(rect_target)\n",
        "ax.add_patch(rect_positive)\n",
        "ax.add_patch(rect_negative_2)\n",
        "ax.add_patch(rect_negative)\n",
        "ax.legend()"
      ]
    }
  ],
  "metadata": {
    "colab": {
      "collapsed_sections": [],
      "name": "toy_box_embeddings.ipynb",
      "provenance": []
    },
    "kernelspec": {
      "display_name": "Python 3",
      "name": "python3"
    },
    "language_info": {
      "codemirror_mode": {
        "name": "ipython",
        "version": 3
      },
      "file_extension": ".py",
      "mimetype": "text/x-python",
      "name": "python",
      "nbconvert_exporter": "python",
      "pygments_lexer": "ipython3",
      "version": "3.8.10"
    },
    "widgets": {
      "application/vnd.jupyter.widget-state+json": {
        "73f9960b59a74e32926c76a415835baa": {
          "model_module": "@jupyter-widgets/base",
          "model_module_version": "1.2.0",
          "model_name": "LayoutModel",
          "state": {
            "_model_module": "@jupyter-widgets/base",
            "_model_module_version": "1.2.0",
            "_model_name": "LayoutModel",
            "_view_count": null,
            "_view_module": "@jupyter-widgets/base",
            "_view_module_version": "1.2.0",
            "_view_name": "LayoutView",
            "align_content": null,
            "align_items": null,
            "align_self": null,
            "border": null,
            "bottom": null,
            "display": null,
            "flex": null,
            "flex_flow": null,
            "grid_area": null,
            "grid_auto_columns": null,
            "grid_auto_flow": null,
            "grid_auto_rows": null,
            "grid_column": null,
            "grid_gap": null,
            "grid_row": null,
            "grid_template_areas": null,
            "grid_template_columns": null,
            "grid_template_rows": null,
            "height": null,
            "justify_content": null,
            "justify_items": null,
            "left": null,
            "margin": null,
            "max_height": null,
            "max_width": null,
            "min_height": null,
            "min_width": null,
            "object_fit": null,
            "object_position": null,
            "order": null,
            "overflow": null,
            "overflow_x": null,
            "overflow_y": null,
            "padding": null,
            "right": null,
            "top": null,
            "visibility": null,
            "width": null
          }
        },
        "885fbc2c9e4447aaa775555576c034af": {
          "model_module": "@jupyter-widgets/base",
          "model_module_version": "1.2.0",
          "model_name": "LayoutModel",
          "state": {
            "_model_module": "@jupyter-widgets/base",
            "_model_module_version": "1.2.0",
            "_model_name": "LayoutModel",
            "_view_count": null,
            "_view_module": "@jupyter-widgets/base",
            "_view_module_version": "1.2.0",
            "_view_name": "LayoutView",
            "align_content": null,
            "align_items": null,
            "align_self": null,
            "border": null,
            "bottom": null,
            "display": null,
            "flex": null,
            "flex_flow": null,
            "grid_area": null,
            "grid_auto_columns": null,
            "grid_auto_flow": null,
            "grid_auto_rows": null,
            "grid_column": null,
            "grid_gap": null,
            "grid_row": null,
            "grid_template_areas": null,
            "grid_template_columns": null,
            "grid_template_rows": null,
            "height": null,
            "justify_content": null,
            "justify_items": null,
            "left": null,
            "margin": null,
            "max_height": null,
            "max_width": null,
            "min_height": null,
            "min_width": null,
            "object_fit": null,
            "object_position": null,
            "order": null,
            "overflow": null,
            "overflow_x": null,
            "overflow_y": null,
            "padding": null,
            "right": null,
            "top": null,
            "visibility": null,
            "width": null
          }
        },
        "b119c6cebc2849709b62aff84d5de998": {
          "model_module": "@jupyter-widgets/output",
          "model_module_version": "1.0.0",
          "model_name": "OutputModel",
          "state": {
            "_dom_classes": [],
            "_model_module": "@jupyter-widgets/output",
            "_model_module_version": "1.0.0",
            "_model_name": "OutputModel",
            "_view_count": null,
            "_view_module": "@jupyter-widgets/output",
            "_view_module_version": "1.0.0",
            "_view_name": "OutputView",
            "layout": "IPY_MODEL_73f9960b59a74e32926c76a415835baa",
            "msg_id": "",
            "outputs": [
              {
                "data": {
                  "image/png": "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\n",
                  "text/plain": "<Figure size 2160x720 with 1 Axes>"
                },
                "metadata": {
                  "needs_background": "light"
                },
                "output_type": "display_data"
              }
            ]
          }
        },
        "c150afe7c8434671aa603c0208793e7b": {
          "model_module": "@jupyter-widgets/base",
          "model_module_version": "1.2.0",
          "model_name": "LayoutModel",
          "state": {
            "_model_module": "@jupyter-widgets/base",
            "_model_module_version": "1.2.0",
            "_model_name": "LayoutModel",
            "_view_count": null,
            "_view_module": "@jupyter-widgets/base",
            "_view_module_version": "1.2.0",
            "_view_name": "LayoutView",
            "align_content": null,
            "align_items": null,
            "align_self": null,
            "border": null,
            "bottom": null,
            "display": null,
            "flex": null,
            "flex_flow": null,
            "grid_area": null,
            "grid_auto_columns": null,
            "grid_auto_flow": null,
            "grid_auto_rows": null,
            "grid_column": null,
            "grid_gap": null,
            "grid_row": null,
            "grid_template_areas": null,
            "grid_template_columns": null,
            "grid_template_rows": null,
            "height": null,
            "justify_content": null,
            "justify_items": null,
            "left": null,
            "margin": null,
            "max_height": null,
            "max_width": null,
            "min_height": null,
            "min_width": null,
            "object_fit": null,
            "object_position": null,
            "order": null,
            "overflow": null,
            "overflow_x": null,
            "overflow_y": null,
            "padding": null,
            "right": null,
            "top": null,
            "visibility": null,
            "width": null
          }
        },
        "cc14ab9aa3284750a8d41b171b1347a5": {
          "model_module": "@jupyter-widgets/controls",
          "model_module_version": "1.5.0",
          "model_name": "VBoxModel",
          "state": {
            "_dom_classes": [
              "widget-interact"
            ],
            "_model_module": "@jupyter-widgets/controls",
            "_model_module_version": "1.5.0",
            "_model_name": "VBoxModel",
            "_view_count": null,
            "_view_module": "@jupyter-widgets/controls",
            "_view_module_version": "1.5.0",
            "_view_name": "VBoxView",
            "box_style": "",
            "children": [
              "IPY_MODEL_d741834f5c534076aeaea33459c3f5d5",
              "IPY_MODEL_b119c6cebc2849709b62aff84d5de998"
            ],
            "layout": "IPY_MODEL_c150afe7c8434671aa603c0208793e7b"
          }
        },
        "d741834f5c534076aeaea33459c3f5d5": {
          "model_module": "@jupyter-widgets/controls",
          "model_module_version": "1.5.0",
          "model_name": "IntSliderModel",
          "state": {
            "_dom_classes": [],
            "_model_module": "@jupyter-widgets/controls",
            "_model_module_version": "1.5.0",
            "_model_name": "IntSliderModel",
            "_view_count": null,
            "_view_module": "@jupyter-widgets/controls",
            "_view_module_version": "1.5.0",
            "_view_name": "IntSliderView",
            "continuous_update": true,
            "description": "epoch",
            "description_tooltip": null,
            "disabled": false,
            "layout": "IPY_MODEL_885fbc2c9e4447aaa775555576c034af",
            "max": 49,
            "min": 0,
            "orientation": "horizontal",
            "readout": true,
            "readout_format": "d",
            "step": 1,
            "style": "IPY_MODEL_da1e7a39a10140b58f9d8fd049ea6023",
            "value": 6
          }
        },
        "da1e7a39a10140b58f9d8fd049ea6023": {
          "model_module": "@jupyter-widgets/controls",
          "model_module_version": "1.5.0",
          "model_name": "SliderStyleModel",
          "state": {
            "_model_module": "@jupyter-widgets/controls",
            "_model_module_version": "1.5.0",
            "_model_name": "SliderStyleModel",
            "_view_count": null,
            "_view_module": "@jupyter-widgets/base",
            "_view_module_version": "1.2.0",
            "_view_name": "StyleView",
            "description_width": "",
            "handle_color": null
          }
        }
      }
    }
  },
  "nbformat": 4,
  "nbformat_minor": 0
}
